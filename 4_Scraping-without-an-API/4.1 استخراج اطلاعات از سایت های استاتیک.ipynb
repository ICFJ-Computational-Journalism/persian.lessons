{
 "cells": [
  {
   "cell_type": "markdown",
   "metadata": {
    "id": "hpVDfrBQBjb6"
   },
   "source": [
    "<h3 dir=\"rtl\">\n",
    "استخراج اطلاعات از سایتهای استاتیک\n",
    "</h3>"
   ]
  },
  {
   "cell_type": "markdown",
   "metadata": {},
   "source": [
    "<a href=\"https://www.youtube.com/watch?v=JpKnfVRHwQY&list=PLY_JJbHwd6kftjlcbtChIKZfEPEfFRGcY&index=14&ab_channel=TheInternationalJournalists%27Network\">\n",
    "<img src=\"https://dotnet-talk.com/images/icfj/4_1.jpg\" width=\"50%\" alt=\"استخراج اطلاعات از سایتهای استاتیک - ویدیو\" />\n",
    "</a>"
   ]
  },
  {
   "cell_type": "markdown",
   "metadata": {
    "id": "W5ywpKTWma4Q"
   },
   "source": [
    "<h4 dir=\"rtl\">\n",
    "استخراج اطلاعات چیست؟\n",
    "</h4>\n",
    "\n",
    "<br />\n",
    "\n",
    "<div dir=\"rtl\">\n",
    "استخراج اطلاعات (Scraping) فرایندی است که با استفاده از کد، امکان جمع آوری خودکار داده‌ها از وبسایت‌ها را فراهم می‌کند. این مشابه داشتن یک ربات است که کار کپی کردن و الصاق اطلاعات از صفحات مختلف یک وبسایت را انجام می‌دهد، با این تفاوت که ربات در اینجا یک برنامه‌ی کامپیوتری است که ما آن را نوشته‌ایم.\n",
    "</div>\n",
    "\n",
    "<h4 dir=\"rtl\">\n",
    "چرا افراد استخراج اطلاعات می‌کنند؟\n",
    "</h4>\n",
    "\n",
    "\n",
    "<div dir=\"rtl\">\n",
    "افراد برای اهداف مختلف از وبسایت‌ها استخراج اطلاعات می‌کنند، مانند تحقیقات بازار، تولید سرنخ، ایجاد محتوا و تحلیل داده. این روش، راهی برای جمع‌آوری حجم بزرگی از داده‌ها به صورت سریع و کارآمد است. یکی از مزایای کلیدی استخراج اطلاعات از وب در روزنامه‌نگاری، قابلیت جمع‌آوری داده برای گزارش‌های تحقیقاتی است. روزنامه‌نگاران می‌توانند اطلاعات را از پایگاه داده‌های دولتی، وبسایت‌های شرکتی و منابع دیگر استخراج کنند تا اطلاعات پنهان را فاش کرده و منابع ممکن برای گزارش‌ها را شناسایی کنند. علاوه بر این، استخراج اطلاعات از وب به روزنامه‌نگاران کمک می‌کند تا الگوها و روندهایی را کشف کنند که احتمالاً به سرعت قابل تشخیص نیستند، همچنین اخبار و رسانه‌های اجتماعی را برای شکستن اخبار، روندها یا گفتگوها درباره موضوعات خاص نظارت کنند. این داده‌ها می‌توانند برای ایجاد تجسم‌های داده استفاده شوند که به خوانندگان کمک می‌کند تا اطلاعات پیچیده را درک کنند، همچنین ادعاهای انجام شده توسط سیاستمداران یا شخصیت‌های عمومی را تحقق دهند. به طور کلی، استخراج اطلاعات از وب ابزاری قدرتمند برای روزنامه‌نگاران است تا داده‌ها را جمع‌آوری و تحلیل کنند، داستان‌ها را کشف کنند و بازوی قدرت را برای مسئولیت‌پذیری در دست بگیرند.\n",
    "</div>\n",
    "<br />\n",
    "<div dir=\"rtl\">\n",
    "در ادامه چند نمونه از پروژه‌هایی که مرتبط با استخراج اطلاعات از وب هستند را مشاهده می‌کنید:\n",
    "</div>\n",
    "<br />\n",
    "<ol dir=\"rtl\">\n",
    "  <li>تحلیل مالیاتی کمپین‌های سیاسی: یک روزنامه‌نگار تحقیقاتی ممکن است از استخراج اطلاعات از وب برای جمع‌آوری داده‌های گزارش‌های مالیاتی کمپین‌های سیاسی و احزاب استفاده کند تا الگوهای حمایت مالی را فاش کند.</li>\n",
    "  <li>نقشه‌برداری بازار املاک: یک روزنامه‌نگار داده ممکن است با استفاده از استخراج اطلاعات از وب، اطلاعاتی از وبسایت‌های املاک را جمع‌آوری کند تا روندها در قیمت ملک و نرخ اجاره در مناطق مختلف کشور را تحلیل کند.</li>\n",
    "  <li>پیگیری آمارهای بهداشتی: یک خبرنگار بهداشت ممکن است با استخراج اطلاعات از وب، داده‌های مربوط به نشانگرهای بهداشت عمومی مانند نرخ واکسیناسیون یا ورود به بیمارستان را جمع‌آوری کند تا روندها را پایش کند و مناطق ممکن را بشناسد.</li>\n",
    "  <li>پایش خطرات زیست‌محیطی: یک روزنامه‌نگار محیط‌زیست ممکن است با استخراج اطلاعات از وب، داده‌های مربوط به سطوح آلودگی و خطرات زیست‌محیطی مانند آلودگی‌های صنعتی یا مکان‌های زباله سمی را جمع‌آوری کند تا تأثیر صنعت بر محیط زیست را پیگیری کند.</li>\n",
    "  <li>بررسی شبکه‌های رسانه‌های اجتماعی: یک روزنامه‌نگار تحقیقاتی ممکن است با استخراج اطلاعات از وب، داده‌های مربوط به فعالیت رسانه‌های اجتماعی مانند روند هشتگ‌ها و رفتار کاربران را جمع‌آوری کند تا ارتباطات محتمل بین گروه‌ها یا افراد سیاسی را فاش کند.</li>\n",
    "</ol>\n",
    "\n",
    "<br />\n",
    "<h4 dir=\"rtl\">از روش‌های مختلفی استفاده می‌شود؟</h4>\n",
    "<br />\n",
    "\n",
    "\n",
    "<div dir=\"rtl\">\n",
    "در زبان پایتون، دو روش اصلی برای استخراج اطلاعات از صفحات وب وجود دارد: استفاده از <a href=\"https://www.crummy.com/software/BeautifulSoup/bs4/doc/\">Beautiful Soup</a> برای صفحات استاتیک و استفاده از <a href=\"https://selenium-python.readthedocs.io\">Selenium</a> برای صفحات دینامیک. Beautiful Soup یک کتابخانه است که می‌تواند اطلاعات را از تگ‌های HTML استخراج کند، در حالی که Selenium قادر است کارهایی که ما در مرورگر انجام می‌دهیم مانند کلیک کردن و پر کردن فرم‌ها را انجام دهد. استفاده از Beautiful Soup ساده‌تر است، اما Selenium برای استخراج اطلاعات از صفحات دینامیک بیشتر منعطفی دارد. در اینجا، ما روش‌های استخراج اطلاعات از صفحات استاتیک را پوشش می‌دهیم، بنابراین فقط به Beautiful Soup خواهیم پرداخت. اما در دفترکار آینده، به Selenium خواهیم پرداخت.\n",
    "</div>\n",
    "\n",
    "<br />\n",
    "<h4  dir=\"rtl\">چه موانعی وجود دارد؟</h4>\n",
    "\n",
    "\n",
    "\n",
    "<div dir=\"rtl\">\n",
    "استخراج اطلاعات از صفحات وب می‌تواند یک وظیفه پیچیده و چالش‌برانگیز باشد و چندین مشکل و مانع وجود دارد که باید در نظر گرفته شود، از جمله:\n",
    "</div>\n",
    "<br />\n",
    "<ol dir=\"rtl\">\n",
    "<li>مسائل قانونی: استخراج اطلاعات ممکن است مخالف شرایط خدمات وبسایت باشد و در برخی موارد غیرقانونی باشد. بهتر است قبل از استخراج، شرایط خدمات وبسایت را مطالعه کرده و در صورت لزوم با کارشناسان حقوقی مشورت نمایید.</li>\n",
    "<li>اقدامات ضد استخراج: وبسایت‌ها ممکن است از اقدامات ضد استخراج مانند کپچا استفاده کنند تا از استخراج جلوگیری کنند.</li>\n",
    "<li>کیفیت داده: اطلاعات استخراج شده ممکن است ناقص، نادرست یا قدیمی باشد.</li>\n",
    "<li>تغییرات در وبسایت: وبسایت‌ها ممکن است ساختار یا محتوای خود را تغییر دهند که موجب شکستن اسکریپت‌های استخراج و نیاز به به‌روزرسانی شود.</li>\n",
    "<li>مشکلات عملکرد: استخراج حجم زیادی از داده‌ها ممکن است منابع سیستمی را به طور یکنواخت مصرف کند و باعث مشکلات عملکرد برای ابزار استخراج و یا وبسایت مورد استخراج شود.</li>\n",
    "</ol>"
   ]
  },
  {
   "cell_type": "markdown",
   "metadata": {
    "id": "D8qbf8-GoHH6"
   },
   "source": [
    "\n",
    "<h2 dir=\"rtl\">\n",
    "بازیابی و بررسی کد HTML\n",
    "</h2>"
   ]
  },
  {
   "cell_type": "markdown",
   "metadata": {
    "id": "RmtF3zm_MZeZ"
   },
   "source": [
    "\n",
    "<div dir=\"rtl\">\n",
    "فرض کنید مجموعه‌ای از لینک‌ها برای صفحات IMDb داریم که هر کدام مربوط به یک فیلم مختلف هستند. چگونه می‌توانیم عناوین این فیلم‌ها را استخراج کنیم؟\n",
    "</div>\n",
    "<br />\n",
    "<div dir=\"rtl\">\n",
    "گام اول نوشتن کدی برای دریافت صفحه HTML یک فیلم است. می‌توانیم از کتابخانه <a href=\"https://pypi.org/project/requests/\">requests</a> برای این کار استفاده کنیم.\n",
    "</div>"
   ]
  },
  {
   "cell_type": "code",
   "execution_count": null,
   "metadata": {
    "id": "M939S1YfyPS2"
   },
   "outputs": [],
   "source": [
    "import requests\n",
    "from bs4 import BeautifulSoup"
   ]
  },
  {
   "cell_type": "code",
   "execution_count": null,
   "metadata": {
    "colab": {
     "base_uri": "https://localhost:8080/",
     "height": 34
    },
    "id": "rpfUkeCQoDt-",
    "outputId": "516c710f-22af-47d7-8761-00cf1595fa78"
   },
   "outputs": [],
   "source": [
    "url = 'https://www.imdb.com/title/tt0133093/'\n",
    "response = requests.get(url)\n",
    "\n",
    "html = response.content\n",
    "display(html)"
   ]
  },
  {
   "cell_type": "markdown",
   "metadata": {
    "id": "3EPOICcQKUgc"
   },
   "source": [
    "<div dir=\"rtl\">\n",
    "در اینجا با یک مشکل مواجه می‌شویم که وبسایت تشخیص می‌دهد ما از طریق مرورگر وب به آن دسترسی نداریم و درخواست ما را مسدود می‌کند، بنابراین یک پیام \"Forbidden\" دریافت می‌کنیم. می‌توانیم هدر یا سربرگ درخواست خود را تغییر دهیم تا به نظر برسد از طرف یک مرورگر وب ارسال شده است:\n",
    "</div>"
   ]
  },
  {
   "cell_type": "code",
   "execution_count": null,
   "metadata": {
    "colab": {
     "base_uri": "https://localhost:8080/",
     "height": 1000
    },
    "id": "P2hmSD43IIfV",
    "outputId": "0220aa63-6474-44cc-bde9-add6a425f839"
   },
   "outputs": [],
   "source": [
    "headers = {'User-Agent': 'Mozilla/5.0 (Windows NT 10.0; Win64; x64) AppleWebKit/537.36 (KHTML, like Gecko) Chrome/58.0.3029.110 Safari/537.36'}\n",
    "response = requests.get(url, headers=headers)\n",
    "html = response.content\n",
    "display(html)"
   ]
  },
  {
   "cell_type": "markdown",
   "metadata": {
    "id": "G34dtu-WOy2_"
   },
   "source": [
    "<div dir=\"rtl\">\n",
    "ما در حال حاضر موفق به دریافت صفحه HTML مربوط به فیلم The Matrix شدیم. حالا نیاز داریم اطلاعات مربوطه را از صفحه استخراج کنیم. با بررسی HTML بالا، متوجه می‌شویم که عنوان فیلم در داخل اولین مجموعه تگ &lt;title&gt; قرار دارد (مشاهده کنید &lt;title&gt;The Matrix (1999) - IMDb&lt;/title&gt; در HTML بالا). بنابراین، می‌توانیم اکنون از `soup.find('title')` استفاده کنیم که رشته موجود در داخل تگ &lt;title&gt; را بدست آورده و عنوان فیلم را استخراج کنیم.\n",
    "</div>"
   ]
  },
  {
   "cell_type": "code",
   "execution_count": null,
   "metadata": {
    "colab": {
     "base_uri": "https://localhost:8080/"
    },
    "id": "CjzWbDotJahZ",
    "outputId": "5ebef7e3-590e-4934-80c4-64946598fa3d"
   },
   "outputs": [],
   "source": [
    "soup = BeautifulSoup(html, 'html.parser')\n",
    "\n",
    "# extract the movie title\n",
    "title = soup.find('title').text\n",
    "\n",
    "# print the extracted data\n",
    "print(f'Title: {title}')"
   ]
  },
  {
   "cell_type": "markdown",
   "metadata": {
    "id": "VMpQ1F-xRMWA"
   },
   "source": [
    "\n",
    "<div dir=\"rtl\">\n",
    "برای دریافت عنوان فیلم بدون قسمت \"- IMDb\" در انتها، می‌توانیم به شرح زیر عمل کنیم:\n",
    "</div>"
   ]
  },
  {
   "cell_type": "code",
   "execution_count": null,
   "metadata": {
    "colab": {
     "base_uri": "https://localhost:8080/"
    },
    "id": "iTISa_eFQuuu",
    "outputId": "34812587-2c7e-47ef-cf5b-d20b86d7b7cf"
   },
   "outputs": [],
   "source": [
    "title.split(' - ')[0]"
   ]
  },
  {
   "cell_type": "markdown",
   "metadata": {
    "id": "zwTb5EAILmQf"
   },
   "source": [
    "<div dir=\"rtl\">\n",
    "حالا که فرایند استخراج عنوان فیلم از صفحه IMDb را تشخیص دادیم، می‌توانیم آن را برای فیلم‌های دیگری مانند آواتار تکرار کنیم:\n",
    "</div>"
   ]
  },
  {
   "cell_type": "code",
   "execution_count": null,
   "metadata": {
    "colab": {
     "base_uri": "https://localhost:8080/"
    },
    "id": "FGOL0SQLKEFf",
    "outputId": "60d2af1c-8d29-4cbd-ec36-fe96ef141bfd"
   },
   "outputs": [],
   "source": [
    "url = 'https://www.imdb.com/title/tt0499549/'\n",
    "response = requests.get(url, headers=headers)\n",
    "html = response.content\n",
    "\n",
    "soup = BeautifulSoup(html, 'html.parser')\n",
    "\n",
    "# extract the movie title\n",
    "title = soup.find('title').text.split(' - ')[0]\n",
    "\n",
    "# print the extracted data\n",
    "print(f'Title: {title}')"
   ]
  },
  {
   "cell_type": "markdown",
   "metadata": {
    "id": "3Y1YU6-Bxexo"
   },
   "source": [
    "<h4 dir=\"rtl\">\n",
    "ابزار Inspect در Chrome\n",
    "</h4>"
   ]
  },
  {
   "attachments": {
    "inspect-2.png": {
     "image/png": "[encoded data removed]"
    }
   },
   "cell_type": "markdown",
   "metadata": {
    "id": "KKNiQAI4P2cC"
   },
   "source": [
    "\n",
    "<div dir=\"rtl\">\n",
    "برای کمک به ما در تعیین تگ ها HTML، می‌توانیم از ابزار بررسی (Inspect) در مرورگر گوگل کروم استفاده کنیم.\n",
    "</div>\n",
    "<br />\n",
    "<div dir=\"rtl\">\n",
    "ابتدا، می‌توانیم به وبسایت CNN.com در مرورگر وب مراجعه کنیم و روی صفحه کلیک راست کرده و منوی راست‌کلیک را باز کنیم. سپس می‌توانیم \"Inspect\" را انتخاب کنیم تا ابزارهای توسعه Development Tools در مرورگر باز شود.\n",
    "\n",
    "</div>\n",
    "\n",
    "![The context menu pops up when you right-click ona web page](attachment:inspect-2.png)"
   ]
  },
  {
   "attachments": {
    "select-element.png": {
     "image/png": "[encoded data removed]"
    }
   },
   "cell_type": "markdown",
   "metadata": {},
   "source": [
    "\n",
    "<div dir=\"rtl\">\n",
    "با باز شدن ابزارهای توسعه، می‌توانیم با استفاده از نشانگر موس روی عناصر مختلف صفحه حرکت دهیم و ساختار آنها در کد HTML را مشاهده کنیم. همچنین می‌توانیم از ابزار \"Select Element\" (که شبیه نشانگری با یک جعبه پیرامون آن است) استفاده کنیم تا روی یک عنصر کلیک کنیم و کد HTML مربوط به آن عنصر را در ابزارهای توسعه ببینیم.\n",
    "</div>\n",
    "\n",
    "![The \"Select element\" tool](attachment:select-element.png)\n",
    "\n",
    "<div dir=\"rtl\">\n",
    "به عنوان مثال، فرض کنید می‌خواهیم عناوین از صفحه اصلی سی‌ان‌ان را استخراج کنیم. با استفاده از ابزار \"Select Element\"، می‌توانیم روی یکی از عناوین کلیک کنیم و کد HTML مربوط به آن عنوان را در ابزارهای توسعه مشاهده کنیم. می‌توانیم ببینیم که عنوان در داخل یک تگ <span style=\"color: orange\">&lt;span&gt;</span> با ویژگی \"data-editable\" که به \"عنوان\" تنظیم شده است، قرار دارد.\n",
    "\n",
    "</div>\n",
    "<br />\n",
    "<div dir=\"rtl\">\n",
    "می‌توانیم از Beautiful Soup برای استخراج تمامی عناوین از صفحه استفاده کنیم، با یافتن تمام تگهای <span style=\"color: orange\">&lt;span&gt;</span> با این کلاس و ویژگی \"data-editable\" که به \"عنوان\" تنظیم شده‌اند و استخراج متن آنها:\n",
    "</div>"
   ]
  },
  {
   "cell_type": "code",
   "execution_count": null,
   "metadata": {
    "colab": {
     "base_uri": "https://localhost:8080/"
    },
    "id": "VByyr6rjXRz9",
    "outputId": "08177e6d-dba1-4be3-c276-47ceaa6fa2d1"
   },
   "outputs": [],
   "source": [
    "# Make a request to the CNN website\n",
    "response = requests.get('https://www.cnn.com/')\n",
    "\n",
    "# Create a BeautifulSoup object from the HTML content\n",
    "soup = BeautifulSoup(response.content, 'html.parser')\n",
    "\n",
    "# Find all the headline elements using the 'span' tag and 'data-editable' attribute\n",
    "headline_elements = soup.find_all('span', {'data-editable': 'headline'})\n",
    "\n",
    "# Extract the text content of each headline element\n",
    "headlines = [element.text.strip() for element in headline_elements]\n",
    "\n",
    "# Print the headlines\n",
    "print(headlines)"
   ]
  },
  {
   "cell_type": "markdown",
   "metadata": {
    "id": "Kenhs_drxmso"
   },
   "source": [
    "<h3 dir=\"rtl\">\n",
    "نمونه‌های بیشتر\n",
    "</h3>\n",
    "<br />\n",
    "<div dir=\"rtl\">\n",
    "ما از طریق چند نمونه به بررسی برخی از تگ‌های معمول HTML و نحوه استفاده از آنها برای استخراج اطلاعات می‌پردازیم.\n",
    "</div>"
   ]
  },
  {
   "cell_type": "markdown",
   "metadata": {
    "id": "ki1MBOyQoPIh"
   },
   "source": [
    "<h4 dir=\"rtl\">\n",
    "مثال 1: استخراج لینک ها\n",
    "</h4>"
   ]
  },
  {
   "cell_type": "code",
   "execution_count": null,
   "metadata": {
    "colab": {
     "base_uri": "https://localhost:8080/"
    },
    "id": "SoeTPMXQoOTa",
    "outputId": "bc52c6ff-573b-4578-f889-ad3a129990ed"
   },
   "outputs": [],
   "source": [
    "url = 'https://www.tasnimnews.com/fa'\n",
    "response = requests.get(url)\n",
    "\n",
    "soup = BeautifulSoup(response.content, 'html.parser')\n",
    "links = soup.find_all('a')\n",
    "\n",
    "for link in links:\n",
    "    href = link.get('href')\n",
    "    if href and href.startswith('http'):\n",
    "        print(href)"
   ]
  },
  {
   "cell_type": "markdown",
   "metadata": {
    "id": "UMhl76MqocUU"
   },
   "source": [
    "<div dir=\"rtl\">\n",
    "این کد از BeautifulSoup برای تجزیه کد HTML وبسایت آژانس خبری ایسنا استفاده می‌کند و تمام تگ ها <span style=\"color: orange\">&lt;a&gt;</span> را پیدا می‌کند. سپس ویژگی href هر پیوند را استخراج کرده و آن را چاپ می‌کند، اما تنها اگر با \"http\" شروع شود، تا پیوندهای داخلی را حذف کند.\n",
    "</div>"
   ]
  },
  {
   "cell_type": "markdown",
   "metadata": {
    "id": "WtQwKF_8oi3s"
   },
   "source": [
    "<h4 dir=\"rtl\">\n",
    "مثال ۲: استخراج تصاویر\n",
    "</h4>"
   ]
  },
  {
   "cell_type": "code",
   "execution_count": null,
   "metadata": {
    "colab": {
     "base_uri": "https://localhost:8080/"
    },
    "id": "FmbZvlvnofwX",
    "outputId": "fcf7ecbb-3c27-4cd0-a4db-6d3d34586ba4"
   },
   "outputs": [],
   "source": [
    "url = 'https://www.tasnimnews.com/fa'\n",
    "response = requests.get(url)\n",
    "\n",
    "soup = BeautifulSoup(response.content, 'html.parser')\n",
    "images = soup.find_all('img')\n",
    "\n",
    "for image in images:\n",
    "    src = image.get('src')\n",
    "    if src and src.startswith('http'):\n",
    "        print(src)"
   ]
  },
  {
   "cell_type": "markdown",
   "metadata": {
    "id": "KBRptgYTo0v3"
   },
   "source": [
    "<h4 dir=\"rtl\">\n",
    "مثال 3: استخراج متن\n",
    "</h4>\n"
   ]
  },
  {
   "cell_type": "code",
   "execution_count": null,
   "metadata": {
    "colab": {
     "base_uri": "https://localhost:8080/"
    },
    "id": "_6THl3rtonF8",
    "outputId": "d34a564e-d3d9-4877-c7c6-6a4c7857cd60"
   },
   "outputs": [],
   "source": [
    "url = 'https://www.cnn.com/'\n",
    "response = requests.get(url)\n",
    "\n",
    "soup = BeautifulSoup(response.content, 'html.parser')\n",
    "text = soup.get_text()\n",
    "\n",
    "print(text)"
   ]
  },
  {
   "cell_type": "markdown",
   "metadata": {
    "id": "7M3FQJtoo3Vd"
   },
   "source": [
    "\n",
    "<div dir=\"rtl\">\n",
    "این کد از BeautifulSoup برای تجزیه کد HTML وبسایت سی‌ان‌ان استفاده می‌کند و تمام محتوای متنی را استخراج می‌کند. سپس متن را چاپ می‌کند، که شامل تمام متن قابل مشاهده در صفحه و همچنین متن داخل عناصر HTML می‌شود.\n",
    "</div>"
   ]
  },
  {
   "cell_type": "code",
   "execution_count": null,
   "metadata": {
    "colab": {
     "base_uri": "https://localhost:8080/"
    },
    "id": "DhENU2h0yKj7",
    "outputId": "c97fd2f8-a3ae-4b5d-9ec1-cf1dfd2160e2"
   },
   "outputs": [],
   "source": [
    "import requests\n",
    "from bs4 import BeautifulSoup\n",
    "\n",
    "# URL of the CNN website section you want to scrape\n",
    "url = 'https://www.cnn.com/'\n",
    "\n",
    "# Send a GET request to the URL\n",
    "response = requests.get(url)\n",
    "\n",
    "# Check if the request was successful\n",
    "if response.status_code == 200:\n",
    "    # Parse the HTML content using BeautifulSoup\n",
    "    soup = BeautifulSoup(response.content, 'html.parser')\n",
    "\n",
    "    # Find the elements containing the desired data\n",
    "    data_elements = soup.find_all('span', {'data-editable': 'headline'})\n",
    "\n",
    "    # Process the data elements\n",
    "    scraped_data = []\n",
    "    for element in data_elements:\n",
    "        # Extract the specific information you need from each element\n",
    "        data = element.text.strip()\n",
    "        # Append the extracted data to the list\n",
    "        scraped_data.append(data)\n",
    "\n",
    "    # Save the scraped data to a file (append mode)\n",
    "    with open('data.txt', 'a') as file:\n",
    "        for data in scraped_data:\n",
    "            file.write(data + '\\n')\n",
    "\n",
    "    # Optionally, you can print the scraped data\n",
    "    for data in scraped_data:\n",
    "        print(data)"
   ]
  }
 ],
 "metadata": {
  "colab": {
   "provenance": []
  },
  "kernelspec": {
   "display_name": "Python 3 (ipykernel)",
   "language": "python",
   "name": "python3"
  },
  "language_info": {
   "codemirror_mode": {
    "name": "ipython",
    "version": 3
   },
   "file_extension": ".py",
   "mimetype": "text/x-python",
   "name": "python",
   "nbconvert_exporter": "python",
   "pygments_lexer": "ipython3",
   "version": "3.10.11"
  }
 },
 "nbformat": 4,
 "nbformat_minor": 1
}
