{
 "cells": [
  {
   "cell_type": "markdown",
   "metadata": {
    "id": "T-6r-c23G-kh"
   },
   "source": [
    "<h2 dir=\"rtl\"> اسکریپ کردن سایت‌های پویا: مقدمه‌ای بر سلنیوم</h2>\n",
    "<br />\n",
    "\n",
    "<a href=\"https://www.youtube.com/watch?v=X5Fkym8Fl3M&list=PLY_JJbHwd6kftjlcbtChIKZfEPEfFRGcY&index=15&ab_channel=TheInternationalJournalists%27Network\">\n",
    "<img src=\"https://dotnet-talk.com/images/icfj/4_2.jpg\" width=\"50%\" alt=\"اسکریپ کردن سایت‌های پویا: مقدمه‌ای بر سلنیوم - ویدیو\" />\n",
    "</a>\n"
   ]
  },
  {
   "cell_type": "markdown",
   "metadata": {},
   "source": [
    "<div dir=\"rtl\">\n",
    "در این نوت‌بوک شما را با سِلِنیوم آشنا می‌کن؛ نرم‌افزاری که امکانات بیشتری در خصوص وب اسکریپینگ در اختیار شما قرار می‌دهد.\n",
    "</div>\n",
    "<div dir=\"rtl\">\n",
    "زمانی که می خواهید داده هایی را از صفحه وب استخراج کنید که نیازی به تعامل کاربر ندارد، می توانید از کتابخانه Requests برای ارسال درخواست HTTP به صفحه وب و بازیابی محتوای HTML استفاده کنید. سپس می توانید از Beautiful Soup برای تجزیه HTML و استخراج اطلاعات مربوطه استفاده کنید. امااگر یک صفحه وب نیاز به تعامل کاربر داشته باشد، مانند کلیک کردن روی یک گزینه یا پر کردن یک فرم، باید از ابزاری مانند سلنیوم برای خودکار کردن این تعاملات و استخراج داده ها استفاده کنید. به عبارت دیگر، شما می‌توانید از Requests و Beautiful Soup برای صفحات وب ایستایی که نیازی به تعامل کاربر ندارند، استفاده کنید، اما برای صفحات وب پویا که نیاز به تعامل کاربر دارند، باید از سلنیوم استفاده کنید.\n",
    "</div>\n",
    "<div dir=\"rtl\">\n",
    "فرض کنید می‌خواهید وب‌سایتی را اسکریپ کنید که قبل از دسترسی به محتوای آن باید با نام کاربری و رمز عبور و یا روش‌های دیگر وارد سیستم شوید. در این مورد، شما باید از سلنیوم برای خودکار کردن فرآیند ورود و استخراج داده ها استفاده کنید. در یک چنین مواردی استفاده از Requests و Beautiful Soup کارساز نخواهد بود، چرا که باید یک فرم ورود با نام کاربری و رمز عبور را ارسال کنید که نیاز به تعامل کاربر دارد. با سلنیوم، می‌توانید با رفتن به صفحه ورود، وارد کردن اطلاعات کاربری خود و ارسال فرم ورود، فرآیند ورود را خودکار کنید. پس از ورود به سیستم، می‌توانید با کمک سلنیوم به صفحه مورد نظرتان هدایت شوید و سپس با استفاده از Beautiful Soup اطلاعات مورد نظرتان را استخراج کنید.\n",
    "</div>"
   ]
  },
  {
   "cell_type": "code",
   "execution_count": 4,
   "metadata": {},
   "outputs": [
    {
     "name": "stdout",
     "output_type": "stream",
     "text": [
      "Requirement already satisfied: selenium==4.10.0 in c:\\python310\\lib\\site-packages (4.10.0)\n",
      "Requirement already satisfied: trio~=0.17 in c:\\python310\\lib\\site-packages (from selenium==4.10.0) (0.22.1)\n",
      "Requirement already satisfied: urllib3[socks]<3,>=1.26 in c:\\python310\\lib\\site-packages (from selenium==4.10.0) (2.0.3)\n",
      "Requirement already satisfied: trio-websocket~=0.9 in c:\\python310\\lib\\site-packages (from selenium==4.10.0) (0.10.3)\n",
      "Requirement already satisfied: certifi>=2021.10.8 in c:\\python310\\lib\\site-packages (from selenium==4.10.0) (2023.5.7)\n",
      "Requirement already satisfied: cffi>=1.14 in c:\\python310\\lib\\site-packages (from trio~=0.17->selenium==4.10.0) (1.15.1)\n",
      "Requirement already satisfied: exceptiongroup>=1.0.0rc9 in c:\\python310\\lib\\site-packages (from trio~=0.17->selenium==4.10.0) (1.1.1)\n",
      "Requirement already satisfied: sortedcontainers in c:\\python310\\lib\\site-packages (from trio~=0.17->selenium==4.10.0) (2.4.0)\n",
      "Requirement already satisfied: attrs>=20.1.0 in c:\\python310\\lib\\site-packages (from trio~=0.17->selenium==4.10.0) (23.1.0)\n",
      "Requirement already satisfied: sniffio in c:\\python310\\lib\\site-packages (from trio~=0.17->selenium==4.10.0) (1.3.0)\n",
      "Requirement already satisfied: idna in c:\\python310\\lib\\site-packages (from trio~=0.17->selenium==4.10.0) (3.4)\n",
      "Requirement already satisfied: outcome in c:\\python310\\lib\\site-packages (from trio~=0.17->selenium==4.10.0) (1.2.0)\n",
      "Requirement already satisfied: wsproto>=0.14 in c:\\python310\\lib\\site-packages (from trio-websocket~=0.9->selenium==4.10.0) (1.2.0)\n",
      "Requirement already satisfied: pysocks!=1.5.7,<2.0,>=1.5.6 in c:\\python310\\lib\\site-packages (from urllib3[socks]<3,>=1.26->selenium==4.10.0) (1.7.1)\n",
      "Requirement already satisfied: pycparser in c:\\python310\\lib\\site-packages (from cffi>=1.14->trio~=0.17->selenium==4.10.0) (2.21)\n",
      "Requirement already satisfied: h11<1,>=0.9.0 in c:\\python310\\lib\\site-packages (from wsproto>=0.14->trio-websocket~=0.9->selenium==4.10.0) (0.14.0)\n"
     ]
    },
    {
     "name": "stderr",
     "output_type": "stream",
     "text": [
      "WARNING: Ignoring invalid distribution -ip (c:\\python310\\lib\\site-packages)\n",
      "WARNING: Ignoring invalid distribution - (c:\\python310\\lib\\site-packages)\n",
      "WARNING: Ignoring invalid distribution -elenium (c:\\python310\\lib\\site-packages)\n",
      "WARNING: Ignoring invalid distribution -ip (c:\\python310\\lib\\site-packages)\n",
      "WARNING: Ignoring invalid distribution - (c:\\python310\\lib\\site-packages)\n",
      "WARNING: Ignoring invalid distribution -elenium (c:\\python310\\lib\\site-packages)\n",
      "WARNING: Ignoring invalid distribution -ip (c:\\python310\\lib\\site-packages)\n",
      "WARNING: Ignoring invalid distribution - (c:\\python310\\lib\\site-packages)\n",
      "WARNING: Ignoring invalid distribution -elenium (c:\\python310\\lib\\site-packages)\n",
      "WARNING: Ignoring invalid distribution -ip (c:\\python310\\lib\\site-packages)\n",
      "WARNING: Ignoring invalid distribution - (c:\\python310\\lib\\site-packages)\n",
      "WARNING: Ignoring invalid distribution -elenium (c:\\python310\\lib\\site-packages)\n",
      "WARNING: Ignoring invalid distribution -ip (c:\\python310\\lib\\site-packages)\n",
      "WARNING: Ignoring invalid distribution - (c:\\python310\\lib\\site-packages)\n",
      "WARNING: Ignoring invalid distribution -elenium (c:\\python310\\lib\\site-packages)\n",
      "WARNING: Ignoring invalid distribution -ip (c:\\python310\\lib\\site-packages)\n",
      "WARNING: Ignoring invalid distribution - (c:\\python310\\lib\\site-packages)\n",
      "WARNING: Ignoring invalid distribution -elenium (c:\\python310\\lib\\site-packages)\n",
      "\n",
      "[notice] A new release of pip is available: 23.0.1 -> 23.2.1\n",
      "[notice] To update, run: python.exe -m pip install --upgrade pip\n",
      "WARNING: Ignoring invalid distribution -ip (c:\\python310\\lib\\site-packages)\n",
      "WARNING: Ignoring invalid distribution - (c:\\python310\\lib\\site-packages)\n",
      "WARNING: Ignoring invalid distribution -elenium (c:\\python310\\lib\\site-packages)\n",
      "WARNING: Ignoring invalid distribution -ip (c:\\python310\\lib\\site-packages)\n",
      "WARNING: Ignoring invalid distribution - (c:\\python310\\lib\\site-packages)\n",
      "WARNING: Ignoring invalid distribution -elenium (c:\\python310\\lib\\site-packages)\n",
      "ERROR: Could not find a version that satisfies the requirement selenium.webdriver (from versions: none)\n",
      "ERROR: No matching distribution found for selenium.webdriver\n",
      "WARNING: Ignoring invalid distribution -ip (c:\\python310\\lib\\site-packages)\n",
      "WARNING: Ignoring invalid distribution - (c:\\python310\\lib\\site-packages)\n",
      "WARNING: Ignoring invalid distribution -elenium (c:\\python310\\lib\\site-packages)\n",
      "WARNING: Ignoring invalid distribution -ip (c:\\python310\\lib\\site-packages)\n",
      "WARNING: Ignoring invalid distribution - (c:\\python310\\lib\\site-packages)\n",
      "WARNING: Ignoring invalid distribution -elenium (c:\\python310\\lib\\site-packages)\n",
      "WARNING: Ignoring invalid distribution -ip (c:\\python310\\lib\\site-packages)\n",
      "WARNING: Ignoring invalid distribution - (c:\\python310\\lib\\site-packages)\n",
      "WARNING: Ignoring invalid distribution -elenium (c:\\python310\\lib\\site-packages)\n",
      "\n",
      "[notice] A new release of pip is available: 23.0.1 -> 23.2.1\n",
      "[notice] To update, run: python.exe -m pip install --upgrade pip\n"
     ]
    }
   ],
   "source": [
    "!pip3 install selenium==4.10.0"
   ]
  },
  {
   "cell_type": "markdown",
   "metadata": {
    "id": "ZtSmrN1CHA83"
   },
   "source": [
    "<h4 dir=\"rtl\">\n",
    "راه اندازی WebDriver برای سلنیوم\n",
    "</h4>"
   ]
  },
  {
   "cell_type": "markdown",
   "metadata": {
    "id": "m4fKRuYJJngZ"
   },
   "source": [
    "<div dir=\"rtl\">\n",
    "برای تعامل با یک مرورگر وب، باید  WebDriverی را دانلود کنید که با مرورگری که می خواهید استفاده کنید مطابقت دارد. برای مرورگرهای مختلف مانند کروم، فایرفاکس و اِج، WebDriverهای مختلفی وجود دارد. در این راهنما، ما از Firefox WebDriver استفاده خواهیم کرد.\n",
    "</div>\n",
    "<br />\n",
    "<div dir=\"rtl\">در این آموزش ما از فایرفوکس استفاده می کنیم. برای برخی از براوزرها WebDriver همزمان با نصب براوزر نصب می شود. برای براوزر FireFox هم همینطور است. اما اگر به هر دلیلی WebDriver همزمان دانلود و نصب نشود در آنصورت باید WebDriver را بصورت دستی دانلود کرد.  \n",
    "</div>\n",
    "<br />\n",
    "<div dir=\"rtl\">\n",
    "    برای دانلود Firefox WebDriver باید از این <a href=\"https://github.com/mozilla/geckodriver/releases\">لینک</a> استفاده کنید \n",
    "</div>"
   ]
  },
  {
   "cell_type": "markdown",
   "metadata": {
    "id": "pERZMfK3JttR"
   },
   "source": [
    "<div dir=\"rtl\">\n",
    "نحوه تنظیم: در کد پایتون خود، باید ماژول Selenium WebDriver را وارد کنید و یک نمونه از WebDriver ایجاد کنید. در اینجا یک کد به عنوان نمونه آمده است:\n",
    "</div>"
   ]
  },
  {
   "cell_type": "code",
   "execution_count": null,
   "metadata": {
    "id": "tR3Tnu9eJvUe",
    "outputId": "55afe94f-3fd3-4b46-80b3-fcba900ff0db"
   },
   "outputs": [],
   "source": [
    "from selenium import webdriver\n",
    "from selenium.webdriver.firefox.service import Service as FirefoxService\n",
    "\n",
    "service = FirefoxService()\n",
    "# اگر نیاز به لود کردن وب درایور بصورت دستی بود می توانید از فرمان زیر استفاده کنید\n",
    "# service = ChromeService(executable_path=firefox_webdriver_path)\n",
    "driver = webdriver.Firefox(service=service)\n",
    "driver.get(\"https://cnn.com\")\n",
    "driver.quit()"
   ]
  },
  {
   "cell_type": "markdown",
   "metadata": {
    "id": "hFTRvqeXJxZ-"
   },
   "source": [
    "<div dir=\"rtl\">\n",
    "    در این مثال، WebDriver به صفحه اصلی گوگل می‌رود و سپس متد <span dir=\"ltr\">driver.quit()</span> برای بستن پنجره مرورگر فراخوانده می‌شود.  \n",
    "</div>\n",
    "<div dir=\"rtl\">\n",
    "    اگر نیاز به لود کردن وب درایور بصورت دستی بود می تونید باید آنرا دانلود کرده و سپس آدرس آنرا به سرویس بدهید. \n",
    "</div>"
   ]
  },
  {
   "cell_type": "markdown",
   "metadata": {
    "id": "3rS-p_3fKMdQ"
   },
   "source": [
    "<div dir=\"rtl\">\n",
    "    با این روش، اصول اولیه برای استفاده از سلنیوم در پایتون را اجرایی کردید. از اینجا به بعد می‌توانید از WebDriver برای تعامل با صفحه وب، انجام اقدامات کاربر و استخراج داده استفاده کنید.\n",
    "</div>"
   ]
  },
  {
   "cell_type": "markdown",
   "metadata": {
    "id": "IBZHR1GeLi7I"
   },
   "source": [
    "\n",
    "<h4 dir=\"rtl\">نحوه استفاده از سلنیوم برای وب اسکریپینگ</h4>\n",
    "<div dir=\"rtl\">\n",
    "اینجا یک نمون از اسکریپ کردن با سلنیوم را مرور می‌کنیم. اسکریپ کردن با سلنیوم شامل سه مرحله است:\n",
    "</div>\n",
    "<ol dir=\"rtl\">\n",
    "<li>یک شی (object) WebDriver تنظیم کنید تا از طریق آن بتوانید در وب سایت مدنظرتان به نقاط مختلف بروید.</li>\n",
    "    <li>از WebDriver برای رفتن به نقاط مختلف وب سایت استفاده کنید.</li>\n",
    "<li>مراحل مورد نیاز برای استخراج اطلاعات مورد نظر از صفحه وب را شناسایی کنید. این شامل شناسایی کلیک‌ها و سایر تعاملات و داده‌های خاص برای استخراج است.</li>\n",
    "<li>HTML/CSS صفحه وب را بررسی کنید تا عناصر صفحه مرتبط با فعل و انفعالات در مرحله ۳ را شناسایی کنید. بر همین اساس، از سلنیوم برای خودکار کردن تعاملات خود با سایت استفاده کنید.</li>\n",
    "</ol>"
   ]
  },
  {
   "cell_type": "markdown",
   "metadata": {
    "id": "nykaz8ZAFptw"
   },
   "source": [
    "<div dir=\"rtl\">\n",
    "در این مثال از سلنیوم برای جستجو در سایت دیوار و استخراج نتایج جستجو در صفحه اول استفاده می کنیم. اولین قدم تنظیم شی WebDriver است که در بالا توضیح داده شد. اگر بخواهیم، می‌توانیم مرورگر را در حالت \"هدلس\" (\"headless\") اجرا کنیم تا هرگز آن را نبینیم.\n",
    "</div>\n",
    "<div dir=\"rtl\">\n",
    "    Headless به معنای این است براوزر بدون رابط کاربری راه اندازی می شود و تنها در پس زمینه کار می کند. اینکار سرعت راه اندازی را بهبود بخشیده و حافظه کمتری اختصاص می دهد. همچنین امکان اینکه به اشتباه کنترل براوزر از سلنیوم گرفته شود را از بین می برد.\n",
    "</div>"
   ]
  },
  {
   "cell_type": "code",
   "execution_count": null,
   "metadata": {
    "id": "mtS_ANj7Jh75",
    "outputId": "95c64946-fdf1-4ce4-e505-473137cd7162"
   },
   "outputs": [],
   "source": [
    "from selenium import webdriver\n",
    "from selenium.webdriver.firefox.options import Options\n",
    "from selenium.webdriver.firefox.service import Service as FirefoxService\n",
    "from selenium.webdriver.common.keys import Keys\n",
    "from selenium.webdriver.support.ui import WebDriverWait\n",
    "\n",
    "options = Options()\n",
    "# options.headless = True\n",
    "\n",
    "service = FirefoxService()\n",
    "\n",
    "driver = webdriver.Firefox(options=options, service=service)"
   ]
  },
  {
   "cell_type": "markdown",
   "metadata": {
    "id": "O1I-StIZGRXh"
   },
   "source": [
    "<div dir=\"rtl\">\n",
    "حال درایور را به سمت وبسایت مورد نظر هدایت می‌کنیم.\n",
    "</div>"
   ]
  },
  {
   "cell_type": "code",
   "execution_count": null,
   "metadata": {
    "id": "dlIAIm4dGTau"
   },
   "outputs": [],
   "source": [
    "# هدایت به وبسایت دیوار\n",
    "driver.get(\"https://divar.ir/s/tehran\")"
   ]
  },
  {
   "cell_type": "markdown",
   "metadata": {
    "id": "IL_ALY15Fn1N"
   },
   "source": [
    "<div dir=\"rtl\">\n",
    "اکنون که به سایت دیوار رفتیم، باید عنصر صفحه مرتبط با نوار جستجو را تعیین کنیم تا بتوانیم جستجو را انجام دهیم. ما می توانیم این کار را با کلیک راست روی جستجو و کلیک بر روی \"Inspect Element\" انجام دهیم. ما به دنبال برچسب‌هایی مانند input، form یا کلاس‌ها یا شناسه‌های خاص مرتبط با نوار جستجو هستیم. عنصر نوار جستجو همچنین ممکن است دارای یک ویژگی نگهدارنده (placeholder attribute) یا استایلینگ پراپرتیز (styling properties) ویژه باشد. می‌بینیم که که دو تگ input وجود دارد و ویژگی کلاس عنصر input روی «kt-nav-text-field__input» تنظیم شده است. بنابراین، می‌توانیم از نام کلاس ورودی برای شناسایی آن و وارد کردن اطلاعات مورد نظر استفاده کنیم:</div>"
   ]
  },
  {
   "cell_type": "code",
   "execution_count": null,
   "metadata": {
    "id": "0R0aaVHaIbcG"
   },
   "outputs": [],
   "source": [
    "search_input = driver.find_element(by=webdriver.common.by.By.CLASS_NAME, value=\"kt-nav-text-field__input\")\n",
    "search_input.send_keys(\"آپارتمان\")"
   ]
  },
  {
   "cell_type": "markdown",
   "metadata": {
    "id": "q5K49sG3JwG0"
   },
   "source": [
    "<div dir=\"rtl\">\n",
    "حال که عبارت جستجوی خود را وارد کرده‌ایم، می توانیم کلید \"بازگشت\" را فشار داده و ۱۰ ثانیه منتظر بمانیم تا نتایج جستجو بارگیری شوند.\n",
    "</div>"
   ]
  },
  {
   "cell_type": "code",
   "execution_count": null,
   "metadata": {
    "id": "G-PXlCjsJeLx"
   },
   "outputs": [],
   "source": [
    "search_input.send_keys(Keys.RETURN)\n",
    "# منتظر ماندن به مدت ۱۰ ثانیه برای بارگیری نتایج جستجو\n",
    "wait = WebDriverWait(driver, 10)"
   ]
  },
  {
   "cell_type": "markdown",
   "metadata": {
    "id": "1XfuV5HqKBGV"
   },
   "source": [
    "<div dir=\"rtl\">\n",
    "برای استخراج نتایج جستجو در صفحه اول، باید عناصر صفحه مرتبط با آنها را مشخص کنیم. متوجه \n",
    "می‌شویم که\n",
    "</div>\n",
    "\n",
    "<pre><code><h2 class=\"kt-post-card__title\">ست آچار کیانلی مدل Hello Phillips\\</h2></code></pre>\n",
    "\n",
    "<div dir=\"rtl\">\n",
    "حاوی عنوان یکی از نتایج جستجو است.\n",
    "</div>\n",
    "<div dir=\"rtl\">\n",
    "می‌توانیم تمام متن‌های مرتبط با «class=\"kt-post-card__title\"» را شناسایی کنیم و ببینیم آیا این کار تمامی متون اطلاعات مورد نظر را در بر می‌گیرد یا نه.</div>\n",
    "</div>"
   ]
  },
  {
   "cell_type": "code",
   "execution_count": null,
   "metadata": {
    "id": "gzrZQOqDKFu9"
   },
   "outputs": [],
   "source": [
    "elements = driver.find_elements(by=webdriver.common.by.By.CLASS_NAME, value = \"kt-post-card__title\")"
   ]
  },
  {
   "cell_type": "markdown",
   "metadata": {
    "id": "GW1jaBOgewaR"
   },
   "source": [
    "<div dir=\"rtl\">\n",
    "حال متن مرتبط با هر عنصر را استخراج کرده و به نمایش در می‌آوریم.\n",
    "</div>"
   ]
  },
  {
   "cell_type": "code",
   "execution_count": null,
   "metadata": {
    "id": "AxxWGgzqaslh"
   },
   "outputs": [],
   "source": [
    "text_list = [element.text for element in elements]"
   ]
  },
  {
   "cell_type": "code",
   "execution_count": null,
   "metadata": {
    "id": "EcyAVvEQasli",
    "outputId": "0223f035-1d76-4caf-ef94-e7c876879c0a"
   },
   "outputs": [],
   "source": [
    "text_list"
   ]
  },
  {
   "cell_type": "markdown",
   "metadata": {},
   "source": [
    "<div dir=\"rtl\">\n",
    "در این قسمت ما لیست استخراج شده از سایت دیوار را در یک فایل سی اس وی \".csv\" می نویسم. برای اینکار راه حل های زیادی وجود دارد اما ما در اینجا از کتابخانه pandas که با آن آشنایی داریم استفاده می کنیم.\n",
    "</div>"
   ]
  },
  {
   "cell_type": "code",
   "execution_count": null,
   "metadata": {},
   "outputs": [],
   "source": [
    "import pandas as pd\n",
    "\n",
    "divar_df = pd.DataFrame(text_list)\n",
    "divar_df.to_csv('../outputs/divar_apartments.csv')"
   ]
  },
  {
   "cell_type": "markdown",
   "metadata": {
    "id": "Xk1hVmDze3IM"
   },
   "source": [
    "<div dir=\"rtl\">\n",
    "بله! همان‌طور که می‌بینید، از این طریق توانستیم فهرست عناوین این صفحه وب را به دست بیاوریم.\n",
    "</div>\n",
    "<br />\n",
    "<div dir=\"rtl\">\n",
    "حال تا حدی به قدرت سلنیوم پی بردید. امیدوارم این درس برای اجرای پروژه‌های خلاقانه و پربار کمک کننده باشد.\n",
    "</div>"
   ]
  }
 ],
 "metadata": {
  "colab": {
   "provenance": []
  },
  "kernelspec": {
   "display_name": "Python 3 (ipykernel)",
   "language": "python",
   "name": "python3"
  },
  "language_info": {
   "codemirror_mode": {
    "name": "ipython",
    "version": 3
   },
   "file_extension": ".py",
   "mimetype": "text/x-python",
   "name": "python",
   "nbconvert_exporter": "python",
   "pygments_lexer": "ipython3",
   "version": "3.10.11"
  }
 },
 "nbformat": 4,
 "nbformat_minor": 1
}
