{
 "cells": [
  {
   "cell_type": "markdown",
   "metadata": {
    "id": "nC-B66girPR5"
   },
   "source": [
    "<div dir=\"rtl\">\n",
    "<h2> ۱.۵ پاکسازی داده </h2>\n",
    "</div>"
   ]
  },
  {
   "cell_type": "markdown",
   "metadata": {},
   "source": [
    "<a href=\"https://www.youtube.com/watch?v=dv0-QutyL90&list=PLY_JJbHwd6kftjlcbtChIKZfEPEfFRGcY&index=10&ab_channel=TheInternationalJournalists%27Network\">\n",
    "<img src=\"https://dotnet-talk.com/images/icfj/1_5.jpg\" width=\"50%\" alt=\"پاکسازی داده ها - ویدیو\" />\n",
    "</a>\n"
   ]
  },
  {
   "cell_type": "markdown",
   "metadata": {},
   "source": [
    "<div dir=\"rtl\">\n",
    "در درس‌های قبل گفتیم قبل از این که بتوانیم از `پانداس` روی کامپیوترمان استفاده کنیم، باید آن را\n",
    "نصب کنیم. در این درس پیش‌فرض ما این است که این پکیج را نصب شده داریم. \n",
    " </div>"
   ]
  },
  {
   "cell_type": "code",
   "execution_count": null,
   "metadata": {
    "id": "m8-zoAzBrrx0"
   },
   "outputs": [],
   "source": [
    "import pandas as pd"
   ]
  },
  {
   "cell_type": "markdown",
   "metadata": {
    "id": "bMD90ZgXrwfW"
   },
   "source": [
    "## مقدمه"
   ]
  },
  {
   "cell_type": "markdown",
   "metadata": {
    "id": "ulAWjVGunO6Z"
   },
   "source": [
    "داده‌ها در جهان حقیقی به هم‌ریخته و نامرتب هستند. به عنوان مثال، داده‌های تجاری معمولا به صورت دستی و توسط انسان‌ها وارد می‌شوند و انسان‌ها در وارد کردن داده معمولا از یک روش یک‌دست استفاده نمی‌کنند. مثلا هنگام وارد کردن نام شرکت‌ها ممکن است گاهی نام شرکت «اپل» را به صورت\n",
    "\n",
    "`Apple, Inc.`\n",
    "\n",
    "و گاهی به صورت\n",
    "\n",
    "`Apple`\n",
    "\n",
    "وارد کنند. اگر بخواهیم ببینیم در یک داده چندبار نام شرکت \n",
    "\n",
    "`Apple`\n",
    "\n",
    "درج شده، طبیعتا دفعاتی که نام این شرکت به صورت \n",
    "\n",
    "`Apple, Inc.`\n",
    "\n",
    "درج شده، محاسبه نمی‌شود و رقم نهایی صحیح نخواهد بود.\n",
    "\n",
    "خوشبختانه، می‌توانیم با پاکسازی داده، این مسئله را حل کنیم. در این درس از ترکیبی از داده‌های مربوط به شرکت‌ها استفاده می‌کنیم که اخیرا به منظور انجام تحقیقات نظارتی تهیه شده‌اند. ما می‌خواهیم میانگین درآمد مالیاتی حوزه‌های صنعتی مختلف این مجموعه‌داده را بررسی کنیم.  "
   ]
  },
  {
   "cell_type": "markdown",
   "metadata": {
    "id": "LFCz_XJGr2iE"
   },
   "source": [
    "## تحقیقات نظارتی: تحلیل درآمد مالیاتی\n",
    "\n",
    "با استفاده از روش پاکسازی داده به صورت عملی، به درک بهتری از این فرآیند خواهید رسید. پاکسازی داده حاوی مفاهیم کلیدی‌ای است که بعدتر به آن‌ها خواهیم پرداخت، اما به طور کلی، پاکسازی‌داده مبتنی بر درک دقیق و عمیق داده‌هایی است که در اختیار داریم. با بررسی داده‌ها و تمرکز بر این‌که به دنبال چه چیزی هستیم، می‌توانیم روند پاکسازی داده را تعیین کنیم.   "
   ]
  },
  {
   "cell_type": "markdown",
   "metadata": {
    "id": "L49VAa8mbO8L"
   },
   "source": [
    "ابتدا داده‌مان را بارگذاری می‌کنیم و نگاهی به آن می‌اندازیم."
   ]
  },
  {
   "cell_type": "code",
   "execution_count": null,
   "metadata": {
    "colab": {
     "base_uri": "https://localhost:8080/",
     "height": 1000
    },
    "id": "aQd1Fo70apTW",
    "outputId": "eb4b1200-ee8a-4adc-9c5e-c77204dc6921"
   },
   "outputs": [],
   "source": [
    "investigation_companies = pd.read_csv('../input/investigation_iran_companies.csv',index_col = [0])\n",
    "display(investigation_companies)"
   ]
  },
  {
   "cell_type": "markdown",
   "metadata": {
    "id": "-gA-jbCkbW5j"
   },
   "source": [
    "با نگاهی به این مجموعه‌داده متوجه می‌شویم که نام برخی شرکت‌ها بیش از یک‌بار و با نوشتار مختلف درج شده است. به عنوان  مثال، سطور ۱۸ و ۴۴ هر و به یک شرکت (آرتا انرژی) و سطور ۳ و ۲۹ هم به یک شرکت مشخص (داروسازی امین) اشاره داند. ما باید این شرکت‌ها را یک‌دست بکنیم تا بتوانیم میانگین درآمد آن‌ها را به درستی اندازه بگیریم. "
   ]
  },
  {
   "cell_type": "markdown",
   "metadata": {
    "id": "KTpGRIDsW7pz"
   },
   "source": [
    "#### حذف موارد تکراری"
   ]
  },
  {
   "cell_type": "markdown",
   "metadata": {
    "id": "0MdTI0QKcN-h"
   },
   "source": [
    "این مجموعه داده بزرگ نیست و می‌شود این کار را به صورت دستی هم انجام داد. با این‌حال، این‌جا ما به روش اتوماتیک این کار را انجام می‌دهیم تا شما مهارت لازم برای کار با داده‌های بزرگتر را به دست بیاورید. \n",
    "\n",
    "در قدم اول، سراغ شرکت‌هایی می‌رویم که نامشان بیش از یک‌بار ولی با یک نوشتار یک‌شکل در این مجموعه داده آمده. برای این کار از تابع \n",
    "\n",
    "`drop_duplicates`\n",
    "\n",
    "در\n",
    "\n",
    "`pandas`\n",
    "\n",
    "استفاده می‌کنیم."
   ]
  },
  {
   "cell_type": "code",
   "execution_count": null,
   "metadata": {
    "colab": {
     "base_uri": "https://localhost:8080/",
     "height": 1000
    },
    "id": "aQiHsVNic_sB",
    "outputId": "65b0d019-9395-428a-ddaa-d3c81a1f43b2"
   },
   "outputs": [],
   "source": [
    "investigation_companies_dropped = investigation_companies.drop_duplicates(subset = 'company_name')\n",
    "display(investigation_companies_dropped)\n",
    "len(investigation_companies_dropped)"
   ]
  },
  {
   "cell_type": "markdown",
   "metadata": {
    "id": "NIZOZ4NXc_fS"
   },
   "source": [
    "حال تعداد سطور ما به ۴۵ عدد رسیده است. ولی همچنان می‌بینیم که این داده حاوی موارد تکراری است؛ به عنوان مثال «داروسازی تهران». حال باید به روشی این اسامی را یکسان‌سازی کنیم. به عبارت دیگر، باید اطمینان حاصل کنیم که هر زمان دو سطر به یک شرکت واحد اشاره داشتند و فارغ از این‌که نوع نوشتار آن‌ها در ستون\n",
    "\n",
    "`company_name`\n",
    "\n",
    "متفاوت است، هر دو سطر دارای یک\n",
    "\n",
    "`company_id`\n",
    "\n",
    "واحد باشند. به این روش می‌توانیم مشکل نوشتار «آرتا انرژی» حل خواهد شد. \n",
    "\n",
    "البته در نظر داشته باشید که این روش برای برخی موارد دیگر به کار نمی‌آید. به عنوان مثال، سطور ۱۵ و ۴۱ به شرکت «استیل پرشین گلف» اشاره دارد اما نام این شرکت در سطر ۱۵ به صورت\n",
    "\n",
    "\"persian gulf steel & co.\" \n",
    "\n",
    "و در سطر ۴۱ به صورت\n",
    "\n",
    "\"persian gulf steel\"\n",
    "\n",
    "درج شده. شاید بتوان از ستون\n",
    "\n",
    "`ceo_name`\n",
    "\n",
    "برای حل این مسئله استفاده کرد. به عبارتی بیاییم و شرکت‌هایی را که نام مدیرعاملشان یکی است، یک شرکت واحد در نظر بگیریم. البته این مستلزم آن است که یک شخص، هم‌زمان مدیرعامل دو شرکت متفاوت نباشد."
   ]
  },
  {
   "cell_type": "code",
   "execution_count": null,
   "metadata": {
    "colab": {
     "base_uri": "https://localhost:8080/",
     "height": 1000
    },
    "id": "brcbkftWgH0k",
    "outputId": "23e171d7-b898-4751-f797-6e63e98053df"
   },
   "outputs": [],
   "source": [
    "investigation_companies_dropped = investigation_companies.drop_duplicates(subset = 'ceo_name')\n",
    "display(investigation_companies_dropped)\n",
    "print(len(investigation_companies_dropped))"
   ]
  },
  {
   "cell_type": "markdown",
   "metadata": {
    "id": "Nc2XmFyOgdFA"
   },
   "source": [
    "با این‌روش فقط دو سطر را حذف کردیم. ممکن است دلیلش این باشد که در برخی موارد نام مدیرعامل با حروف بزرگ انگلیسی و گاه با حروف کوچک نوشته شده است. برای حل این مسئله، یک ستون تازه می‌سازیم و تمام اسامی را با حروف کوچک در آن درج می‌کنیم. حال احتمالا می‌توانیم موارد تکراری بیشتری را حذف کنیم."
   ]
  },
  {
   "cell_type": "code",
   "execution_count": null,
   "metadata": {
    "id": "52o2mR6Qgwix"
   },
   "outputs": [],
   "source": [
    "investigation_companies_dropped = investigation_companies\n",
    "investigation_companies_dropped['ceo_name_lower'] = investigation_companies_dropped['ceo_name'].str.lower()"
   ]
  },
  {
   "cell_type": "code",
   "execution_count": null,
   "metadata": {
    "colab": {
     "base_uri": "https://localhost:8080/",
     "height": 1000
    },
    "id": "ZuZucbLtgwdj",
    "outputId": "15d5b3a9-fba6-419d-fca7-1533442270ce"
   },
   "outputs": [],
   "source": [
    "investigation_companies_dropped = investigation_companies_dropped.drop_duplicates(subset = 'ceo_name_lower')\n",
    "display(investigation_companies_dropped)\n",
    "print(len(investigation_companies_dropped))"
   ]
  },
  {
   "cell_type": "markdown",
   "metadata": {
    "id": "irEnkwbmhFvk"
   },
   "source": [
    "می‌بینیم که موارد تکراری بیشتری حذف نشد. موضوع چیست؟ با کمی دقت متوجه می‌شویم که نحوه نوشتن نام مدیر عامل متفاوت است. به عنوان مثال در یک مورد نام مدیرعامل «استیل پرشین گلف» به صورت\n",
    "\n",
    "abdollah azimi\n",
    "\n",
    "و در مورد دیگر به صورت\n",
    "\n",
    "azimi abdollah\n",
    "\n",
    "نوشته شده است. باید این ستون را یک‌دست کنیم تا در موارد اسامی مشترک، هر بار که آن نام در مجموعه داده می‌آید، یک ترتیب واحد (نام و نام خانوادگی) را دنبال کند. برای انجام این کار می‌توان با کمک تابعی نام‌ها را به ترتیب حروف الفبا مرتب کنیم. این تابع تمامی اسامی مشترک را (فارغ از این‌که به صورت نام و نام خانوادگی یا نام خانوادگی و نام نوشته شده باشد) یک‌دست می‌کند."
   ]
  },
  {
   "cell_type": "code",
   "execution_count": null,
   "metadata": {
    "id": "aBdv-Q62hnl1"
   },
   "outputs": [],
   "source": [
    "def put_names_in_order(ceo_name):\n",
    "  name_list = ceo_name.split() #make the two names of the CEO into a list\n",
    "  name_list.sort() #Put the names in order\n",
    "  return ' '.join(name_list) #Put the names back together as a single string"
   ]
  },
  {
   "cell_type": "code",
   "execution_count": null,
   "metadata": {
    "id": "SGQSYMj8hjBQ"
   },
   "outputs": [],
   "source": [
    "investigation_companies_dropped = investigation_companies\n",
    "investigation_companies_dropped['ceo_name_lower_ordered'] = investigation_companies_dropped.apply(lambda row: put_names_in_order(row['ceo_name_lower']), axis = 1)"
   ]
  },
  {
   "cell_type": "markdown",
   "metadata": {
    "id": "cBEiqX-yihVy"
   },
   "source": [
    "احتمالا حال دیگر تمامی اسامی مدیران عامل را یک‌دست کرده‌ایم. حال ببینیم آیا می‌توانیم با استفاده از ستون\n",
    "\n",
    "`ceo_name_lower_ordered`\n",
    "\n",
    "موارد تکراری را حذف کنیم."
   ]
  },
  {
   "cell_type": "code",
   "execution_count": null,
   "metadata": {
    "colab": {
     "base_uri": "https://localhost:8080/",
     "height": 1000
    },
    "id": "SNSuDdBghFij",
    "outputId": "9ed4e6be-43e1-4ea5-a469-488e80c9e83f"
   },
   "outputs": [],
   "source": [
    "investigation_companies_dropped = investigation_companies_dropped.drop_duplicates(subset = 'ceo_name_lower_ordered')\n",
    "display(investigation_companies_dropped)\n",
    "print(len(investigation_companies_dropped))"
   ]
  },
  {
   "cell_type": "markdown",
   "metadata": {
    "id": "SZShXoDLkpde"
   },
   "source": [
    "حال سطرهای بیشتری را حذف کرده‌ایم و در مجموع ۲۷ سطر داریم. با این روش موارد تکراری بسیاری را حذف کردیم."
   ]
  },
  {
   "cell_type": "markdown",
   "metadata": {
    "id": "nXFNwBJiXDqS"
   },
   "source": [
    "#### تغییر نوع داده"
   ]
  },
  {
   "cell_type": "markdown",
   "metadata": {
    "id": "swEJN6dOk9VG"
   },
   "source": [
    "حال می‌رویم سراغ محاسبه میانگین درآمد مالیاتی شرکت‌های بیمه موجود در این مجموعه داده. "
   ]
  },
  {
   "cell_type": "code",
   "execution_count": null,
   "metadata": {
    "colab": {
     "base_uri": "https://localhost:8080/",
     "height": 511
    },
    "id": "U7_tl5fTlVgv",
    "outputId": "fb1b5c63-a965-4a33-c0a6-cd579a4b3789"
   },
   "outputs": [],
   "source": [
    "investigation_companies_dropped[investigation_companies_dropped['sector'] == 'Insurance']['tax_revenue'].mean()"
   ]
  },
  {
   "cell_type": "markdown",
   "metadata": {
    "id": "kCljhoVkldKJ"
   },
   "source": [
    "این جا یک پیام خطا دریافت کردیم: \n",
    "\n",
    "TypeError: Could not convert $30000000 to numeric\n",
    "\n",
    "این خطا به یک مورد کلیدی در پاکسازی داده اشاره دارد: این‌که از صحیح بودن نوع داده‌مان اطمینان حاصل کنیم. در این مورد، مشکل اینجاست که نوع داده ستون\n",
    "\n",
    "tax_revenue\n",
    "\n",
    "str (String)\n",
    "\n",
    "یا همان رشته است. برای محاسبه میانگین این ستون، باید ارزش این ستون را به ارزش عددی تغییر بدهیم. برای انجام این کار، باید این کارها را بکنیم:\n",
    "\n",
    "۱. علامت دلار را از هر رشته حذف کنیم.\n",
    "\n",
    "۲. پس از حذف این علامت، این رشته را به عدد صحیح تبدیل کنیم. "
   ]
  },
  {
   "cell_type": "code",
   "execution_count": null,
   "metadata": {
    "colab": {
     "base_uri": "https://localhost:8080/"
    },
    "id": "8JnJY1QTCsrk",
    "outputId": "8f47271e-7096-4f3e-cb1e-d1fb82883209"
   },
   "outputs": [],
   "source": [
    "investigation_companies_dropped['tax_revenue'] = investigation_companies_dropped['tax_revenue'].apply(lambda row: row.replace(\"$\",\"\"))\n",
    "investigation_companies_dropped['tax_revenue'] = investigation_companies_dropped['tax_revenue'].astype('int64')"
   ]
  },
  {
   "cell_type": "markdown",
   "metadata": {
    "id": "8n4DWlBqyHjt"
   },
   "source": [
    "حال می‌بینیم که ستون درآمد مالیاتی دیگر علامت دلار ندارد و نوعش نیز به عدد صحیح یا همان\n",
    "\n",
    "integer\n",
    "\n",
    "تغییر کرده است."
   ]
  },
  {
   "cell_type": "code",
   "execution_count": null,
   "metadata": {
    "colab": {
     "base_uri": "https://localhost:8080/"
    },
    "id": "m_ba9fmZx85N",
    "outputId": "204fe46b-5674-4a16-ba16-8c1e4998f183"
   },
   "outputs": [],
   "source": [
    "investigation_companies_dropped['tax_revenue']"
   ]
  },
  {
   "cell_type": "markdown",
   "metadata": {
    "id": "Z53eyAjpyUj_"
   },
   "source": [
    "حال می‌توانیم میانگین مدنظرمان را محاسبه کنیم:"
   ]
  },
  {
   "cell_type": "code",
   "execution_count": null,
   "metadata": {
    "colab": {
     "base_uri": "https://localhost:8080/"
    },
    "id": "CZPywiyxyM-Z",
    "outputId": "6d3d5bca-4435-4a48-9703-1c732bc4da24"
   },
   "outputs": [],
   "source": [
    "investigation_companies_dropped[investigation_companies_dropped['sector'] == 'Insurance']['tax_revenue'].mean()"
   ]
  },
  {
   "cell_type": "markdown",
   "metadata": {
    "id": "jXY2SXflXIK0"
   },
   "source": [
    "#### یک مورد پیشرفته: مطابقت به روش «فازی»"
   ]
  },
  {
   "cell_type": "markdown",
   "metadata": {
    "id": "IyprK4QlXOMU"
   },
   "source": [
    "مطابقت به روش فازی برای حل مشکلات پیچیده‌تر در حوزه پاکسازی داده، روش بسیار مناسبی است. این روش خصوصا زمانی به کار می‌اید که ما داده‌های به هم‌ریخته و ناهمگون مواجهیم. روش فازی با پیدا کردن داده‌های رشته‌ای که تا حدی با هم مطابقت دارند - حتی اگر نوع نوشتار، املا، فرمت و ... آن‌ها متفاوت باشد - کار پاکسازی داده را برای شما آسان‌تر می‌کند. \n",
    "\n",
    "یکی از کتابخانه‌های پرمخاطب روش فازی در پایتان\n",
    "\n",
    "`fuzzywuzzy`\n",
    "\n",
    "است. این کتابخانه حاوی توابع و الگوریتم‌های مختلف برای مطابقت دادن رشته‌ها با یکدیگر است. به کمک این کتابخانه می‌توانید رشته‌ها را با هم مقایسه و مشابهت آن‌ها را بررسی کنید. \n",
    "\n",
    "برای کار با این کتابخانه ابتدا باید به روش زیر آن را نصب کنید: "
   ]
  },
  {
   "cell_type": "code",
   "execution_count": null,
   "metadata": {
    "colab": {
     "base_uri": "https://localhost:8080/"
    },
    "id": "Q9JJt9K0XNkP",
    "outputId": "5820b5ca-5603-43bb-8426-6537b59075d6"
   },
   "outputs": [],
   "source": [
    "!pip install fuzzywuzzy"
   ]
  },
  {
   "cell_type": "markdown",
   "metadata": {
    "id": "n7AmbHyTXWfB"
   },
   "source": [
    "پس از نصب آن، می‌توانید پکیج را بارگذاری و از توابع آن در کدنویسی خود استفاده کنید. این یک مثال برای استفاده از روش فازی از طریق این پکیج است:"
   ]
  },
  {
   "cell_type": "code",
   "execution_count": null,
   "metadata": {
    "colab": {
     "base_uri": "https://localhost:8080/"
    },
    "id": "f92qjEFgXUvV",
    "outputId": "4b8a0161-8032-46ef-f85f-1c11883cb52a"
   },
   "outputs": [],
   "source": [
    "from fuzzywuzzy import fuzz\n",
    "\n",
    "# Compare two strings and get their similarity score\n",
    "string1 = \"Apple\"\n",
    "string2 = \"Apples\"\n",
    "similarity_score = fuzz.ratio(string1, string2)\n",
    "print(similarity_score)"
   ]
  },
  {
   "cell_type": "markdown",
   "metadata": {
    "id": "uMoR9e7LXdnJ"
   },
   "source": [
    "کد بالا، بر اساس میزان مطابقت دو رشته با یکدیگر به آن از صفر تا ۱۰۰ امتیاز می‌دهد."
   ]
  },
  {
   "cell_type": "markdown",
   "metadata": {
    "id": "1j66Kqe0ysN1"
   },
   "source": [
    "امیدوارم از این درس لذت برده باشید. با پاکسازی داده خود می‌توانید کار تحلیل را شروع کنید و به نتایج جالبی دست پیدا کنید."
   ]
  },
  {
   "cell_type": "code",
   "execution_count": null,
   "metadata": {},
   "outputs": [],
   "source": []
  }
 ],
 "metadata": {
  "colab": {
   "provenance": []
  },
  "kernelspec": {
   "display_name": "Python 3 (ipykernel)",
   "language": "python",
   "name": "python3"
  },
  "language_info": {
   "codemirror_mode": {
    "name": "ipython",
    "version": 3
   },
   "file_extension": ".py",
   "mimetype": "text/x-python",
   "name": "python",
   "nbconvert_exporter": "python",
   "pygments_lexer": "ipython3",
   "version": "3.10.11"
  }
 },
 "nbformat": 4,
 "nbformat_minor": 1
}
