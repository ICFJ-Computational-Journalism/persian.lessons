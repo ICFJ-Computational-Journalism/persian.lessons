{
 "cells": [
  {
   "cell_type": "markdown",
   "id": "96f89e0d",
   "metadata": {},
   "source": [
    "## ۱.۱ مقدمه‌ای بر `پانداس`\n",
    "\n",
    "<a href=\"https://www.youtube.com/watch?v=qjNDHIErPh4&list=PLY_JJbHwd6kftjlcbtChIKZfEPEfFRGcY&index=6&ab_channel=TheInternationalJournalists%27Network\">\n",
    "<img src=\"https://dotnet-talk.com/images/icfj/1_1.jpg\" width=\"50%\" alt=\"مقدمه ای بر پانداس - ویدیو\" >\n",
    "</a>\n",
    "\n",
    "\n",
    "### `پانداس` چیست؟\n",
    "با کمک پایتون، ما می‌توانیم از «پکیج‌ها» استفاده کنیم. پکیج‌ها، ابزارهایی برای کدنویسی هستند که افراد مختلف برای انجام کارهای مختلف منتشر می‌کنند. به عنوان مثال، اینجا ما قرار است از پانداس استفاده کنیم که پکیجی است که به طور ویژه برای تحلیل و کار با داده از آن استفاده می‌شود.\n",
    "\n",
    "قبل از این که بتوانیم از `پانداس` روی کامپیوترمان استفاده کنیم . باید آن را نصب کنیم. این کار را با استفاده از \n",
    "\n",
    "`pip`\n",
    "\n",
    "می‌کنیم  که یک ابزار برای نصب پکیج‌های پایتون است.\n"
   ]
  },
  {
   "cell_type": "code",
   "execution_count": null,
   "id": "23f11370",
   "metadata": {},
   "outputs": [],
   "source": [
    "!pip3 install pandas==2.0.2"
   ]
  },
  {
   "cell_type": "markdown",
   "id": "5e236af3",
   "metadata": {},
   "source": [
    "پس از نصف این پکیج زمانی که می‌خواهیم از `پانداس` استفاده کنیم، باید از کلید واژه\n",
    "\n",
    "`import`\n",
    "\n",
    "استفاده کنیم."
   ]
  },
  {
   "cell_type": "code",
   "execution_count": null,
   "id": "e8460a83",
   "metadata": {},
   "outputs": [],
   "source": [
    "import pandas as pd"
   ]
  },
  {
   "cell_type": "markdown",
   "id": "b91ddfc9",
   "metadata": {},
   "source": [
    "### استفاده از دیتافریمز در پانداس\n",
    "\n",
    "برای تحلیل و کار با داده در پانداس، ما از جداول داده در فرمتی استفاده می‌کنیم که به آن دیتافریم می‌گویند. این نوع داده شبیه به داده‌هایی است که در نرم‌افزارهایی نظیر مایکروسافت اکسل به صورت اسپردشیت ارائه می‌شود.\n",
    "\n",
    "به عنوان مثال، ما می‌توانیم یک دیتافریم تهیه کنیم از انواع حیوانات و تعداد پاهایشان. برای دادن عنوان به این داده از کلمه\n",
    "\n",
    "`df`\n",
    "\n",
    "استفاده می‌کنیم که یک کلمه مخفف متداول برای دیتافریم است.\n"
   ]
  },
  {
   "cell_type": "code",
   "execution_count": null,
   "id": "5260e469",
   "metadata": {},
   "outputs": [],
   "source": [
    "df = pd.DataFrame([\n",
    "    [\"cat\", \"mammal\", 4],\n",
    "    [\"dog\", \"mammal\", 4],\n",
    "    [\"ant\", \"bug\", 6],\n",
    "    [\"spider\", \"bug\", 8],\n",
    "    [\"lizard\", \"reptile\", 4],\n",
    "    [\"snake\", \"reptile\", 0],\n",
    "    [\"pig\", \"mammal\", 4],\n",
    "],\n",
    "columns = [\"species\", \"class\", \"number_legs\"])"
   ]
  },
  {
   "cell_type": "code",
   "execution_count": null,
   "id": "372048ee",
   "metadata": {
    "scrolled": false
   },
   "outputs": [],
   "source": [
    "df"
   ]
  },
  {
   "cell_type": "markdown",
   "id": "5b412b19",
   "metadata": {},
   "source": [
    "از این به بعد می‌توانیم کارهای مختلفی با این داده انجام بدهیم؛ کارهایی نظیر مرتب کردن سطرها با محوریت یک ستون خاص."
   ]
  },
  {
   "cell_type": "code",
   "execution_count": null,
   "id": "ea143e85",
   "metadata": {},
   "outputs": [],
   "source": [
    "df.sort_values(by=\"number_legs\")"
   ]
  },
  {
   "cell_type": "markdown",
   "id": "fae89c3b",
   "metadata": {},
   "source": [
    "یا شمارش سطور بر اساس ستون مربوط به نوع آن حیوان یا همان \n",
    "\n",
    "`class`"
   ]
  },
  {
   "cell_type": "code",
   "execution_count": null,
   "id": "91fb99e3",
   "metadata": {},
   "outputs": [],
   "source": [
    "df.value_counts(\"class\")"
   ]
  },
  {
   "cell_type": "markdown",
   "id": "aae7746e",
   "metadata": {},
   "source": [
    "و یا شمارش سطور بر اساس ستون مربوط به تعداد پاها یا همان\n",
    "\n",
    "`number_legs`"
   ]
  },
  {
   "cell_type": "code",
   "execution_count": null,
   "id": "a2ea283a",
   "metadata": {},
   "outputs": [],
   "source": [
    "df.value_counts('number_legs')"
   ]
  },
  {
   "cell_type": "markdown",
   "id": "01a7e3e2",
   "metadata": {},
   "source": [
    "در دو مثال بالا، می‌بینیم که »پستاندار» متداول‌ترین گونه دیتافریم ما است و عدد ۴ متداول‌ترین عدد در تعداد پاها.\n",
    "\n",
    "ما با بسط دادن همین فرمول‌ها می‌توانیم با دیتابیس‌های بزرگتر هم کار کنیم."
   ]
  },
  {
   "cell_type": "markdown",
   "id": "99032224",
   "metadata": {},
   "source": [
    "## کار با فایل‌های حاوی داده\n",
    "\n",
    "### بارگذاری داده از طریق دریافت فایل\n",
    "\n",
    "اغلب ما می‌خواهیم داده‌ای را تحلیل کنیم که در یک فایل دیگر ذخیره شده است. اینجا، همین کار را با کمک یک مثال انجام می‌دهیم.\n",
    "\n",
    "در این مثال، ما می‌توانیم فایل «سی‌اِس‌وی»ای را که از [اینجا](https://iranopendata.org/fa_IR/dataset/109-projects-extracted-official-website-khatam-alanbiya-2020) بارگذاری شده، باز کنیم. این مجموعه داده حاوی قراردادهای قرارگاه سازندگی خاتم‌الانبیا در سال ۲۰۲۰ است. از آنجایی که این یک فایل «سی‌اِس‌وی» است، ما می‌توانیم از فرمان\n",
    "\n",
    "`read_csv()`\n",
    "\n",
    "در پانداس استفاده کنیم تا بتوانیم آن را در دیتافریم باز کنیم. می‌توانیم برای این دیتافریم هر نامی انتخاب کنیم. من برایراحتی کار و برای این‌که آن را به خاطر بسپارم، نامش را می‌گذارم «قراردادها» یا همان\n",
    "\n",
    "`contracts`\n",
    "\n",
    "\n",
    "توجه کنید ک\n",
    "\n",
    "\n",
    "توجه داشته باشید که ما برای رسیدن به این فایل از «مسیر نسبی»استفاده می‌کنیم. یعنی حال که ما در زیرپوشه \n",
    "\n",
    "`persian/1_Data-analysis/`\n",
    "\n",
    "هستیم، باید از `../../` استفده کنیم تا از این دو زیرپوشه خارج شویم (`../` برای هر زیرپوشه) تا بتوانیم به پوشه\n",
    "\n",
    "`datasets/csv/`\n",
    "\n",
    "دسترسی پیدا کنیم؛ جایی که فایل «سی‌اِس‌وی» ما ذخیره شده. "
   ]
  },
  {
   "cell_type": "code",
   "execution_count": null,
   "id": "9d03025d",
   "metadata": {},
   "outputs": [],
   "source": [
    "contracts = pd.read_csv(\"../datasets/csv/kaches204-109-projects-extracted-official-website-khatam-alanbiya-2020-fa.csv\")"
   ]
  },
  {
   "cell_type": "markdown",
   "id": "888ee893",
   "metadata": {},
   "source": [
    "حالا می‌بینیم دیتافریم ما به درستی بارگذاری شده یا نه. برای دیتافریم‌های بزرگ نظیر این دیتافریم، پانداس به صورت پیش‌فرض، پنج سطر اول را نمایش می‌دهد: \n"
   ]
  },
  {
   "cell_type": "code",
   "execution_count": null,
   "id": "6639a510",
   "metadata": {},
   "outputs": [],
   "source": [
    "contracts"
   ]
  },
  {
   "cell_type": "markdown",
   "id": "b824f9be",
   "metadata": {},
   "source": [
    "همچنین می‌توانیم از فرمان\n",
    "\n",
    "`head()`\n",
    "\n",
    "استفاده کنیم که به صورت پیش‌فرض همان پنج سطر اول دیتافریم را نمایش می‌دهد:"
   ]
  },
  {
   "cell_type": "code",
   "execution_count": null,
   "id": "959594ff",
   "metadata": {},
   "outputs": [],
   "source": [
    "contracts.head(10)"
   ]
  },
  {
   "cell_type": "markdown",
   "id": "ab992543",
   "metadata": {},
   "source": [
    "### ذخیره داده در فایل\n",
    "\n",
    "پس از تحلیل و بررسی داده، شاید بخواهیم داده تحلیل شده خود را در یک فایل جداگانه ذخیره کنیم تا بتوانیم بعدتر باز به آن مراجعه کنیم. به عنون مثال، اگر بخواهیم دیتافریم ابتدایی خودمان یا همان \n",
    "\n",
    "`df`\n",
    "\n",
    "را به صورت فایل «سی‌اِس‌وی» ذخیره کنیم، می‌توانیم از فرمان\n",
    "\n",
    "`to_csv()`\n",
    "\n",
    "استفاده کنیم:"
   ]
  },
  {
   "cell_type": "code",
   "execution_count": null,
   "id": "1f668b13",
   "metadata": {},
   "outputs": [],
   "source": [
    "df.to_csv(\"../outputs/1.1_data-output-example.csv\")"
   ]
  },
  {
   "cell_type": "markdown",
   "id": "4caf4aa6",
   "metadata": {},
   "source": [
    "توجه داشته باشید که اگر این فرمان برای شما عمل نمی‌کند، احتمالا باید یک پوشه خروجی در دیرکتوری اصلی این پروژه ایجاد کنید. "
   ]
  },
  {
   "cell_type": "markdown",
   "id": "69063988",
   "metadata": {},
   "source": [
    "### فرمت‌های دیگر یک فایل\n",
    "\n",
    "گاهی شما می‌خواهید داده خود را در یک فرمت دیگر ذخیره کنیم؛ مثلا به صورت اسپردشیت اکسل یا فایل جی‌سان. شما همیشه می‌توانید در [این صفحه](https://pandas.pydata.org/pandas-docs/stable/reference/io.html) نگاهی به فرمان‌های دیگری قابل استفاده در `پانداس` بیاندازید. به عنوان مثال، در همین [صفحه](https://pandas.pydata.org/pandas-docs/stable/reference/io.html#excel) آمده است که شما می‌توانید برای باز کردن یک فایل اکسل از طریق دیتافریم از فرمان\n",
    "\n",
    "`read_excel()`\n",
    "\n",
    "و البته که همیشه برای حل مشکلات و یافتن پاسخ برای سوالاتتان می‌توانید در اینترنت هم جستجو کنید."
   ]
  }
 ],
 "metadata": {
  "kernelspec": {
   "display_name": "Python 3 (ipykernel)",
   "language": "python",
   "name": "python3"
  },
  "language_info": {
   "codemirror_mode": {
    "name": "ipython",
    "version": 3
   },
   "file_extension": ".py",
   "mimetype": "text/x-python",
   "name": "python",
   "nbconvert_exporter": "python",
   "pygments_lexer": "ipython3",
   "version": "3.10.11"
  }
 },
 "nbformat": 4,
 "nbformat_minor": 5
}
