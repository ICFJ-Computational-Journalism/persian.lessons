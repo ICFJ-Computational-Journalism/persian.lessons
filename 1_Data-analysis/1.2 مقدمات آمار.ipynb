{
 "cells": [
  {
   "cell_type": "markdown",
   "id": "650924b4",
   "metadata": {},
   "source": [
    "<h1 dir=\"rtl\">مقدمات آمار</h1>"
   ]
  },
  {
   "cell_type": "markdown",
   "id": "b504fd1d",
   "metadata": {},
   "source": [
    "\n",
    "<a href=\"https://www.youtube.com/watch?v=VZfkCVbTQd0&list=PLY_JJbHwd6kftjlcbtChIKZfEPEfFRGcY&index=7&ab_channel=TheInternationalJournalists%27Network\">\n",
    "<img src=\"https://dotnet-talk.com/images/icfj/1_2.jpg\" width=\"50%\" alt=\"مقدمات آمار - ویدیو\" />\n",
    "</a>"
   ]
  },
  {
   "cell_type": "markdown",
   "id": "b4ce5b58",
   "metadata": {},
   "source": [
    "<div dir=\"rtl\">\n",
    "    در درس قبل گفتیم قبل از این که بتوانیم از <span style=\"color: orange\">پانداس</span> روی کامپیوترمان استفاده کنیم . باید آن را نصب کنیم. این کار را با استفاده از <span style=\"color: orange\">\n",
    "pip</span> می‌کنیم  که یک ابزار برای نصب پکیج‌های پایتون است.\n",
    "حالا اگر هنوز<span style=\"color: orange\">پانداس</span> را نصب نداریم این کار را انجام می‌دهیم.  \n",
    "</div>"
   ]
  },
  {
   "cell_type": "code",
   "execution_count": null,
   "id": "7f51591f",
   "metadata": {},
   "outputs": [],
   "source": [
    "!pip3 install pandas==2.0.2"
   ]
  },
  {
   "cell_type": "code",
   "execution_count": null,
   "id": "70e8b092",
   "metadata": {},
   "outputs": [],
   "source": [
    "!pip3 install matplotlib==3.7.1"
   ]
  },
  {
   "cell_type": "code",
   "execution_count": null,
   "id": "cc509995",
   "metadata": {},
   "outputs": [],
   "source": [
    "import pandas as pd"
   ]
  },
  {
   "cell_type": "markdown",
   "id": "aee9781d",
   "metadata": {},
   "source": [
    "<div dir=\"rtl\">\n",
    "در این نوت‌بوک برخی اصول اولیه عملیات آمار را که در دیتافریم‌های پانداس از آن استفاده می‌شود، مرور می‌کنیم. برای شروع، فایل سی‌اِس‌وی مربوط به\n",
    "<a href=\"https://iranopendata.org/en/dataset/organized-athletes-categorized-by-sports-and-gender-1398/resource/a82ca9e9-d774-4558-950c-46b77ef9bd39\"> تعداد و جنسیت ورزشکاران در برخی رشته‌های ورزشی در سال ۱۳۹۸</a>\n",
    "را در دیتافریم باز می‌کنیم.\n",
    "\n",
    "</div>"
   ]
  },
  {
   "cell_type": "code",
   "execution_count": null,
   "id": "0f40ab1f",
   "metadata": {},
   "outputs": [],
   "source": [
    "athletes = pd.read_csv(\"../datasets/csv/IOD-00932-organized-athletes-categorized-by-sports.csv\")"
   ]
  },
  {
   "cell_type": "markdown",
   "id": "36735818",
   "metadata": {},
   "source": [
    "<div dir=\"rtl\">همچون قبل می‌توانیم با کمک\n",
    "\n",
    "`head()`\n",
    "\n",
    "نگاهی به پنج سطر اول دیتافریم خود بیاندازیم و با استفاده از\n",
    "\n",
    "`shape`\n",
    "\n",
    "از ابعاد دیتافریم خود آگاه شویم. در این دیتافریم ما ۵۲ سطر و ۵ ستون داریم.\n",
    "</div>"
   ]
  },
  {
   "cell_type": "code",
   "execution_count": null,
   "id": "ccf9c796",
   "metadata": {},
   "outputs": [],
   "source": [
    "athletes.head(10)"
   ]
  },
  {
   "cell_type": "code",
   "execution_count": null,
   "id": "c2dbeda9",
   "metadata": {},
   "outputs": [],
   "source": [
    "athletes.shape"
   ]
  },
  {
   "cell_type": "markdown",
   "id": "5e45bcc2",
   "metadata": {},
   "source": [
    "<div dir=\"rtl\">اگر بخواهیم در هر یک از این ستون‌ها دقیق‌تر شویم، می‌توانیم از\n",
    "\n",
    "`unique()`\n",
    "\n",
    "استفاده کنیم. به عنوان مثال می‌توانیم مقدار‌های ستون\n",
    "\n",
    "`Sports`\n",
    "\n",
    "را بررسی کنیم.\n",
    "</div>"
   ]
  },
  {
   "cell_type": "code",
   "execution_count": null,
   "id": "a8645e40",
   "metadata": {},
   "outputs": [],
   "source": [
    "athletes['Sports'].unique()"
   ]
  },
  {
   "cell_type": "markdown",
   "id": "297f558c",
   "metadata": {},
   "source": [
    "<h3 dir=\"rtl\">\n",
    "ایجاد ستونی جدید بر اساس ستون‌های موجود\n",
    "</h3>"
   ]
  },
  {
   "cell_type": "markdown",
   "id": "95dac1f8",
   "metadata": {},
   "source": [
    "<div dir=\"rtl\">\n",
    "دیتافریم ما در حال حاضر حاوی تعداد کل ورزشکاران مرد و زن است. اگر بخواهیم درصد ورزشکاران زن هر رشته ورزشی را به دست بیاوریم، می‌توانیم بر اساس مقدار‌های ستون‌های موجود، ستون جدیدی بسازیم: \n",
    "</div>"
   ]
  },
  {
   "cell_type": "code",
   "execution_count": null,
   "id": "83d2db36",
   "metadata": {},
   "outputs": [],
   "source": [
    "athletes['Percent_Female'] = athletes['Female'] / athletes['Total'] * 100"
   ]
  },
  {
   "cell_type": "code",
   "execution_count": null,
   "id": "78df48f0",
   "metadata": {},
   "outputs": [],
   "source": [
    "athletes.head()"
   ]
  },
  {
   "cell_type": "markdown",
   "id": "03e4aee1",
   "metadata": {},
   "source": [
    "<h2 dir=\"rtl\"> آمار مرتبط با یک فیلد (ستون)</h2>\n",
    "<div dir=\"rtl\">\n",
    "در صورت نیاز، می‌توانیم متغیرهای این ستون جدید را به صورت مجزا بررسی کنیم:\n",
    "</div>"
   ]
  },
  {
   "cell_type": "code",
   "execution_count": null,
   "id": "52f3e0bc",
   "metadata": {
    "scrolled": true
   },
   "outputs": [],
   "source": [
    "athletes['Percent_Female']"
   ]
  },
  {
   "cell_type": "markdown",
   "id": "bc992b70",
   "metadata": {},
   "source": [
    "<div dir=\"rtl\">\n",
    "همچنین می‌توانیم توابع بیشترین، کمترین، میانه و ... را برای این ستون‌ها به کار ببریم:\n",
    "</div>"
   ]
  },
  {
   "cell_type": "code",
   "execution_count": null,
   "id": "df45aa18",
   "metadata": {
    "scrolled": true
   },
   "outputs": [],
   "source": [
    "athletes['Percent_Female'].max()"
   ]
  },
  {
   "cell_type": "code",
   "execution_count": null,
   "id": "847b2229",
   "metadata": {},
   "outputs": [],
   "source": [
    "athletes['Percent_Female'].min()"
   ]
  },
  {
   "cell_type": "code",
   "execution_count": null,
   "id": "edfa5ff8",
   "metadata": {},
   "outputs": [],
   "source": [
    "athletes['Percent_Female'].median()"
   ]
  },
  {
   "cell_type": "markdown",
   "id": "df962001",
   "metadata": {},
   "source": [
    "<div dir=\"rtl\">\n",
    "و اگر دیتافریممان را بر اساس این ستون مرتب کنیم، متوجه می‌شویم تعداد زنان کدام رشته صفر درصد و تعداد زنان کدام رشته ۸۸.۱۵ درصد است:\n",
    "</div>"
   ]
  },
  {
   "cell_type": "code",
   "execution_count": null,
   "id": "faf41965",
   "metadata": {
    "scrolled": true
   },
   "outputs": [],
   "source": [
    "athletes.sort_values('Percent_Female')"
   ]
  },
  {
   "cell_type": "markdown",
   "id": "825463d0",
   "metadata": {},
   "source": [
    "<div dir=\"rtl\">\n",
    "در عین حال، با کمک تابع\n",
    "\n",
    "`describe`\n",
    "\n",
    "می‌توانیم صدک‌ها را مشاهده کنیم. این تابع به طور پیش‌فرض روی صدک‌های ۲۵ درصد، ۵۰ درصد و ۷۵ درصد تنظیم شده است. صدک‌ها برای تعیین نحوه توضیح مجموعه‌ای از اعداد به کار می‌رود. به عنوان مثال، صدک ۵۰ درصد به این معناست که مقدار ۵۰ درصد سطر‌ها بیشتر و مقدار ۵۰ درصد سطرها کمتر از مقدار مورد نظر است. به عبارت دیگر، آن مقدار مزبور، میانه ماست.\n",
    "</div>"
   ]
  },
  {
   "cell_type": "code",
   "execution_count": null,
   "id": "c0b56bbf",
   "metadata": {
    "scrolled": true
   },
   "outputs": [],
   "source": [
    "athletes['Percent_Female'].describe()"
   ]
  },
  {
   "cell_type": "markdown",
   "id": "8e21dad0",
   "metadata": {},
   "source": [
    "<div dir=\"rtl\">\n",
    "برای دیدن مابقی صدک‌ها می‌توانیم از آرگومان استفاده کنیم. به عنوان مثال، می‌توانیم با کمک آرگومان\n",
    "\n",
    "`2/3 = 0.667 = 66.7%`\n",
    "\n",
    "صدک ۶۶.۷ درصد را به دست بیاوریم. محاسبه این صدک تقریبا به این معناست که درصد زنان ورزشکار دو سوم سطرهای ما کمتر یا برابر با ۴۸.۱۳ درصد است.  \n",
    "</div>"
   ]
  },
  {
   "cell_type": "code",
   "execution_count": null,
   "id": "f98dc3b6",
   "metadata": {},
   "outputs": [],
   "source": [
    "athletes['Percent_Female'].describe(percentiles=[2/3])"
   ]
  },
  {
   "cell_type": "markdown",
   "id": "4e500842",
   "metadata": {},
   "source": [
    "<h2 dir=\"rtl\"> آمار مرتبط با چند فیلد (ستون)</h2>\n",
    "<div dir=\"rtl\">\n",
    "شما همچنین می‌توانید این فیلدهای آماری را روی کل دیتافریم خود اجرا کنید تا محاسباتتان مشمول تمام فیلد‌ها شود. توجه داشته باشید که در ستون\n",
    "\n",
    "`Sports`\n",
    "\n",
    "تابع بیشترین و کمترین، رشته‌هایی \n",
    "\n",
    "(strings)\n",
    "\n",
    "را به نمایش می‌گذارد که طبق حروف الفبا به ترتیب اولین و آخرین رشته‌ها هستند.\n",
    "</div>"
   ]
  },
  {
   "cell_type": "code",
   "execution_count": null,
   "id": "d1f22568",
   "metadata": {},
   "outputs": [],
   "source": [
    "athletes.min()"
   ]
  },
  {
   "cell_type": "code",
   "execution_count": null,
   "id": "f8c87ba9",
   "metadata": {},
   "outputs": [],
   "source": [
    "athletes.max()"
   ]
  },
  {
   "cell_type": "markdown",
   "id": "7c0edf8f",
   "metadata": {},
   "source": [
    "<h3 dir=\"rtl\">فیلتر کردن سطرها</h3>\n",
    "<div dir=\"rtl\">\n",
    "توجه داشته باشید: مقدار بیشترین ستون‌های\n",
    "\n",
    "`Total`\n",
    "\n",
    "`Male` و\n",
    "\n",
    "`Female` \n",
    "\n",
    "در اصل مقدار برگرفته از سطری است که مجموع کل رشته‌های ورزشی را در بر دارد.. \n",
    "</div>"
   ]
  },
  {
   "cell_type": "code",
   "execution_count": null,
   "id": "cfca0388",
   "metadata": {},
   "outputs": [],
   "source": [
    "athletes.query('Sports == \"Total\"')"
   ]
  },
  {
   "cell_type": "markdown",
   "id": "7bd406f1",
   "metadata": {},
   "source": [
    "<div dir=\"rtl\">بنابراین شاید بهتر باشد سطر \n",
    "\n",
    "`Total`\n",
    "\n",
    "را در محاسبات خود نیاوریم تا بتوانیم مقایسه درست‌تری داشته باشیم. برای این کار، باید یک دیتافریم تازه بسازیم و در آن، مقادیر سطر\n",
    "\n",
    "`Total`\n",
    "\n",
    "را فیلتر کنیم.\n",
    "</div>"
   ]
  },
  {
   "cell_type": "code",
   "execution_count": null,
   "id": "c30be074",
   "metadata": {
    "scrolled": true
   },
   "outputs": [],
   "source": [
    "filtered_athletes = athletes.query('Sports != \"Total\"')\n",
    "filtered_athletes.head()"
   ]
  },
  {
   "cell_type": "markdown",
   "id": "91da6cf6",
   "metadata": {},
   "source": [
    "<div dir=\"rtl\">برای بررسی درستی محاسبه‌مان، می‌توانیم مجموع هر یک از این فیلد‌ها را محاسبه کنیم و ببینیم آیا مقدار به دست آمده با مقدار موجود در ستون \n",
    "\n",
    "`Total`\n",
    "\n",
    "برابر است یا نه:\n",
    "</div>"
   ]
  },
  {
   "cell_type": "code",
   "execution_count": null,
   "id": "4dfddf76",
   "metadata": {},
   "outputs": [],
   "source": [
    "filtered_athletes.sum()"
   ]
  },
  {
   "cell_type": "markdown",
   "id": "306f0e1b",
   "metadata": {},
   "source": [
    "<div dir=\"rtl\">توجه داشته باشید که مجموع به دست آمده از ستون\n",
    "\n",
    "`Sports`\n",
    "\n",
    "در اصل مجموعه تمامی رشته‌ها\n",
    "\n",
    "(strings)\n",
    "\n",
    "است. اگر می‌خواهیم فقط روی یک زیرگروه ستون‌ها تمرکز کنیم، می‌توانیم آن را مشخص کنیم. در این‌جا ما   \n",
    "\n",
    "`Percent_Female`\n",
    "\n",
    "را حذف می‌کنیم چرا که اضافه کردن درصد‌ها به این شکل، معنایی ندارد: \n",
    "</div>"
   ]
  },
  {
   "cell_type": "code",
   "execution_count": null,
   "id": "24df8215",
   "metadata": {
    "scrolled": true
   },
   "outputs": [],
   "source": [
    "filtered_athletes[['Total', 'Male', 'Female']].sum()"
   ]
  },
  {
   "cell_type": "markdown",
   "id": "09851a12",
   "metadata": {},
   "source": [
    "<div dir=\"rtl\">حال عدد ما با عدد به نمایش در‌آمده در\n",
    "\n",
    "`Total`\n",
    "\n",
    "دیتافریم اصلی ما مطابقت دارد. \n",
    "</div>"
   ]
  },
  {
   "cell_type": "code",
   "execution_count": null,
   "id": "7495c4a9",
   "metadata": {},
   "outputs": [],
   "source": [
    "athletes.query('Sports == \"Total\"')"
   ]
  },
  {
   "cell_type": "markdown",
   "id": "9c695112",
   "metadata": {},
   "source": [
    "<h3 dir=\"rtl\"> آمار مرتبط با دیتافریم فیلتر شده ما</h3>\n",
    "\n",
    "<div dir=\"rtl\">\n",
    "حال می‌توانیم از تابع\n",
    "\n",
    "`max()` \n",
    "\n",
    "دوباره استفاده کنیم و ببینیم بالاترین تعداد ورزشکاران یک رشته ورزشی ۶۰۴ هزار و ۱۲۲ نفر است.\n",
    "</div>"
   ]
  },
  {
   "cell_type": "code",
   "execution_count": null,
   "id": "8b2960e2",
   "metadata": {},
   "outputs": [],
   "source": [
    "filtered_athletes[['Total', 'Male', 'Female', 'Percent_Female']].max()"
   ]
  },
  {
   "cell_type": "markdown",
   "id": "6f15c1d9",
   "metadata": {},
   "source": [
    "<div dir=\"rtl\">\n",
    "حال می‌توانیم دیتافریم خود را بر اساس ستون\n",
    "\n",
    "`Total`\n",
    "\n",
    "مرتب کنیم. می‌بینیم که رشته مزبور که بیشتری تعداد ورزشکاران را دارد، رشته فوتبال است.\n",
    "</div>"
   ]
  },
  {
   "cell_type": "code",
   "execution_count": null,
   "id": "fa6d7b92",
   "metadata": {
    "scrolled": true
   },
   "outputs": [],
   "source": [
    "filtered_athletes.sort_values('Total', ascending=False)"
   ]
  },
  {
   "cell_type": "markdown",
   "id": "d1332014",
   "metadata": {},
   "source": [
    "<div dir=\"rtl\">\n",
    "با کمک دیتافریم فیلتر شده می‌توانیم میانگین و میانه ستون‌های عددی را نیز محاسبه کنیم؛ کاری که تنها از طریق مرتب کردن ستون‌ها امکان‌پذیر نیست.  \n",
    "</div>"
   ]
  },
  {
   "cell_type": "code",
   "execution_count": null,
   "id": "2e8ae479",
   "metadata": {},
   "outputs": [],
   "source": [
    "filtered_athletes[['Total', 'Male', 'Female', 'Percent_Female']].mean()"
   ]
  },
  {
   "cell_type": "code",
   "execution_count": null,
   "id": "be9db0dc",
   "metadata": {
    "scrolled": false
   },
   "outputs": [],
   "source": [
    "filtered_athletes[['Total', 'Male', 'Female', 'Percent_Female']].median()"
   ]
  },
  {
   "cell_type": "markdown",
   "id": "f0020d5f",
   "metadata": {},
   "source": [
    "<div dir=\"rtl\">\n",
    "طبق اعداد به دست آمده می‌بینیم که میانه\n",
    "\n",
    "`Total` \n",
    "\n",
    "به مراتب کمتر از میانگین است. این بدان معناست که مقادیر ما به سمت راست تمایل دارند. برای بررسی این موضوع می‌توان از هیستوگرام هم استفاده کرد. برای این کار ابتدا باید پکیج \n",
    "\n",
    "`matplotlib`\n",
    "\n",
    "را وارد کنیم؛ پکیجی که برای تصویرسازی استفاده می‌شود.\n",
    "</div>"
   ]
  },
  {
   "cell_type": "code",
   "execution_count": null,
   "id": "779db8ad",
   "metadata": {},
   "outputs": [],
   "source": [
    "import matplotlib as plt"
   ]
  },
  {
   "cell_type": "markdown",
   "id": "17228422",
   "metadata": {},
   "source": [
    "<div dir=\"rtl\">\n",
    "با مشاهده هیستوگرام مقادیر\n",
    "\n",
    "`Total`\n",
    "\n",
    "به وضوح می‌بینیم که توزیع جدول ما انحراف به راست دارد؛ به عبارتی تعداد ورزشکاران بسیاری از رشته‌های ورزشی کم است و تنها چند رشت ورزشی هستند که تعداد ورزشکارانشان بسیار بالاست:\n",
    "</div>"
   ]
  },
  {
   "cell_type": "code",
   "execution_count": null,
   "id": "2a66c18b",
   "metadata": {},
   "outputs": [],
   "source": [
    "filtered_athletes.hist('Total')"
   ]
  },
  {
   "cell_type": "markdown",
   "id": "f3ac7ac1",
   "metadata": {},
   "source": [
    "<div dir=\"rtl\">\n",
    "نهایتا، همانند مثال بالا در خصوص ستون\n",
    "\n",
    "`Percent_Female`\n",
    "\n",
    "می‌توانیم از تابع \n",
    "\n",
    "`describe()`\n",
    "\n",
    "استفاده کنیم. این کار آمار معادل برای فیلدهای عددی را به نمایش می‌گذارد. بر این اساس هم می‌توانیم نحوه توزیع دیتافریم خود را بررسی کنیم:\n",
    "</div>"
   ]
  },
  {
   "cell_type": "code",
   "execution_count": null,
   "id": "ccd981cd",
   "metadata": {},
   "outputs": [],
   "source": [
    "filtered_athletes.describe()"
   ]
  },
  {
   "cell_type": "markdown",
   "id": "4cb315c5",
   "metadata": {},
   "source": [
    "<h2 dir=\"rtl\"> نتیجه‌گیری</h2>\n",
    "\n",
    "<div dir=\"rtl\">\n",
    "حال بیایید به آن‌چه را که در این نوت‌بوک بررسی کردیم، مرور کنیم:\n",
    "\n",
    "آموختیم که به کمک \n",
    "\n",
    "`head()`\n",
    "\n",
    "می‌توانیم پنج سطر اول دیتافریم خود را ببینیم و با کمک ویژگی\n",
    "\n",
    "(attribute)\n",
    "\n",
    "`shape` \n",
    "\n",
    "ببینیم دیتافریم ما دارای چند سطر و ستون است. همچنین آموختیم که می‌توانیم با استفاده از\n",
    "\n",
    "`unique()`\n",
    "\n",
    "مقادیر ستون مدنظر خود را بررسی کنیم.\n",
    "\n",
    "\n",
    "همچنین یادگرفتیم که می‌توانیم بر اساس محاسبات اعمال شده روی ارزش‌های مرتبط با هر ستون، یک ستون جدید تعریف کنیم. \n",
    "\n",
    "فهمیدیم که با کمک کروشه می‌توانیم یک ستون مشخص را فرا بخوانیم. به عنوان مثال:\n",
    "\n",
    "`athletes['Percent_Female']`\n",
    "\n",
    "و همچنین می‌توانیم اصول اساسی آمار نظیر محاسبه مقدار بیشترین، کمترین و میانگین را روی ستون‌ها اعمال کنیم. در عین حال می‌توانیم با کمک\n",
    "\n",
    "`sort_values()`\n",
    "\n",
    "دیتافریم خود را بر اساس یک ستون مرتبط کنیم.\n",
    "\n",
    "همچنین عملیات کمترین و بیشترین و سایر محاسبات آماری را روی چندین ستون دیتافریم اعمال کردیم. همچنین آموختیم که با کمک\n",
    "\n",
    "`describe()`\n",
    "\n",
    "می‌توانیم یک خلاصه اولیه آماری نظیر محاسبه صدک از دیتافریم خود به دست بیاوریم.\n",
    "\n",
    "در عین حال آموختیم که اگر خواهان تحلیل یک زیرمجموعه هستیم، می‌توانیم با کمک \n",
    "\n",
    "`query()`\n",
    "\n",
    "مقادیر دیتافریم خود را فیلتر کنیم.\n",
    "\n",
    "</div>\n",
    "<h3 dir=\"rtl\">منابع دیگر</h3>\n",
    "<div dir=\"rtl\">\n",
    "\n",
    "با هر آن‌چه تا اینجای نوت‌بوک آموختید، می‌توانید جنبه‌های مختلفی از داده خود را تحلیل کنید. برای تحلیل‌های پیچیده‌تر، می‌توانید این توابع را بیشتر بررسی کنید:\n",
    "\n",
    "- [value_counts](https://pandas.pydata.org/pandas-docs/stable/reference/api/pandas.DataFrame.value_counts.html)\n",
    "این تابع تعداد یک مقدار مشخص را به شما می‌دهد.\n",
    "\n",
    "- [groupby](https://pandas.pydata.org/pandas-docs/stable/user_guide/groupby.html#splitting-an-object-into-groups) این تابع برای زمانی مفید است که می خواهید یک دیتافریم را بر اساس یک ستون خاص به گروه هایی تقسیم کنید. این تابع را می‌توانید با `value_counts`نیز ترکیب کنید.\n",
    "\n",
    "- [pivot_table](https://pandas.pydata.org/pandas-docs/stable/user_guide/reshaping.html#pivot-tables) اگر با نرم‌افزار صفحات گسترده مانند گوگل شیتس یا  مایکروسافت اکسل آشنایی دارید، ممکن است بخواهید یک جدول محوری ایجاد کنید که این کار با استفاده از تابع `pivot_table` امکان پذیر است.\n",
    "</div>"
   ]
  },
  {
   "cell_type": "code",
   "execution_count": null,
   "id": "ba9d691c",
   "metadata": {},
   "outputs": [],
   "source": []
  }
 ],
 "metadata": {
  "kernelspec": {
   "display_name": "Python 3 (ipykernel)",
   "language": "python",
   "name": "python3"
  },
  "language_info": {
   "codemirror_mode": {
    "name": "ipython",
    "version": 3
   },
   "file_extension": ".py",
   "mimetype": "text/x-python",
   "name": "python",
   "nbconvert_exporter": "python",
   "pygments_lexer": "ipython3",
   "version": "3.10.11"
  }
 },
 "nbformat": 4,
 "nbformat_minor": 5
}
