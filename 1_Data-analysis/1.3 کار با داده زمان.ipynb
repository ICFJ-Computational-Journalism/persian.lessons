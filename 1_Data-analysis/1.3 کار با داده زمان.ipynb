{
 "cells": [
  {
   "cell_type": "markdown",
   "id": "83cb35c9",
   "metadata": {},
   "source": [
    "<div dir=\"rtl\">\n",
    "\n",
    "در درس‌های قبل گفتیم قبل از این که بتوانیم از `پانداس` روی کامپیوترمان استفاده کنیم . باید آن را\n",
    "نصب کنیم. این کار را با استفاده از `pip`\n",
    "انجام می دهیم که یک ابزار برای نصب پکیج‌های پایتون است.\n",
    "حالا اگر هنوز`پانداس` را نصب نداریم این کار را انجام می‌دهیم\n",
    "علاوه بر`پانداس` باید یک پکیج جدید را هم نصب کنیم که برای کار کردن بااشکال مربوط به زمان به آن نیاز داریم. \n",
    " پکیج جدید :\n",
    "`jdatetime`\n",
    " </div>"
   ]
  },
  {
   "cell_type": "markdown",
   "id": "67194e80",
   "metadata": {},
   "source": [
    "<div dir=\"rtl\">\n",
    "\n",
    "## ۱.۳ کار با داده زمان\n",
    "</div>\n",
    "\n",
    "<a href=\"https://www.youtube.com/watch?v=PZJHF1dyuII&list=PLY_JJbHwd6kftjlcbtChIKZfEPEfFRGcY&index=8&ab_channel=TheInternationalJournalists%27Network\">\n",
    "<img src=\"https://dotnet-talk.com/images/icfj/1_3.jpg\" width=\"50%\" alt=\"داده های زمان - ویدیو\" />\n",
    "</a>"
   ]
  },
  {
   "cell_type": "markdown",
   "id": "71b7f2fc",
   "metadata": {},
   "source": [
    "<div dir=\"rtl\">\n",
    "\n",
    "### مقدمه‌ای بر `ماژول تاریخ-زمان`\n",
    "\n",
    "پایتون چندین [تیپ از پیش ساخته شده](https://docs.python.org/3/library/stdtypes.html) دارد، تایپ‌هایی نظیر:\n",
    "\n",
    "- `int`\n",
    "\n",
    "`اینت` برای اعداد صحیح به کار می‌رود؛ به عنوان مثال `-۱` یا `۲۰۲۳`.\n",
    "\n",
    "- `str`\n",
    "\n",
    "`اِس‌تی‌آر` برای رشته‌ها به کار می‌رود؛ به عنوان مثال `\"سلام\"`، و \n",
    "\n",
    "- ‍‍`list`\n",
    "\n",
    ".`لیست` برای فهرست کردن موارد، نظیر [۱، ۲، ۳] یا [\"گاو\", \"خوک\", \"بز\", \"جوجه\"] \n",
    "\n",
    "همچنین می‌توانیم از «کلاس‌ها» برای ایجاد تیپ‌های پیچیده‌تر استفاده کنیم. پیشتر از [کلاس](https://pandas.pydata.org/docs/reference/api/pandas.DataFrame.html)`دیتافریم`که در `پانداس` موجود است، استفاده کرده‌ایم. حال می‌خواهیم از کلاس‌های مختلفی که در [ماژول](https://docs.python.org/3/library/datetime.html) `تاریخ-زمان` موجود است استفاده خواهیم کرد. این کلاس‌های بخشی از کتابخانه پایتون است.\n",
    "\n",
    "برای استفاده از ماژول `تاریخ-زمان`، ابتدا باید آن را ایمپورت کنیم. ما از مخفف `دی‌تی` یا همان \n",
    "\n",
    "`dt`\n",
    "\n",
    "برای این ماژول استفاده می‌کنیم:\n",
    " </div>"
   ]
  },
  {
   "cell_type": "code",
   "execution_count": null,
   "id": "f59f9910",
   "metadata": {},
   "outputs": [],
   "source": [
    "!pip3 install datetime==5.1"
   ]
  },
  {
   "cell_type": "code",
   "execution_count": null,
   "id": "b9188003",
   "metadata": {},
   "outputs": [],
   "source": [
    "!pip3 install jdatetime==4.1.1"
   ]
  },
  {
   "cell_type": "code",
   "execution_count": null,
   "id": "400b19a4",
   "metadata": {},
   "outputs": [],
   "source": [
    "!pip3 install numpy==1.25.0"
   ]
  },
  {
   "cell_type": "code",
   "execution_count": null,
   "id": "6235123d",
   "metadata": {},
   "outputs": [],
   "source": [
    "!pip3 install pandas==2.0.2"
   ]
  },
  {
   "cell_type": "code",
   "execution_count": null,
   "id": "e1c63fe3",
   "metadata": {},
   "outputs": [],
   "source": [
    "import datetime as dt"
   ]
  },
  {
   "cell_type": "markdown",
   "id": "f4b594ea",
   "metadata": {},
   "source": [
    "### کلاس `تاریخ-زمان`\n",
    "\n",
    "نخستین کلاسی که در ماژول `تاریخ-زمان` بررسی خواهیم کرد، همان `تاریخ-زمان` خواهد بود. این کلاس اشیاء (آبجکت‌ها) حاوی تقویم گریگوری (سال، ماه، روز) و زمان (ساعت، دقیقه، ثانیه، میلیونیم ثانیه) است. به عنوان مثال، می‌توانیم `تاریخ-زمان` هم‌اکنون را دریافت کنیم "
   ]
  },
  {
   "cell_type": "code",
   "execution_count": null,
   "id": "f1b2f027",
   "metadata": {},
   "outputs": [],
   "source": [
    "dt.datetime.now()"
   ]
  },
  {
   "cell_type": "markdown",
   "id": "ab915f5a",
   "metadata": {},
   "source": [
    "### کلاس `تاریخ`\n",
    "\n",
    "گاهی به دقت زمانی بالایی نیاز نداریم و فقط می‌خواهیم تاریخ را بدانیم. برای این کار، ماژول ما کلاس `تاریخ` را دارد. به عنوان مثال، می‌توانیم از آبجکت (شیء) `تاریخ` برای به دست آوردن تاریخ امروز استفاده کنیم:"
   ]
  },
  {
   "cell_type": "code",
   "execution_count": null,
   "id": "715c6612",
   "metadata": {},
   "outputs": [],
   "source": [
    "dt.date.today()"
   ]
  },
  {
   "cell_type": "markdown",
   "id": "623d55bd",
   "metadata": {},
   "source": [
    "همچنین می‌توانیم آرگومان‌هایی را وارد شیء (آبجکت) `تاریخ` بکنیم تا تاریخ مشخصی را داشته باشیم:\n",
    "\n",
    "`dt.date(year, month, day)`"
   ]
  },
  {
   "cell_type": "code",
   "execution_count": null,
   "id": "2cc7b24c",
   "metadata": {},
   "outputs": [],
   "source": [
    "dt.date(2010, 12, 31)"
   ]
  },
  {
   "cell_type": "markdown",
   "id": "ece09c24",
   "metadata": {},
   "source": [
    "این کتابخانه همچنین حاوی تابع‌های کمکی (یوتیلیتی) است. مثلا می‌توانیم یک رشته در فرمت ایزو را به شی (آبجکت) `تاریخ` تبدیل کنیم:"
   ]
  },
  {
   "cell_type": "code",
   "execution_count": null,
   "id": "b1cacd94",
   "metadata": {},
   "outputs": [],
   "source": [
    "dt.date.fromisoformat(\"2010-12-31\")"
   ]
  },
  {
   "cell_type": "markdown",
   "id": "76ed1a58",
   "metadata": {},
   "source": [
    "همچنین می‌توانیم تاریخ را در فرمت‌های مختلفی دریافت کنیم. برای تنظیم این فرمت‌ها، می‌توانید رشته فرمت خودتان را ایجاد کنیم. به عنوان مثال،  \n",
    "\n",
    "`%d` \n",
    "\n",
    "روز را به صورت دورقمی نمایش می‌دهد و \n",
    "\n",
    "`%A`\n",
    "\n",
    "روز هفته را به صورت کامل نمایش می‌دهد."
   ]
  },
  {
   "cell_type": "code",
   "execution_count": null,
   "id": "d31cb856",
   "metadata": {},
   "outputs": [],
   "source": [
    "my_date = dt.date(2010, 12, 31)\n",
    "print(\"ISO format:   \" + my_date.isoformat())\n",
    "print(\"%d/%m/%y:     \" + my_date.strftime(\"%d/%m/%y\"))\n",
    "print(\"%A %d. %B %Y: \" + my_date.strftime(\"%A %d. %B %Y\"))"
   ]
  },
  {
   "cell_type": "markdown",
   "id": "2c17e9d1",
   "metadata": {},
   "source": [
    "تمامی رشته‌های مرتبط با تاریخ و زمان را می‌توانید در [این صفحه رسمی پایتون](https://docs.python.org/3/library/datetime.html#strftime-and-strptime-format-codes) پیدا کنید. "
   ]
  },
  {
   "cell_type": "markdown",
   "id": "f6d0db1f",
   "metadata": {},
   "source": [
    "### کلاس‌های دیگر\n",
    "\n",
    "ماژول `تاریخ-زمان` چندین کلاس دیگر هم دارد؛ کلاس‌هایی نظیر:\n",
    "\n",
    "- کلاس زمان یا همان \n",
    "\n",
    "`time`\n",
    "\n",
    "که زمان را به وقت محلی به ما می‌دهد\n",
    "\n",
    "- کلاس تایم‌دلتا یا همان\n",
    "\n",
    "`timedelta`\n",
    "\n",
    "که فاصله زمانی میان تو تاریخ یا ساعت را به ما نشان می‌دهد\n",
    "\n",
    "برای اطلاعات بیشتر درباره این کلاس‌ها، همیشه می‌توانید به [مستندات مرتبط با ماژول تاریخ-زمان](https://docs.python.org/3/library/datetime.html) در صفحه رسمی پایتون مراجعه کنید."
   ]
  },
  {
   "cell_type": "markdown",
   "id": "21f1d75b",
   "metadata": {},
   "source": [
    "## استفاده از `تاریخ-زمان` در دیتافریم\n",
    "\n",
    "حال که به درکی از کلاس‌های `تاریخ-زمان` و `تاریخ` رسیدیم، بگذارید از این کلاس‌ها برای تحلیل دیتابیس‌های بزرگ در `پانداس` استفاده کنیم. فرض کنید یک فایل سی‌اِ،س‌وی داریم که هر سطر آن حاوی نام یکی از روسای جمهور ایران و تاریخ آغاز و پایان ریاست جمهوری‌اش است. می‌توانیم برای این فایل یک دیتافریم بسازیم: "
   ]
  },
  {
   "cell_type": "code",
   "execution_count": null,
   "id": "03ce70f9",
   "metadata": {},
   "outputs": [],
   "source": [
    "import pandas as pd\n",
    "from io import StringIO"
   ]
  },
  {
   "cell_type": "code",
   "execution_count": null,
   "id": "27464d59",
   "metadata": {},
   "outputs": [],
   "source": [
    "csv_data = \"\"\"name,took_office,left_office\n",
    "Abolhassan Banisadr,4 February 1980,22 June 1981\n",
    "Mohammad-Ali Rajai,2 August 1981,30 August 1981\n",
    "Ali Khamenei,9 October 1981,16 August 1989\n",
    "Akbar Hashemi Rafsanjani,16 August 1989,3 August 1997\n",
    "Mohammad Khatami,3 August 1997,3 August 2005\n",
    "Mahmoud Ahmadinejad,3 August 2005,3 August 2013\n",
    "Hassan Rouhani,3 August 2013,3 August 2021\n",
    "Ebrahim Raisi,3 August 2021,\"\"\""
   ]
  },
  {
   "cell_type": "code",
   "execution_count": null,
   "id": "68fdb90e",
   "metadata": {},
   "outputs": [],
   "source": [
    "presidents = pd.read_csv(StringIO(csv_data))\n",
    "presidents"
   ]
  },
  {
   "cell_type": "markdown",
   "id": "cd0e9dad",
   "metadata": {},
   "source": [
    "*توجه داشته باشید که سطر هفت، ستون «پایان ریاست‌جمهوری» حاوی مقدار  \n",
    "\n",
    "`NaN`\n",
    "\n",
    "است. این مخفف به معنای «عددی نیست» است و در اصل به این معناست که [این داده موجود نیست](https://pandas.pydata.org/pandas-docs/dev/user_guide/gotchas.html#nan-integer-na-values-and-na-type-promotions).\n",
    "\n",
    "حال بیایید این دیتافریم را بر اساس ستون «آغاز ریاست جمهوری» مرتب کنیم:"
   ]
  },
  {
   "cell_type": "code",
   "execution_count": null,
   "id": "cd2a9103",
   "metadata": {},
   "outputs": [],
   "source": [
    "presidents.sort_values(\"took_office\")"
   ]
  },
  {
   "cell_type": "markdown",
   "id": "8835f5d3",
   "metadata": {},
   "source": [
    "می‌بینیم که اگرچه اکبر هاشمی رفسنجانی در اصل سومین رئیس جمهور جمهوری اسلامی است، نام او اول آمده. دلیل این امر آن است که نوع داده این ستون رشته است. از این طریق می‌توانیم از نوع یا هر ستون آگاه شویم:  "
   ]
  },
  {
   "cell_type": "code",
   "execution_count": null,
   "id": "3022b07b",
   "metadata": {},
   "outputs": [],
   "source": [
    "presidents.dtypes"
   ]
  },
  {
   "cell_type": "markdown",
   "id": "048619cc",
   "metadata": {},
   "source": [
    "اگر بخواهیم دو ستون \n",
    "\n",
    "`took_office` \n",
    "\n",
    "و\n",
    "\n",
    "`left_office`\n",
    "\n",
    "را به اشیا(آبجکت‌های) تاریخ-زمان تبدیل کنیم، می‌توانیم از فرمان \n",
    "\n",
    "`to_datetime`\n",
    "\n",
    "در پانداس استفاده کنیم:"
   ]
  },
  {
   "cell_type": "code",
   "execution_count": null,
   "id": "0c4fc5eb",
   "metadata": {},
   "outputs": [],
   "source": [
    "presidents[\"took_office\"] = pd.to_datetime(presidents[\"took_office\"].str.strip(), format=\"%d %B %Y\")\n",
    "presidents[\"left_office\"] = pd.to_datetime(presidents[\"left_office\"].str.strip(), format=\"%d %B %Y\")"
   ]
  },
  {
   "cell_type": "code",
   "execution_count": null,
   "id": "3e0d5f21",
   "metadata": {},
   "outputs": [],
   "source": [
    "presidents"
   ]
  },
  {
   "cell_type": "markdown",
   "id": "e801a6ba",
   "metadata": {},
   "source": [
    "حال اگر نوع ستون‌هایمان را دوباره بررسی کنیم، متوجه می‌شویم که نوع دو ستونی \n",
    "\n",
    "`took_office` \n",
    "\n",
    "و\n",
    "\n",
    "`left_office`\n",
    "\n",
    "به `تاریخ-زمان` تغییر کرده است:"
   ]
  },
  {
   "cell_type": "code",
   "execution_count": null,
   "id": "28608c17",
   "metadata": {},
   "outputs": [],
   "source": [
    "presidents.dtypes"
   ]
  },
  {
   "cell_type": "markdown",
   "id": "a9d89da2",
   "metadata": {},
   "source": [
    "و حال اگر بار دیگر داده‌هایمان را بر اساس ستون «آغاز ریاست جمهوری» مرتب کنیم، همه‌چیز به درستی مرتب می‌شود.:"
   ]
  },
  {
   "cell_type": "code",
   "execution_count": null,
   "id": "ea862b52",
   "metadata": {},
   "outputs": [],
   "source": [
    "presidents.sort_values(\"took_office\")"
   ]
  },
  {
   "cell_type": "markdown",
   "id": "ee8da8e5",
   "metadata": {},
   "source": [
    "همچنین می‌توانیم تحلیل‌های جالب‌تری روی این ستون‌ها انجام بدهیم. به عنوان مثال، می‌توانیم به مدت زمان ریاست جمهوری هر یک از این افراد دست پیدا کنیم:"
   ]
  },
  {
   "cell_type": "code",
   "execution_count": null,
   "id": "940536fc",
   "metadata": {},
   "outputs": [],
   "source": [
    "presidents[\"duration\"] = presidents[\"left_office\"] - presidents[\"took_office\"]"
   ]
  },
  {
   "cell_type": "code",
   "execution_count": null,
   "id": "b05e0776",
   "metadata": {},
   "outputs": [],
   "source": [
    "presidents"
   ]
  },
  {
   "cell_type": "markdown",
   "id": "e0bdb3f2",
   "metadata": {},
   "source": [
    "یا اگر بخواهیم، می‌توانیم سطورمان را بر اساس کوتاه‌ترین مدت ریاست جمهوری مرتب کنیم:"
   ]
  },
  {
   "cell_type": "code",
   "execution_count": null,
   "id": "94e02115",
   "metadata": {},
   "outputs": [],
   "source": [
    "presidents.sort_values(\"duration\")"
   ]
  },
  {
   "cell_type": "markdown",
   "id": "d26dcb5b",
   "metadata": {},
   "source": [
    "## تاریخ جلالی\n",
    "\n",
    "در داده‌های فارسی ممکن است اغلب از تقویم جلالی استفاده بشود. این در حالی است که کلاس‌های `تاریخ-زمان` بر اساس تقویم گریگوری تنظیم شده است. اما برای حل این مشکل، فردی یک [پکیج](https://pypi.org/project/jdatetime/) دیگر تهیه کرده با نام \n",
    "\n",
    "`jdatetime`\n",
    "\n",
    " که به معنای «پیاده‌سازی تقویم جلالی بر اساس ماژول تاریخ-زمان پایتون» است."
   ]
  },
  {
   "cell_type": "code",
   "execution_count": null,
   "id": "f3e740f8",
   "metadata": {},
   "outputs": [],
   "source": [
    "import jdatetime as jdt\n",
    "import locale"
   ]
  },
  {
   "cell_type": "code",
   "execution_count": null,
   "id": "89cc6cc6",
   "metadata": {},
   "outputs": [],
   "source": [
    "import numpy"
   ]
  },
  {
   "cell_type": "markdown",
   "id": "1c3bd850",
   "metadata": {},
   "source": [
    "با این پکیج می‌توانیم بسیاری از همان کارهایی را که با ماژول `تاریخ-زمان` انجام می‌دهیم، انجام بدهیم. به عنوان مثال دریافت `تاریخ-زمان` و `تاریخ` بر اساس تقویم جلالی:   "
   ]
  },
  {
   "cell_type": "code",
   "execution_count": null,
   "id": "7d36a111",
   "metadata": {},
   "outputs": [],
   "source": [
    "jdt.datetime.now()"
   ]
  },
  {
   "cell_type": "code",
   "execution_count": null,
   "id": "61c77289",
   "metadata": {},
   "outputs": [],
   "source": [
    "jdt.date.today()"
   ]
  },
  {
   "cell_type": "markdown",
   "id": "f4001c1c",
   "metadata": {},
   "source": [
    "### تبدیل تقویم گریگوری به جلالی\n",
    "\n",
    "این پکیج همچنین امکان تبدیل تاریخ گریگوری به جلالی و برعکس را به ما می‌دهد."
   ]
  },
  {
   "cell_type": "code",
   "execution_count": null,
   "id": "bc0ca51e",
   "metadata": {},
   "outputs": [],
   "source": [
    "jdt.date.fromgregorian(day=31, month=12, year=2010)"
   ]
  },
  {
   "cell_type": "code",
   "execution_count": null,
   "id": "645ca9ee",
   "metadata": {},
   "outputs": [],
   "source": [
    "jdt.date(1389,10,10).togregorian()"
   ]
  },
  {
   "cell_type": "markdown",
   "id": "ab56c17b",
   "metadata": {},
   "source": [
    "### فرمت کردن رشته‌های تاریخ جلالی\n",
    "\n",
    "توجه داشته باشید که برای فرمت کردن این رشته‌ها به منظور ساخت اشیای تاریخ و تاریخ-زمان، ممکن است لازم باشد از آرگومان \n",
    "\n",
    "`locale`\n",
    "\n",
    "استفاده کنید:\n",
    "\n",
    "`locale=\"fa_IR\"`\n",
    "\n",
    "در غیر این صورت، ممکن است رشته شما با حروف لاتین نوشته شوند."
   ]
  },
  {
   "cell_type": "code",
   "execution_count": null,
   "id": "671d47bb",
   "metadata": {},
   "outputs": [],
   "source": [
    "en_date = jdt.date(1397, 4, 23)\n",
    "\n",
    "print(en_date.strftime(\"%A, %d %b %Y\"))"
   ]
  },
  {
   "cell_type": "markdown",
   "id": "7c085498",
   "metadata": {},
   "source": [
    "### تاریخ جلالی در دیتافریم\n",
    "\n",
    "حال بیایید به یک مثال کوچک در خصوص دیتافریم با تاریخ جلالی نگاه کنیم. در اینجا ما از داده مرتبط با [مصرف فرآورده‌های انرژی‌ زا](https://iranopendata.org/fa_IR/dataset/consumption-energy-products-2-1355-1397) استفاده خواهیم کرد."
   ]
  },
  {
   "cell_type": "code",
   "execution_count": null,
   "id": "32e4d0cc",
   "metadata": {},
   "outputs": [],
   "source": [
    "df = pd.read_csv(\"../datasets/csv/energy-products-1355-1397-fa.csv\")"
   ]
  },
  {
   "cell_type": "code",
   "execution_count": null,
   "id": "afb8000f",
   "metadata": {},
   "outputs": [],
   "source": [
    "df"
   ]
  },
  {
   "cell_type": "markdown",
   "id": "65a0c15b",
   "metadata": {},
   "source": [
    "می‌بینیم که سال‌ها به صورت اعداد صحیح خوانده می‌شوند."
   ]
  },
  {
   "cell_type": "code",
   "execution_count": null,
   "id": "492d3fec",
   "metadata": {},
   "outputs": [],
   "source": [
    "df.dtypes"
   ]
  },
  {
   "cell_type": "markdown",
   "id": "1e4af1b7",
   "metadata": {},
   "source": [
    "اگر بخواهیم تاریخ را به تاریخ جلالی تغییر بدهیم، می‌توانیم از فرمان\n",
    "\n",
    "apply()\n",
    "\n",
    "که در دیتافریم دارای کلاس است استفاده کنیم. حال می‌توانیم ازن فرمان را برای هر سطر اجرا کنیم. برای این مورد، ما «سال» موجود در هر سطر را برداشته و از آن برای ساخت یک شیء تاریخ بر اساس کتابخانه\n",
    "\n",
    "jdatetime\n",
    "\n",
    "استفاده می‌کنیم:"
   ]
  },
  {
   "cell_type": "code",
   "execution_count": null,
   "id": "5cfdbe3d",
   "metadata": {},
   "outputs": [],
   "source": [
    "df[\"jdt_year\"] = df.apply(lambda row: jdt.date(int(row[\"سال\"]), 1, 1), axis=1)"
   ]
  },
  {
   "cell_type": "code",
   "execution_count": null,
   "id": "62a0abb4",
   "metadata": {},
   "outputs": [],
   "source": [
    "df.head()"
   ]
  },
  {
   "cell_type": "markdown",
   "id": "07dee726",
   "metadata": {},
   "source": [
    "حال که از کلاس تاریخ در ماژول \n",
    "\n",
    "jdatetime\n",
    "\n",
    "استفاده می‌کنیم، می‌توانیم از فرمان\n",
    "\n",
    "togregorian()\n",
    "\n",
    "برای تبدیل تاریخ جلالی به گریگوری استفاده کنیم."
   ]
  },
  {
   "cell_type": "code",
   "execution_count": null,
   "id": "a6d111af",
   "metadata": {},
   "outputs": [],
   "source": [
    "df[\"dt_year\"] = df.apply(lambda row: row[\"jdt_year\"].togregorian(), axis=1)"
   ]
  },
  {
   "cell_type": "code",
   "execution_count": null,
   "id": "9b66be77",
   "metadata": {},
   "outputs": [],
   "source": [
    "df.head()"
   ]
  }
 ],
 "metadata": {
  "kernelspec": {
   "display_name": "Python 3 (ipykernel)",
   "language": "python",
   "name": "python3"
  },
  "language_info": {
   "codemirror_mode": {
    "name": "ipython",
    "version": 3
   },
   "file_extension": ".py",
   "mimetype": "text/x-python",
   "name": "python",
   "nbconvert_exporter": "python",
   "pygments_lexer": "ipython3",
   "version": "3.10.11"
  }
 },
 "nbformat": 4,
 "nbformat_minor": 5
}
