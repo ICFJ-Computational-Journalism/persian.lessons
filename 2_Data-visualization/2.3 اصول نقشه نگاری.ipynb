{
 "cells": [
  {
   "cell_type": "markdown",
   "metadata": {
    "id": "ZRkd5aHdiaLz"
   },
   "source": [
    "<h1 dir=\"rtl\">مقدمه‌ای درباره اصول نقشه نگاری</h1>"
   ]
  },
  {
   "cell_type": "markdown",
   "metadata": {},
   "source": [
    "<br />\n",
    "\n",
    "<a href=\"https://www.youtube.com/watch?v=22NO4ReFCzY&list=PLY_JJbHwd6kftjlcbtChIKZfEPEfFRGcY&index=20&ab_channel=TheInternationalJournalists%27Network\">\n",
    "<img src=\"https://dotnet-talk.com/images/icfj/2_3.jpg\" width=\"50%\" alt=\"اصول نقشه نگاری - ویدیو\" />\n",
    "</a>\n",
    "\n",
    "<br />"
   ]
  },
  {
   "cell_type": "markdown",
   "metadata": {
    "id": "C4avj6Toko4Y"
   },
   "source": [
    "<p dir=\"rtl\">می‌توانیم با استفاده از چندین کتابخانه Python به راحتی مجموعه‌داده‌ها را نقشه نگاری کنیم. یکی از ساده‌ترین کتابخانه‌هایی که می‌توانیم استفاده کنیم، به نام <span style=\"color: orange\">folium</span> است که برای نمایش اولین mapها از آن استفاده خواهیم کرد. برای کسب اطلاعات بیشتر درباره folium <a href=\"https://python-visualization.github.io/folium/\">اینجا</a> کلیک کنید. همچنین در پایان این درس، منابع جایگزین را نیز ارائه خواهیم داد.</p>"
   ]
  },
  {
   "cell_type": "code",
   "execution_count": null,
   "metadata": {},
   "outputs": [],
   "source": [
    "# First, we have to install both folium and geopandas packages. \n",
    "\n",
    "!pip3 install folium==0.14.0\n",
    "!pip3 install geopandas==0.13.2"
   ]
  },
  {
   "cell_type": "code",
   "execution_count": null,
   "metadata": {
    "id": "IsnoJP0eiCyX"
   },
   "outputs": [],
   "source": [
    "# importing necessary libraries\n",
    "\n",
    "# for any data cleaning/sorting/filtering\n",
    "import numpy as np\n",
    "import pandas as pd\n",
    "\n",
    "# for mapping\n",
    "import folium"
   ]
  },
  {
   "cell_type": "markdown",
   "metadata": {
    "id": "U4zzvdk1igy9"
   },
   "source": [
    "<h3 dir=\"rtl\">وارد کردن و پاک‌سازی داده برای مپ کردن</h3>\n",
    "\n",
    "<p dir=\"rtl\">برای قسمت اول این درس، مجموعه‌داده‌ای متفاوت از دو درس قبلی داده‌بینی را مورد بررسی قرار خواهیم داد. ما قصد داریم جمعیت زندانیان در سراسر جهان در سال 2022 را از <a href=\"https://iranopendata.org/en/dataset/iod-03646-prison-populations-2022/resource/4c66de54-7d7f-4790-8f3c-8ee8b7857886\">World Prison Brief</a> نقشه‌برداری کنیم. برای دانلود مستقیم این داده، می‌توانید <a href=\"https://media.iranopendata.org/IODBU2/2023/03/03/iod-03647-prison-populations-2022-en.csv\">به این لینک</a> کلیک کنید. در غیر اینصورت، ما CSV را از <a href=\"https://raw.githubusercontent.com/ICFJ-Computational-Journaism/datasets/main/csv/iod-03647-prison-populations-2022-en.csv\">این لینک github</a> وارد خواهیم کرد.</p>"
   ]
  },
  {
   "cell_type": "code",
   "execution_count": null,
   "metadata": {
    "colab": {
     "base_uri": "https://localhost:8080/",
     "height": 424
    },
    "id": "z6J2uTlyVG_Y",
    "outputId": "2740e92d-5553-4c51-f6a3-7f0bc78ecde6"
   },
   "outputs": [],
   "source": [
    "# We'll first need to download the data from Iran Open Data and import the csv as a dataframe, as we have been in previous lessons\n",
    "\n",
    "prison_pop = pd.read_csv(\"../datasets/csv/iod-03647-prison-populations-2022-en.csv\")\n",
    "prison_pop # to check"
   ]
  },
  {
   "cell_type": "markdown",
   "metadata": {
    "id": "UZW_Y1sXimd-"
   },
   "source": [
    "<div dir=\"rtl\">معمولاً مجموعه‌داده‌ای که می‌خواهید نقشه‌برداری کنید، از ابتدا تمیز نخواهد بود. پس از وارد کردن آن به یک dataframe، ما باید داده ها را قبل از نقشه نگاری، تمیز کنیم.</div>\n",
    "\n",
    "<div dir=\"rtl\">ما می‌خواهیم مطمئن شویم که مجموع جمعیت زندانیان به صورت اعداد اعشاری یا اعداد صحیح، نه مقادیر رشته‌ای باشد. و اگر این مقادیر رشته‌ای باشند، باید آنها را تبدیل کنیم! این موضوع برای مپ کردن داده‌ها در زمان بعدی بسیار مهم است.</div>\n"
   ]
  },
  {
   "cell_type": "code",
   "execution_count": null,
   "metadata": {
    "colab": {
     "base_uri": "https://localhost:8080/",
     "height": 397
    },
    "id": "w0fbflZODsH8",
    "outputId": "5e304f40-565e-46e0-df0d-34b98be4ce7c",
    "scrolled": true
   },
   "outputs": [],
   "source": [
    "# Prison population values are actually string values, not integers or float values,\n",
    "# so let's change them so they can be recognized as actual numerical values\n",
    "\n",
    "prison_pop['Prison Population Total'] = prison_pop['Prison Population Total'].astype(int)\n",
    "\n",
    "# To check\n",
    "prison_pop.dtypes\n",
    "\n",
    "# If an error pops up, this is the right response!"
   ]
  },
  {
   "cell_type": "markdown",
   "metadata": {
    "id": "VbBbeb8IGkdg"
   },
   "source": [
    "<div dir=\"rtl\">اوه! برخی از مقادیر را باید با مقادیر صحیح جایگزین کنیم (به عنوان مثال 68056 به جای 'c.68056' برای عربستان سعودی که احتمالاً یک تایپو است) تا بتوانیم مجموع جمعیت زندانیان را به طور کامل به اعداد تبدیل کنیم.\n",
    "</div>\n",
    "<br />\n",
    "<div dir=\"rtl\">\n",
    "بیایید سطرهایی که مقادیر نادرست/نوشتاری را دارند - در این مورد، مقادیری که شامل حروف یا کاراکترهای دیگر نیز هستند - پیدا کنیم:</div>"
   ]
  },
  {
   "cell_type": "code",
   "execution_count": null,
   "metadata": {
    "id": "U6AiYS3CH6y7",
    "outputId": "7647e558-b28b-4467-b477-79a67c423c9b"
   },
   "outputs": [],
   "source": [
    "prison_pop.loc[prison_pop['Prison Population Total'].str.contains('c')]\n",
    "# should output incorrect population values for Saudi Arabia and Djibouti"
   ]
  },
  {
   "cell_type": "markdown",
   "metadata": {
    "id": "KdXoZJM0H6y8"
   },
   "source": [
    "<div dir=\"rtl\">حالا بیایید این مقادیر نادرست را جایگزین کنیم!</div>"
   ]
  },
  {
   "cell_type": "code",
   "execution_count": null,
   "metadata": {
    "id": "sR2PcnEgG65E"
   },
   "outputs": [],
   "source": [
    "prison_pop = prison_pop.replace({'Prison Population Total':\n",
    "                                 {'c.68056':'68056',\n",
    "                                  'c.662':'662'}})"
   ]
  },
  {
   "cell_type": "markdown",
   "metadata": {
    "id": "Hm84Xdg7H6y9"
   },
   "source": [
    "<div dir=\"rtl\">پس از جایگزینی این مقادیر، می‌توانیم دوباره تلاش کنیم برای تبدیل داده‌ها:</div>"
   ]
  },
  {
   "cell_type": "code",
   "execution_count": null,
   "metadata": {
    "colab": {
     "base_uri": "https://localhost:8080/",
     "height": 424
    },
    "id": "xyCmH99tKdLO",
    "outputId": "5e4ab6fb-5d1b-4ee9-eb29-b7c5454b0d56"
   },
   "outputs": [],
   "source": [
    "prison_pop['Prison Population Total'] = prison_pop['Prison Population Total'].astype(int)\n",
    "\n",
    "prison_pop # To check"
   ]
  },
  {
   "cell_type": "markdown",
   "metadata": {
    "id": "3voeUS3bDrWn"
   },
   "source": [
    "<div dir=\"rtl\">بعد از انجام عملیات پاک‌سازی، قبل از مپ کردن این داده‌ها، <strong>تنها ستون‌های لازم را انتخاب می‌کنیم</strong>. همچنین ستون‌ها را تغییر نام می‌دهیم تا درک آسان‌تری داشته باشیم و همچنین کمتر کلمات داشته و در تحلیل داده و مپ کردن آسان‌تر باشند.</div>"
   ]
  },
  {
   "cell_type": "code",
   "execution_count": null,
   "metadata": {
    "id": "BACOdzPfY9Lu"
   },
   "outputs": [],
   "source": [
    "# Selecting for only the \"Title\" and \"Prison Population Total\" columns\n",
    "prison_pop_cleaned = prison_pop[[\"Title\", \"Prison Population Total\"]]\n",
    "\n",
    "# Renaming the \"Title\" and \"Prison Population Total\" columns to \"name\" and \"population\" - less wordy and more straightforward\n",
    "prison_pop_cleaned = prison_pop_cleaned.rename(columns={\"Title\":\"name\", \"Prison Population Total\": \"population\"})\n",
    "# prison_pop_cleaned # Uncomment to check what it looks like"
   ]
  },
  {
   "cell_type": "markdown",
   "metadata": {
    "id": "lUG6Lqnnitjn"
   },
   "source": [
    "<h2 dir=\"rtl\">نقشه‌برداری</h2>"
   ]
  },
  {
   "cell_type": "markdown",
   "metadata": {
    "id": "7FL-pUktkR04"
   },
   "source": [
    "<h3 dir=\"rtl\">ایجاد نقشه کروپلت</h3>\n",
    "\n",
    "<div dir=\"rtl\">این نوع مجموعه داده که نشان می‌دهد جمعیت زندانیان در هر کشور را نشان می‌دهد، می‌تواند از طریق یک <strong>نقشه کروپلت</strong> به خوبی نمایش داده شود. نقشه کروپلت نوعی نقشه است که داده‌ها را - به خصوص داده‌های مرتبط با مرزهای پیش‌تعیین شده مانند مرزهای کشور یا شهرستان‌ها - با تنظیم سایه‌بندی، رنگ یا الگو نشان می‌دهد.</div>\n",
    "<br />\n",
    "<div dir=\"rtl\">نقشه‌های کروپلت بر اساس دو نوع داده وابسته هستند: نوع اول داده‌هایی مانند اعداد جمعیت زندانیان است و نوع دوم داده‌هایی است که نام‌های کشورهای متناظر با این اعداد جمعیت زندانیان را به اطلاعات مکانی و جغرافیایی مرتبط می‌کند.</div>\n",
    "<br />\n",
    "<div dir=\"rtl\">هم‌اکنون باید نوع دوم، یعنی اطلاعات مکانی را وارد کنیم! سازندگان کتابخانه پایتون folium که از آن برای ایجاد نقشه استفاده می‌کنیم، یک نمونه با <a href=\"https://raw.githubusercontent.com/python-visualization/folium/main/examples/data/world-countries.json\">پرونده JSON</a> دارند که شامل این اطلاعات مکانی برای کشورهای مختلف جهان است. (JSON یا JavaScript Object Notation فرمت رایجی برای ذخیره‌سازی داده‌های استفاده شده توسط زبان برنامه‌نویسی جاوااسکریپت است. در این حالت، داده‌های ما در قالب یک GeoJSON قرار دارد که یک نوع استاندارد JSON برای رمزگذاری داده‌های جغرافیایی است.)</div>\n"
   ]
  },
  {
   "cell_type": "code",
   "execution_count": null,
   "metadata": {
    "id": "v0XeHGQveRwT"
   },
   "outputs": [],
   "source": [
    "# Importing the world countries JSON\n",
    "\n",
    "world_countries = \"../datasets/json/world-countries.json\""
   ]
  },
  {
   "cell_type": "markdown",
   "metadata": {
    "id": "9iMLBSl-e4_2"
   },
   "source": [
    "<div dir=\"rtl\">هم‌اکنون بیایید نقشه choropleth واقعی را ایجاد کنیم. ابتدا باید یک نقشه خالی را شروع کنیم و آن را به یک متغیر اختصاص دهیم.</div>\n",
    "<br />\n",
    "<div dir=\"rtl\">برای مرکز کردن نقشه جهان بر روی ایران، مکان را به 32.4279، 53.6880 تنظیم می‌کنیم - یعنی 32.4279 درجه شمال و 53.6880 شرق.</div>"
   ]
  },
  {
   "cell_type": "code",
   "execution_count": null,
   "metadata": {
    "id": "b8UilfVsfZrM"
   },
   "outputs": [],
   "source": [
    "# Creating the blank map\n",
    "\n",
    "map = folium.Map(location=[32.4279, 53.6880], zoom_start=2.5)\n",
    "#map # Uncomment to check\n",
    "map"
   ]
  },
  {
   "cell_type": "markdown",
   "metadata": {
    "id": "8ipnk-xvfRoa"
   },
   "source": [
    "<div dir=\"rtl\">سپس داده‌های جمعیت زندان و داده‌های مکانی را به روی این نقشه خالی اضافه می‌کنیم!</div>\n",
    "<br />\n",
    "<div dir=\"rtl\">بیایید پارامترهای تابع <code>folium.Choropleth()</code> را تفکیک کنیم:</div>\n",
    "<br />\n",
    "<ul dir=\"rtl\">\n",
    "<li dir=\"rtl\"><code>geo_data=world_countries</code>: داده‌های مکانی از کجا به دست می‌آیند؟ در این حالت، از پرونده JSON کشورهای جهان استفاده می‌کنیم که در متغیر <code>world_countries</code> ذخیره شده است.</li>\n",
    "<li dir=\"rtl\"><code>name=\"choropleth\"</code>: این یک نقشه از چه نوعی است؟</li>\n",
    "<li dir=\"rtl\"><code>data=prison_pop_cleaned</code>: داده نوع دیگری که می‌خواهیم از آن نمایش دهیم، از کجا به دست می‌آید؟ در این حالت، از دیتافریم/CSV جمعیت زندان استفاده می‌کنیم.</li>\n",
    "<li dir=\"rtl\"><code>columns=[\"name\", \"population\"]</code>: کشورهایی که مایل به نمایش دادن اطلاعات آنها هستیم کدامند؟</li>\n",
    "<li dir=\"rtl\"><code>key_on=\"feature.properties.name\"</code>: کدام ویژگی یا \"ستون\" در پرونده JSON کشورهای جهان با ستونی در داده‌های جمعیت زندان در <code>prison_pop_cleaned</code> مطابقت دارد و اطلاعات مکانی را نگه می‌دارد؟ در این حالت، باید ستونی که نام کشورها را نگه می‌دارد را انتخاب کنید.</li>\n",
    "<li dir=\"rtl\"><code>fill_color=\"OrRd\"</code>: باید یک \"کد ColorBrewer معتبر\" باشد - به عبارت دیگر، رنگ پرکردن باید به یک فرمت خاص تطابق داشته باشد! می‌توانید از هر یک از گروه‌های رنگی پیوسته در <a href=\"\">این لیست</a> استفاده کنید.</li>\n",
    "<li dir=\"rtl\"><code>fill_opacity=0.7</code>: شفافیت پرکردن شکل.</li>\n",
    "<li dir=\"rtl\"><code>line_opacity=0.1</code>: شفافیت خط هر شکل.</li>\n",
    "<li dir=\"rtl\"><code>legend_name=\"جمعیت زندان\"</code>: عنوان منوی راهنما را چه نامی می‌خواهید داشته باشید؟</li>\n",
    "<li dir=\"rtl\"><code>highlight=True</code>: فعال کردن نمایش برجسته هنگام موس روی شکل.</li>\n",
    "</ul>\n",
    "<div dir=\"rtl\">توجه: اگر این را در یک دفترچه یادداشت Jupyter محلی مشاهده می‌کنید و قادر به دیدن آن نیستید، ممکن است نیاز داشته باشید آن را به عنوان یک دفترچه یادداشت قابل اعتماد تنظیم کنید. در بالای چپ دفترچه یادداشت Jupyter می‌توانید به مسیر File -> Trust Notebook بروید.</div>"
   ]
  },
  {
   "cell_type": "code",
   "execution_count": null,
   "metadata": {
    "colab": {
     "base_uri": "https://localhost:8080/",
     "height": 815
    },
    "id": "X2yXaAfQe3-i",
    "outputId": "764016e6-91a5-4bb0-f50e-2a98f37aa2f6"
   },
   "outputs": [],
   "source": [
    "# Creating the actual choropleth map by tying together these two data sources\n",
    "\n",
    "folium.Choropleth(\n",
    "    geo_data=world_countries,\n",
    "    name=\"choropleth\", \n",
    "    data=prison_pop_cleaned,\n",
    "    columns=[\"name\", \"population\"],\n",
    "    key_on=\"feature.properties.name\",\n",
    "    fill_color=\"OrRd\",\n",
    "    fill_opacity=0.7,\n",
    "    line_opacity=0.1,\n",
    "    legend_name=\"Prison population\",\n",
    "    highlight=True\n",
    ").add_to(map) # add this data to the blank map\n",
    "\n",
    "folium.LayerControl().add_to(map)\n",
    "map"
   ]
  },
  {
   "cell_type": "markdown",
   "metadata": {
    "id": "aIgilB4ofDWm"
   },
   "source": [
    "<div dir=\"rtl\">\n",
    "ما در حال حاضر یک نقشه choropleth دارای جمعیت زندان در سراسر جهان داریم! رنگ تیره‌تر نشان دهنده جمعیت زندان بیشتر است.\n",
    "</div>\n",
    "<br />\n",
    "<div dir=\"rtl\">\n",
    "بعضی از کشورها/مناطق به دلیل عدم تطابق نام کشورها در `prison_pop_cleaned` با نام‌های کشورها در فایل JSON جهانی (`world_countries`) خاکستری شده‌اند (به عنوان مثال، \"روسیه\" در `world_countries` به عنوان \"جمهوری روسیه\" در مجموعه داده جمعیت زندان وجود دارد). بیایید این تفاوت‌ها را تصحیح کنیم!\n",
    "</div>"
   ]
  },
  {
   "cell_type": "code",
   "execution_count": null,
   "metadata": {
    "id": "UhOA61CefVUT"
   },
   "outputs": [],
   "source": [
    "prison_pop_cleaned = prison_pop_cleaned.replace({\n",
    "    'United Kingdom: England & Wales': 'United Kingdom',\n",
    "    'Russian Federation': 'Russia',\n",
    "    'Republic of (South) Korea': 'South Korea',\n",
    "    'Greenland (Denmark)': 'Greenland',\n",
    "    'Myanmar (formerly Burma)': 'Myanmar',\n",
    "    'Ireland, Republic of': 'Ireland',\n",
    "    'Moldova (Republic of)': 'Moldova',\n",
    "    'Cyprus (Republic of)': 'Cyprus',\n",
    "    \"Cote d'Ivoire\": 'Ivory Coast',\n",
    "    'Guinea (Republic of)': 'Guinea',\n",
    "    'Democratic Republic of Congo': 'Democratic Republic of the Congo',\n",
    "    'Republic of Congo': 'Republic of the Congo',\n",
    "    'Tanzania': 'United Republic of Tanzania',\n",
    "    'eSwatini/Swaziland': 'Swaziland'\n",
    "})\n",
    "# Replace 'United Kingdom: England & Wales' with 'United Kingdom' - the name in 'world-countries.json'\n",
    "# Replace 'Russian Federation' with 'Russia' - the name in 'world-countries.json'\n",
    "# Replace 'Republic of (South) Korea' with 'South Korea' - the name in 'world-countries.json'\n",
    "# Replace 'Greenland (Denmark)' with 'Greenland' - the name in 'world-countries.json'\n",
    "# Replace 'Myanmar (formerly Burma)' with 'Myanmar' - the name in 'world-countries.json'\n",
    "# Replace 'Ireland, Republic of' with 'Ireland' - the name in 'world-countries.json'\n",
    "# Replace 'Moldova (Republic of)' with 'Moldova' - the name in 'world-countries.json'\n",
    "# Replace 'Cyprus (Republic of)' with 'Cyprus' - the name in 'world-countries.json'\n",
    "# Replace 'Cote d'Ivoire' with 'Ivory Coast' \n",
    "# Replace 'Guinea (Republic of)' with 'Guinea' \n",
    "# Replace 'Democratic Republic of Congo' with 'Democratic Republic of the Congo' \n",
    "# Replace 'Republic of Congo' with 'Republic of the Congo'\n",
    "# Replace 'Tanzania' with 'United Republic of Tanzania' \n",
    "# Replace 'eSwatini/Swaziland' with 'Swaziland' (even though the updated name is Eswatini - 'Swaziland' is the name in 'world-countries.json')"
   ]
  },
  {
   "cell_type": "markdown",
   "metadata": {
    "id": "IxMryJYw-tea"
   },
   "source": [
    "<div dir=\"rtl\">\n",
    "این فرآیند باعث تغییر رنگ بخشی از کشورها نشده است، اما برای بخشی از کشورهای هنوز خاکستری شده، این فرآیند (تطابق نام کشورها در دو مجموعه داده) را تکرار کنید. سپس نقشه choropleth را مجدداً برسی کنید - باید تعدادی کشور خاکستری کمتر داشته باشیم.\n",
    "</div>"
   ]
  },
  {
   "cell_type": "code",
   "execution_count": null,
   "metadata": {
    "colab": {
     "base_uri": "https://localhost:8080/",
     "height": 815
    },
    "id": "jP4jej66QXhM",
    "outputId": "a5b95b48-8bf1-49a4-d85f-272c7bceb45c"
   },
   "outputs": [],
   "source": [
    "# We need to create a new base map to display this cleaned up data\n",
    "\n",
    "new_map = folium.Map(location=[32.4279, 53.6880], zoom_start=2.5)\n",
    "\n",
    "folium.Choropleth(\n",
    "    geo_data=world_countries,\n",
    "    name=\"choropleth\", \n",
    "    data=prison_pop_cleaned,\n",
    "    columns=[\"name\", \"population\"],\n",
    "    key_on=\"feature.properties.name\",\n",
    "    fill_color=\"OrRd\",\n",
    "    fill_opacity=0.7,\n",
    "    line_opacity=0.1,\n",
    "    legend_name=\"Prison population\",\n",
    "    highlight=True\n",
    ").add_to(new_map)\n",
    "\n",
    "new_map"
   ]
  },
  {
   "cell_type": "markdown",
   "metadata": {
    "id": "Cms_EWTukOOY"
   },
   "source": [
    "<div dir=\"rtl\">\n",
    "    <h3>ایجاد نقشه نقطه/نقطه</h3>\n",
    "</div>\n",
    "<div dir=\"rtl\">\n",
    "    <p>بیایید برای یک لحظه از نقشه‌های کرافولیمتون بازموندیم و اکنون سعی کنیم یک نقشه نقطه/نقطه با استفاده از کتابخانه Folium ایجاد کنیم! این نقشه با داده‌های مکانی خاص (مانند عرض جغرافیایی و طول جغرافیایی) کار می‌کند و داده‌های حاوی \"چندضلعی\" را (که اغلب مرزهای جغرافیایی خاصی از شهرستان‌ها یا کشورها را مشخص می‌کنند) نمی‌پذیرد.</p>\n",
    "</div>\n",
    "<div dir=\"rtl\">\n",
    "    <p>ما همچنین می‌توانیم از داده‌های مختلف و غیرمربوط به زندان برای ایجاد این نقشه استفاده کنیم. بیایید یک نقشه نقطه/نقطه خود بسازیم که مکان سفارتخانه‌ها و کنسولگری‌های خارجی ایران در سراسر جهان را نشان می‌دهد. ما این داده‌های مکانی را از بخش \"سفارتخانه‌ها و نمایندگی‌ها\" در پورتال داده‌های باز ایران (که توسط دانشگاه سیراکیوز برپا شده است) دریافت می‌کنیم.</p>\n",
    "    <p>لطفاً به <a href=\"https://irandataportal.syr.edu/embassies-and-missions\">اینجا</a> بروید و داده‌های لازم را دانلود کنید.</p>\n",
    "</div>"
   ]
  },
  {
   "cell_type": "code",
   "execution_count": null,
   "metadata": {
    "id": "wnjfPeKLLDwo"
   },
   "outputs": [],
   "source": [
    "# Let's import the GeoJSON containing the point data of Iranian embassy locations as a dataframe\n",
    "\n",
    "embassies = pd.read_csv(\"../datasets/csv/iranian-embassies.csv\")\n",
    "\n",
    "embassies.head() #to check"
   ]
  },
  {
   "cell_type": "markdown",
   "metadata": {
    "id": "7iC_jX5rnITM"
   },
   "source": [
    "<div dir=\"rtl\">\n",
    "<p>\n",
    "حالا بیایید همان کاری که در هنگام ساخت نقشه کروپلت انجام دادیم را تکرار کنیم و یک نقشه خالی را مقداردهی و ایجاد کنیم. پس از انجام این کار، می‌توانیم نقاط را روی این نقشه خالی نمایش دهیم.\n",
    "</p>\n",
    "</div>"
   ]
  },
  {
   "cell_type": "code",
   "execution_count": null,
   "metadata": {
    "id": "5LUryeHwnGGj"
   },
   "outputs": [],
   "source": [
    "# Creating a new map\n",
    "point_map = folium.Map(location=[32.4279, 53.6880], zoom_start=2)"
   ]
  },
  {
   "cell_type": "markdown",
   "metadata": {
    "id": "KyjYD0NboIEc"
   },
   "source": [
    "<div dir=\"rtl\">\n",
    "<p>\n",
    "سپس می‌توانیم یک لایه جدید اضافه کنیم که شامل نقاط باشد (هر نقطه نمایانگر موقعیت یک سفارتخانه ایران در سراسر جهان است).\n",
    "</p>\n",
    "</div>"
   ]
  },
  {
   "cell_type": "code",
   "execution_count": null,
   "metadata": {
    "id": "GH8FP43KoGLn"
   },
   "outputs": [],
   "source": [
    "# Adding markers one by one on the map\n",
    "for i in range(0, len(embassies)): # We loop through the embassies dataset\n",
    "  folium.Marker( # and for each embassy\n",
    "      location=[embassies.iloc[i]['latitude'], embassies.iloc[i]['longitude']], # we plot the location using the latitude and longitude data points\n",
    "      popup=embassies.iloc[i]['city'], # and we style the tooltip so that when we click ON the marker, the name of the location (aka the city) pops up\n",
    "   ).add_to(point_map) # and then we add this marker to our blank map\n",
    "\n",
    "# We should see our map, now with 'markers' or points\n",
    "point_map"
   ]
  },
  {
   "cell_type": "markdown",
   "metadata": {
    "id": "t1lnACsQls5x"
   },
   "source": [
    "<h3 dir=\"rtl\">کار با فایل‌های شکل</h3>\n",
    "\n",
    "<div dir=\"rtl\">گاهی اوقات، اگر داده‌ها را به صورت فایل CSV یا GeoJSON داشته باشیم، می‌توانیم از کتابخانه‌های ساده‌تری مانند Folium برای نقشه‌برداری استفاده کنیم. اما به ویژه برای داده‌های غیر نقطه‌ای مانند داده‌های چندضلعی که برای نقشه‌برداری از آنها استفاده می‌کنیم، اغلب داده‌های جغرافیایی را به صورت shapefile دریافت می‌کنیم. فرمت shapefile دارای پسوند '.shp' است.</div>\n",
    "<div dir=\"rtl\"><a href=\"https://geopandas.org/en/stable/\">Geopandas</a> یک کتابخانه متن‌باز برای نقشه‌برداری است که به جای Folium می‌توانیم از آن برای خواندن shapefile‌ها (و سایر فرمت‌های داده جغرافیایی) استفاده کنیم.</div>\n"
   ]
  },
  {
   "cell_type": "markdown",
   "metadata": {
    "id": "m3fa-dcIlNiM"
   },
   "source": [
    "<div dir=\"rtl\">\n",
    "در اینجا مرزهای استانی <a href=\"https://geodata.lib.utexas.edu/catalog/stanford-dv126wm3595\">ایران</a> در فرمت shapefile از دانشگاه تگزاس، آستین وجود دارد. به عنوان آماده‌سازی، ما این shapefile را قبلاً دانلود کرده و در پوشه \"ورودی\" ذخیره کرده‌ایم. بیایید این shapefile را در نوت‌بوک بارگیری کنیم.\n",
    "</div>"
   ]
  },
  {
   "cell_type": "code",
   "execution_count": null,
   "metadata": {
    "id": "qDIfjdnJkzoD"
   },
   "outputs": [],
   "source": [
    "# Importing necessary libraries\n",
    "import geopandas as gpd"
   ]
  },
  {
   "cell_type": "code",
   "execution_count": null,
   "metadata": {
    "colab": {
     "base_uri": "https://localhost:8080/",
     "height": 1000
    },
    "id": "a3hSYcPhoucl",
    "outputId": "c25af3e2-a314-437e-ac9f-b3668b755e3a"
   },
   "outputs": [],
   "source": [
    "# Loading in shapefile data with gpd (geopandas)\n",
    "\n",
    "# the URL to the raw shp file\n",
    "provinces_shp_raw = \"../input/stanford-dv126wm3595-shapefile/dv126wm3595.shp\"\n",
    "\n",
    "# loading in the external shp file using 'read_file'\n",
    "provinces_shp = gpd.read_file(provinces_shp_raw)\n",
    "\n",
    "provinces_shp"
   ]
  },
  {
   "cell_type": "markdown",
   "metadata": {
    "id": "fX8xIqatqELj"
   },
   "source": [
    "<div dir=\"rtl\">\n",
    "اکنون که shapefile به فرمت dataframe است، می‌توانید از یک کتابخانه دیگر (مانند matplotlib) برای دریافت داده‌های داخل dataframe و نمایش آن استفاده کنید.\n",
    "</div>"
   ]
  },
  {
   "cell_type": "code",
   "execution_count": null,
   "metadata": {
    "id": "QHe7rMtpp7H3"
   },
   "outputs": [],
   "source": [
    "provinces_shp.plot() # plot() is a function of matplotlib\n",
    "\n",
    "# Remember that the x and y axes are latitude and longitude"
   ]
  },
  {
   "cell_type": "markdown",
   "metadata": {
    "id": "BcoiFiM4qZSV"
   },
   "source": [
    "<div dir=\"rtl\">\n",
    "شما حتی می‌توانید یک استان خاص در داخل ایران را جدا کنید تا بررسی کنید. در اینجا، من به طور خاص استان <span style=\"color: orange\">آذربایجان شرقی</span> را با استفاده از ستون <span style=\"color: orange\">name_1</span> که حاوی نام استان‌هاست جدا می‌کنم.\n",
    "</div>"
   ]
  },
  {
   "cell_type": "code",
   "execution_count": null,
   "metadata": {
    "colab": {
     "base_uri": "https://localhost:8080/",
     "height": 448
    },
    "id": "eZ9OXwS6qYEd",
    "outputId": "a05df035-543a-42e8-f8ab-2591a1315ba0"
   },
   "outputs": [],
   "source": [
    "provinces_shp[provinces_shp.name_1==\"East Azarbaijan\"].plot()"
   ]
  },
  {
   "cell_type": "markdown",
   "metadata": {
    "id": "NYaL1sDLJvmq"
   },
   "source": [
    "<h3 dir=\"rtl\">شما درس مقدمه نقشه نگاری را به پایان رساندید</h3>\n",
    "\n",
    "<div dir=\"rtl\">ما یاد گرفتیم چگونه نقشه‌ی کروپلت را با استفاده از داده‌های جهانی جمعیت زندانیان و نقشه‌ی نقطه‌ای/نقطه‌ای سفارتخانه‌های ایران در سراسر جهان ایجاد کنیم. همچنین به بررسی کار با فایل‌های شکل، یک فرمت دیگر حاوی اطلاعات جغرافیایی، با استفاده از فایل شکل استان‌های ایران پرداختیم. در زیر، منابعی اضافی برای کمک به شما در نقشه‌برداری با folium، geopandas و همچنین کار با فایل‌های شکل و سایر فرمت‌های داده‌های جغرافیایی آورده شده است!</div>"
   ]
  },
  {
   "cell_type": "markdown",
   "metadata": {
    "id": "d-E76xcPkeNH"
   },
   "source": [
    "<h3 dir=\"rtl\">منابع اضافی</h3>\n",
    "\n",
    "<ul dir=\"rtl\">\n",
    "  <li>\n",
    "    نقشه‌برداری نقاط با استفاده از Folium: <a href=\"https://georgetsilva.github.io/posts/mapping-points-with-folium/\">1</a> <a href=\"https://www.python-graph-gallery.com/312-add-markers-on-folium-map/\">2</a> (که جزئیات بیشتری درباره ایجاد نقشه شخصی با نشانگرها برای تجسم داده‌های نقطه‌ای ارائه می‌دهد)\n",
    "  </li>\n",
    "  <li>\n",
    "    استفاده از geopandas برای نمایش فایل‌های shapefile: <a href=\"https://geopandas.org/en/stable/docs/user_guide/io.html\">لینک</a>\n",
    "  </li>\n",
    "  <li>\n",
    "    این آموزش <a href=\"https://towardsdatascience.com/visualizing-geospatial-data-in-python-e070374fe621\">اینجا</a> شامل اطلاعات بیشتری درباره کار با فایل‌های shapefile و تجسم داده‌های جغرافیایی به طور کلی در پایتون است\n",
    "  </li>\n",
    "</ul>\n"
   ]
  }
 ],
 "metadata": {
  "colab": {
   "provenance": []
  },
  "kernelspec": {
   "display_name": "Python 3 (ipykernel)",
   "language": "python",
   "name": "python3"
  },
  "language_info": {
   "codemirror_mode": {
    "name": "ipython",
    "version": 3
   },
   "file_extension": ".py",
   "mimetype": "text/x-python",
   "name": "python",
   "nbconvert_exporter": "python",
   "pygments_lexer": "ipython3",
   "version": "3.10.11"
  }
 },
 "nbformat": 4,
 "nbformat_minor": 1
}
