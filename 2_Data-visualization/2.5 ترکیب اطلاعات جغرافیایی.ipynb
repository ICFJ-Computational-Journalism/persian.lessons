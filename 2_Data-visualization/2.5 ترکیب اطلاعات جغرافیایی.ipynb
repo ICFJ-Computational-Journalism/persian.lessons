{
 "cells": [
  {
   "cell_type": "markdown",
   "metadata": {
    "id": "Gj9-1bVIz2iC"
   },
   "source": [
    "<div dir=\"rtl\">\n",
    "<h3>ترکیب داده‌های جغرافیایی مختلف برای به دست آوردن جزییات</h3>\n",
    "</div>"
   ]
  },
  {
   "cell_type": "markdown",
   "metadata": {},
   "source": [
    "<br />\n",
    "\n",
    "<a href=\"https://www.youtube.com/watch?v=UM4S5yUsexo&list=PLY_JJbHwd6kftjlcbtChIKZfEPEfFRGcY&index=22&ab_channel=TheInternationalJournalists%27Network\">\n",
    "<img src=\"https://dotnet-talk.com/images/icfj/2_5.jpg\" width=\"50%\" alt=\"ترکیب دادهای جغرافیایی مختلف برای بدس آوردن جزییات - ویدیو\" />\n",
    "</a>\n",
    "\n",
    "<br />"
   ]
  },
  {
   "cell_type": "markdown",
   "metadata": {
    "id": "BafNfd-czy9o"
   },
   "source": [
    "<div dir=\"rtl\">\n",
    "<h4>تنظیمات</h4>\n",
    "</div>"
   ]
  },
  {
   "cell_type": "markdown",
   "metadata": {
    "id": "jMP1GiinY1ym"
   },
   "source": [
    "<div dir=\"rtl\">\n",
    "ما قصد داریم از یک کتابخانه جدید به نام <a href=\"https://geopandas.org/en/stable/\">geopandas</a> استفاده کنیم تا مجموعه داده‌ها با اطلاعات جغرافیایی را بخوانیم.\n",
    "</div>"
   ]
  },
  {
   "cell_type": "code",
   "execution_count": null,
   "metadata": {},
   "outputs": [],
   "source": [
    "!pip3 install folium==0.14.0 matplotlib==3.7.1 mapclassify==2.5.0"
   ]
  },
  {
   "cell_type": "markdown",
   "metadata": {
    "id": "moSxXy4NnL9o"
   },
   "source": [
    "<div dir=\"rtl\">\n",
    "<p>\n",
    "ما کتابخانه‌های folium و matplotlib را وارد می‌کنیم (کتابخانه‌هایی که در درس‌های قبلی دیده‌ایم) زیرا می‌توانیم از این کتابخانه‌ها برای تجسم چندین نوع داده جغرافیایی (مانند چندضلعی‌ها و نقاط) استفاده کنیم.\n",
    "</p>\n",
    "</div>"
   ]
  },
  {
   "cell_type": "code",
   "execution_count": null,
   "metadata": {
    "id": "uh3PrRRbzunP"
   },
   "outputs": [],
   "source": [
    "# import necessary libraries\n",
    "\n",
    "import numpy as np\n",
    "import pandas as pd\n",
    "import geopandas as gpd\n",
    "import matplotlib.pyplot as plt\n",
    "import folium"
   ]
  },
  {
   "cell_type": "markdown",
   "metadata": {
    "id": "EQbvaeTO0FE-"
   },
   "source": [
    "<div dir=\"rtl\">\n",
    "<h2>بارگیری مجموعه‌داده‌ها</h2>\n",
    "\n",
    "\n",
    "<p>ما داده‌های دو پورتال اطلاعات باز ایران را تجسم می‌کنیم. مجموعه‌داده اول یک مجموعه‌داده جغرافیایی دربارهٔ <a href=\"https://raw.githubusercontent.com/kwonjs/datasets-to-use/main/iranopendata-university-dataset.geojson\">موسسات آموزش عالی</a> است. مجموعه‌داده دوم دربارهٔ <a href=\"https://raw.githubusercontent.com/kwonjs/datasets-to-use/main/sciehe1735en.csv\">اشتغال/داده‌های اقتصادی</a> در ایران است. می‌توانید با کلیک بر روی پیوندها آن‌ها را <strong>مستقیماً بارگیری</strong> کنید.</p>\n",
    "\n",
    "<p>شما همچنین می‌توانید با کلیک بر روی پیوندها، درباره متن کامل و راهنمایی‌های بیشتر درباره <a href=\"https://iranopendata.org/en/dataset/literate-employed-population-qualification-terms-gender-province-1394\">اشتغال</a> و <a href=\"https://irandataportal.syr.edu/colleges-and-universities\">آموزش</a> بیشتر بدانید.</p>\n",
    "\n",
    "</div>"
   ]
  },
  {
   "cell_type": "markdown",
   "metadata": {
    "id": "oRJa2C8O5SBz"
   },
   "source": [
    "\n",
    "<div dir=\"rtl\">\n",
    "<p>حال مجموعه داده‌های اولیه را در نوت‌بوک Jupyter بارگیری می کنیم!</p>\n",
    "</div>"
   ]
  },
  {
   "cell_type": "code",
   "execution_count": null,
   "metadata": {
    "id": "zWCnwVxDz1yL"
   },
   "outputs": [],
   "source": [
    "# importing the datasets as datasets\n",
    "\n",
    "# geojson file of higher education institutes (colleges and universities) in iran\n",
    "# non-comprehensive list from iran open data (syracuse edu)\n",
    "univ_file_path = \"../datasets/geo/iranopendata-university-dataset.geojson\"\n",
    "universities = gpd.read_file(univ_file_path)\n",
    "\n",
    "# geojson file of iran's provinces\n",
    "province_file_path = \"../datasets/geo/iran-provinces.geojson\"\n",
    "provinces = gpd.read_file(province_file_path)\n",
    "\n",
    "# csv of employment and economic participation by province\n",
    "employment_file_path = \"../datasets/csv/sciehe1735en.csv\"\n",
    "employment = pd.read_csv(employment_file_path)"
   ]
  },
  {
   "cell_type": "markdown",
   "metadata": {
    "id": "yrxoHJGa6KOs"
   },
   "source": [
    "\n",
    "<div dir=\"rtl\">\n",
    "<p>سپس نگاه سریعی به مجموعه داده‌هایی که با آن‌ها کار خواهیم کرد می اندازیم.</p>\n",
    "</div>"
   ]
  },
  {
   "cell_type": "code",
   "execution_count": null,
   "metadata": {
    "colab": {
     "base_uri": "https://localhost:8080/",
     "height": 751
    },
    "id": "yAuu5Dvw6Hlt",
    "outputId": "24a3bf1c-8883-40cd-aa71-abbbe23a9b19"
   },
   "outputs": [],
   "source": [
    "# seeing the first five rows of the employment data\n",
    "employment.head(5)"
   ]
  },
  {
   "cell_type": "code",
   "execution_count": null,
   "metadata": {
    "colab": {
     "base_uri": "https://localhost:8080/",
     "height": 206
    },
    "id": "v_E_AtUT6ZLZ",
    "outputId": "ec856ee2-66f5-4051-f5ea-8ac3b19b4e5c"
   },
   "outputs": [],
   "source": [
    "# seeing the first five rows of the university/college data\n",
    "universities.head(5)"
   ]
  },
  {
   "cell_type": "code",
   "execution_count": null,
   "metadata": {
    "colab": {
     "base_uri": "https://localhost:8080/",
     "height": 206
    },
    "id": "DXh6WmLm6ds1",
    "outputId": "f7c9cde5-75e7-4ac3-ec36-fe5a66fb5785"
   },
   "outputs": [],
   "source": [
    "# seeing the first five rows of the provinces data\n",
    "provinces.head(5)"
   ]
  },
  {
   "cell_type": "markdown",
   "metadata": {
    "id": "bQlTwzEJ2SaY"
   },
   "source": [
    "<div dir=\"rtl\">\n",
    "<em>توجه: مجموعه داده دانشگاه و کالج شامل داده‌های نقطه‌ای است در حالی که مجموعه داده استان + اشتغال حاوی داده‌های چندضلعی / مرزی است. مجموعه داده دانشگاه / کالج جامع نیست اما برای هدف این درس کاربرد دارد.</em>\n",
    "</div>"
   ]
  },
  {
   "cell_type": "markdown",
   "metadata": {
    "id": "axCGpZtt18tG"
   },
   "source": [
    "<div dir=\"rtl\">\n",
    "<h2>تمیزکاری و آماده‌سازی داده برای نمایش</h2>\n",
    "\n",
    "<p>\n",
    "دیتاست اشتغال بر اساس جنسیت و <strong>نام استان</strong> سازمان‌دهی شده است. می‌توانیم داده‌های geojson (شامل هر استان و مختصات جغرافیایی مرزهای آن) را با داده‌های اشتغال با استفاده از <strong>نام استان</strong> (در ستون \"english_name\") ارتباط بدهیم.\n",
    "</p>\n",
    "\n",
    "<p>\n",
    "برای اتصال این دو مجموعه داده، ابتدا باید مطمئن شویم که نام استان‌ها در ستون‌های هر دو مجموعه داده <strong>یکسان</strong> باشد تا بتوانیم این دو مجموعه داده را به هم وصل کنیم. یکی از مجموعه داده شامل داده‌های واقعی چندضلعی برای هر استان است که برای نمایش روی نقشه لازم است و دیگری حاوی داده‌های اشتغال مرتبط با هر استان است.\n",
    "</p>\n",
    "\n",
    "</div>"
   ]
  },
  {
   "cell_type": "markdown",
   "metadata": {
    "id": "3dl2-Dxz4C_o"
   },
   "source": [
    "<div dir=\"rtl\">\n",
    "ابتدا بیایید ستون \"جنسیت و استان\" را در دیتافریم اشتغال به دو ستون تقسیم کنیم، یکی برای جنسیت و دیگری برای استان. سپس می‌توانیم ستون استان را جدا کنیم تا بتوانیم آن را با ستون <strong>\"english_name\"</strong> (یعنی نام استان به زبان انگلیسی) در دیتافریم استان‌ها مطابقت دهیم.\n",
    "الگوی کلی ستون \"جنسیت و استان\" به صورت <strong>[نام استان] (جنسیت)</strong> به نظر می‌رسد. ابتدا بیایید این ستون را با پرانتز چپ، یعنی '('، تقسیم کنیم.\n",
    "\n",
    "</div>"
   ]
  },
  {
   "cell_type": "code",
   "execution_count": null,
   "metadata": {
    "id": "0BwzaaIamH-3"
   },
   "outputs": [],
   "source": [
    "# Splitting up the \"Gender and province\" column by the left parenthesis\n",
    "gender_province_cols1 = employment[\"Gender and province\"].str.split('(', expand=True)\n",
    "gender_province_cols1.head()"
   ]
  },
  {
   "cell_type": "markdown",
   "metadata": {
    "id": "ynE96yW1fbyY"
   },
   "source": [
    "<div dir=\"rtl\">\n",
    "<p>\n",
    "ستون '0' (ستون اول) تقریباً تمامی استان‌ها را شامل می‌شود (به استثنای ستون اول که \"مرد و زن\" را دارد، اما می‌توانیم این مورد را بعداً تصحیح کنیم). بیایید این ستون را جدا کنیم و آن را 'isolated_province_col' نامگذاری کنیم.\n",
    "</p>\n",
    "</div>"
   ]
  },
  {
   "cell_type": "code",
   "execution_count": null,
   "metadata": {
    "colab": {
     "base_uri": "https://localhost:8080/"
    },
    "id": "cFtwl27_fpEF",
    "outputId": "4b0e5c65-695f-4c34-f2c3-3305b01d84bd"
   },
   "outputs": [],
   "source": [
    "isolated_provinces_col = gender_province_cols1[0] # the '0' index selects for the first column in this separate dataframe\n",
    "isolated_provinces_col"
   ]
  },
  {
   "cell_type": "markdown",
   "metadata": {
    "id": "19fOFPxDeEjm"
   },
   "source": [
    "<div dir=\"rtl\">\n",
    "<p>\n",
    "ما ستون اصلی را جدا کردیم، اما جداکردن کامل نبود. هنوز یک پرانتز راست بی‌استفاده در ستون دوم به وجود آمده است (که باید حاوی جنسیت باشد). بیایید این ستون را هم جدا کنیم تا از آن پرانتز راست خلاص شویم.\n",
    "</p>\n",
    "</div>"
   ]
  },
  {
   "cell_type": "code",
   "execution_count": null,
   "metadata": {
    "colab": {
     "base_uri": "https://localhost:8080/"
    },
    "id": "8PL6dc34dDND",
    "outputId": "2316f9c9-724f-4633-d6ce-950aac495ef6"
   },
   "outputs": [],
   "source": [
    "# Splitting up the newly made 'gender' column (or the second column) by the right parenthesis as well\n",
    "# Then assign the first column to 'isolated_gender_col,' since we've now successfully gotten a mostly clean gender column\n",
    "isolated_gender_col = gender_province_cols1[1].str.split(')', expand=True)[0]\n",
    "isolated_gender_col"
   ]
  },
  {
   "cell_type": "markdown",
   "metadata": {
    "id": "yopH-oNwgOdh"
   },
   "source": [
    "<div dir=\"rtl\">\n",
    "حالا این ستون‌های جدا شده و تقریباً پاک را به دیتافریم اشتغال اضافه می کنیم.\n",
    "</div>"
   ]
  },
  {
   "cell_type": "code",
   "execution_count": null,
   "metadata": {
    "id": "q9N56bcxdjLc"
   },
   "outputs": [],
   "source": [
    "employment[\"province\"] = isolated_provinces_col # adds this column to the employment dataset and calls this column \"Province\"\n",
    "employment[\"gender\"] = isolated_gender_col # adds this column to the employment dataset and calls this column \"Gender\"\n",
    "\n",
    "# Let's load in the first five rows of the employment dataframe to check that we successfully added these new columns into the dataframe\n",
    "#employment.head(5) # to check"
   ]
  },
  {
   "cell_type": "markdown",
   "metadata": {
    "id": "WhK1pzE0hPpa"
   },
   "source": [
    "<div dir=\"rtl\">\n",
    "<p>\n",
    "حالا باید ستون \"استان\" ایجاد شده در دیتافریم employment  را با ستون \"english_name\" در دیتافریم استان‌ها مطابقت دهیم.\n",
    "</p>\n",
    "<p>\n",
    "بیایید نام‌های استان موجود در ستون \"english_name\" و \"Province\" را مقایسه کنیم.\n",
    "</p>\n",
    "</div>\n"
   ]
  },
  {
   "cell_type": "code",
   "execution_count": null,
   "metadata": {
    "colab": {
     "base_uri": "https://localhost:8080/"
    },
    "id": "nV-SaWZ2hHK6",
    "outputId": "67427e88-fc68-4ff2-c6eb-2a4797c86046"
   },
   "outputs": [],
   "source": [
    "# Get unique values in \"english_name\"\n",
    "# Get unique values in \"Province\"\n",
    "# If they don't match - change a value in one column to match the other\n",
    "provinces[\"english_name\"].unique()\n",
    "# employment[[\"Province\", \"Gender\"]]"
   ]
  },
  {
   "cell_type": "code",
   "execution_count": null,
   "metadata": {
    "colab": {
     "base_uri": "https://localhost:8080/"
    },
    "id": "dbbIXcQphfv5",
    "outputId": "043f420f-7bc8-4115-aa21-6c8ad0325b0a"
   },
   "outputs": [],
   "source": [
    "employment[\"province\"].unique()"
   ]
  },
  {
   "cell_type": "code",
   "execution_count": null,
   "metadata": {
    "colab": {
     "base_uri": "https://localhost:8080/"
    },
    "id": "IxJD_wIvIVLw",
    "outputId": "291c5ef4-6779-4d83-b3b4-00a992e5d60e"
   },
   "outputs": [],
   "source": [
    "differences = list(set(provinces[\"english_name\"]).difference(employment[\"province\"]))\n",
    "differences"
   ]
  },
  {
   "cell_type": "markdown",
   "metadata": {
    "id": "1P6wAK1KH-n_"
   },
   "source": [
    "<div dir=\"rtl\">\n",
    "بیایید نام‌های استان متفاوت را در مجموعه داده اشتغال تغییر نام دهیم. (بسیاری از این نام‌ها فقط با یک 'space' متفاوت هستند که هنگام تقسیم ستون \"Gender and province\" باقی مانده است.)\n",
    "</div>"
   ]
  },
  {
   "cell_type": "code",
   "execution_count": null,
   "metadata": {
    "id": "DCI0LNYLHmgx"
   },
   "outputs": [],
   "source": [
    "employment = employment.replace({'province' : {\n",
    "    'Mazandaran ' : 'Mazandaran',\n",
    "    'Khorasan Razavi ' : 'Razavi Khorasan',\n",
    "    'Kermanshah ' : 'Kermanshah',\n",
    "    'Yazd ' : 'Yazd',\n",
    "    'Isfahan ' : 'Isfahan',\n",
    "    'Kurdistan ' : 'Kurdistan',\n",
    "    'Gilan ' : 'Gilan',\n",
    "    'Khuzestan ' : 'Khuzestan',\n",
    "    'Khorasan South ' : 'South Khorasan',\n",
    "    'Markazi ' : 'Markazi',\n",
    "    'Sistan and Baluchestan ' : 'Sistan and Baluchestan',\n",
    "    'Golestan ' : 'Golestan',\n",
    "    'Ilam ' : 'Ilam',\n",
    "    'Bushehr ' : 'Bushehr',\n",
    "    'Qazvin ' : 'Qazvin',\n",
    "    'Kohgiluyeh and Boyer-Ahmad ' : 'Kohgiluyeh and Boyer Ahmad',\n",
    "    'Zanjan ' : 'Zanjan',\n",
    "    'Tehran ' : 'Tehran',\n",
    "    'Qom ' : 'Qom',\n",
    "    'Lorestan ' : 'Lorestan',\n",
    "    'Fars ' : 'Fars',\n",
    "    'Kerman ' : 'Kerman',\n",
    "    'Khorasan North ' : 'North Khorasan',\n",
    "    'Azerbaijan East ' : 'East Azarbaijan',\n",
    "    'Ardabil ' : 'Ardabil',\n",
    "    'Hamadan ' : 'Hamadan',\n",
    "    'Hormozgan ' : 'Hormozgan',\n",
    "    'Azerbaijan West ' : 'West Azarbaijan',\n",
    "    'Alborz ' : 'Alborz',\n",
    "    'Semnan ' : 'Semnan',\n",
    "    'Chahar Mahaal and Bakhtiari ' : 'Chaharmahal and Bakhtiari'\n",
    "    }})"
   ]
  },
  {
   "cell_type": "markdown",
   "metadata": {
    "id": "Vc_MjF9tP5Kx"
   },
   "source": [
    "<div dir=\"rtl\">\n",
    "<p>\n",
    "حال که نام استان‌ها در هر دو مجموعه داده استخدام و استان یکسان است، بیایید این دو مجموعه داده را با هم ترکیب کنیم.\n",
    "</p>\n",
    "<p>\n",
    "ابتدا، بیایید نام ستون \"english_name\" را در مجموعه داده استخدام به همان نام ستون، \"Province\"، تغییر نام دهیم.\n",
    "</p>\n",
    "</div>"
   ]
  },
  {
   "cell_type": "code",
   "execution_count": null,
   "metadata": {
    "id": "KselNFpPnhx6"
   },
   "outputs": [],
   "source": [
    "provinces = provinces.rename(columns={'english_name': 'province'})"
   ]
  },
  {
   "cell_type": "code",
   "execution_count": null,
   "metadata": {
    "colab": {
     "base_uri": "https://localhost:8080/",
     "height": 1000
    },
    "id": "KXXhoQYUPn3E",
    "outputId": "eb0e91bf-a6b0-4522-d260-96ec042e4e28"
   },
   "outputs": [],
   "source": [
    "employment_province = provinces.merge(employment, on='province', how='left')\n",
    "employment_province"
   ]
  },
  {
   "cell_type": "markdown",
   "metadata": {
    "id": "nC-5L1TFpTuc"
   },
   "source": [
    "<div dir=\"rtl\">\n",
    "حدود جغرافیایی مرتبط با هر استان به داده‌های مرتبط با اشتغال نیز مرتبط است.\n",
    "</div>"
   ]
  },
  {
   "cell_type": "markdown",
   "metadata": {
    "id": "mK7iWpDgPgS6"
   },
   "source": [
    "<div dir=\"rtl\">\n",
    "توجه کنید که انواع مختلفی از داده‌ها به همان استان مرتبط هستند - هر استان داده‌های مربوط به نرخ بیکاری و زیراشتغال برای جنسیت زن (\"Female\" در ستون \"Gender\" در دیتافریم employment_province)، جنسیت مرد (\"Male\") و جنسیت مرد و زن (\"Male and Female\") دارد. بیایید به طور جغرافیایی داده‌های \"Male and Female\" را نمایش دهیم.\n",
    "</div>"
   ]
  },
  {
   "cell_type": "code",
   "execution_count": null,
   "metadata": {
    "id": "YEHHoFVOQcmY"
   },
   "outputs": [],
   "source": [
    "employment_province_mf = employment_province[(employment_province[\"gender\"] == \"Male and Female\")]"
   ]
  },
  {
   "cell_type": "markdown",
   "metadata": {
    "id": "haAnY-WhQH8k"
   },
   "source": [
    "<div dir=\"rtl\">\n",
    "حالا بیایید این داده‌های جغرافیایی فیلتر شده را با داده‌های مکان دانشگاه/کالج با استفاده از <a href=\"https://python-visualization.github.io/folium/modules.html#module-folium.map\" dir=\"ltr\">folium.Map()</a> نقشه پردازی کنیم.\n",
    "</div>"
   ]
  },
  {
   "cell_type": "code",
   "execution_count": null,
   "metadata": {
    "id": "qGH1hiNapTfn",
    "outputId": "ec4ea4bb-0589-4611-c5c8-a0b5b3544d3e"
   },
   "outputs": [],
   "source": [
    "# Creating a map object in Folium\n",
    "# Setting the latitude and longitude (in this case, the center of Iran)\n",
    "m = folium.Map(location=[32.4279, 53.6880], zoom_start=5.25)\n",
    "m"
   ]
  },
  {
   "cell_type": "markdown",
   "metadata": {
    "id": "XCpNYk-agIV5"
   },
   "source": [
    "<div dir=\"rtl\">\n",
    "حالا بیایید فقط داده‌های استانی را فیلتر کنیم که شامل هر دو جنس مرد و زن باشند. به عبارت دیگر، ستون \"جنسیت\" باید فقط شامل داده‌های \"مرد و زن\" باشد.\n",
    "</div>"
   ]
  },
  {
   "cell_type": "code",
   "execution_count": null,
   "metadata": {
    "id": "b_84IGtwYWAc"
   },
   "outputs": [],
   "source": [
    "employment_mf = employment[employment[\"gender\"] == \"Male and Female\"]"
   ]
  },
  {
   "cell_type": "markdown",
   "metadata": {
    "id": "3r0SzNOOgSO8"
   },
   "source": [
    "<div dir=\"rtl\">\n",
    "حالا نام ستون \"english_name\" را به همان نام ستون \"استان\" که در مجموعه داده‌های اشتغال وجود دارد، تغییر نام می دهیم. این کار به ما کمک می‌کند تا این دو مجموعه داده را به هم مرتبط کنیم، یکی شامل داده‌هایی برای رسم مرزهای استان‌ها و دیگری شامل داده‌های اشتغال برای نمایش در نقشه Folium.\n",
    "</div>"
   ]
  },
  {
   "cell_type": "code",
   "execution_count": null,
   "metadata": {
    "id": "cmuymsLUYzi4"
   },
   "outputs": [],
   "source": [
    "provinces = provinces.rename(columns={'english_name': 'province'})"
   ]
  },
  {
   "cell_type": "markdown",
   "metadata": {
    "id": "qClZOQMDg1X5"
   },
   "source": [
    "<div dir=\"rtl\">\n",
    "حالا مجموعه داده‌های استان‌ها را به فرمت GeoJSON تبدیل می کنیم تا بتوانیم از آن با کتابخانه Folium استفاده کنیم.\n",
    "</div>"
   ]
  },
  {
   "cell_type": "code",
   "execution_count": null,
   "metadata": {
    "id": "cgYHIqPqTD7I"
   },
   "outputs": [],
   "source": [
    "provinces_gdf = gpd.GeoDataFrame(provinces, geometry=\"geometry\")\n",
    "provinces_gdf.to_file(\"provinces.geojson\", driver=\"GeoJSON\")\n",
    "\n",
    "provinces = gpd.read_file(\"provinces.geojson\")"
   ]
  },
  {
   "cell_type": "code",
   "execution_count": null,
   "metadata": {
    "colab": {
     "base_uri": "https://localhost:8080/",
     "height": 1000
    },
    "id": "rfv27QDwfmhz",
    "outputId": "42e36296-1932-4702-89da-ec48c41b390c"
   },
   "outputs": [],
   "source": [
    "employment_province_mf"
   ]
  },
  {
   "cell_type": "markdown",
   "metadata": {
    "id": "IdferBnGKE8Q"
   },
   "source": [
    "<h2 dir=\"rtl\">ترسیم نقشه با استفاده از geopandas</h2>\n",
    "<div dir=\"rtl\">\n",
    "حالا بیایید اطلاعات موقعیت جغرافیایی استخدامی فیلتر شده را با اطلاعات موقعیت دانشگاه/کالج ها نقشه برداری کنیم.\n",
    "</div>"
   ]
  },
  {
   "cell_type": "code",
   "execution_count": null,
   "metadata": {
    "colab": {
     "base_uri": "https://localhost:8080/",
     "height": 445
    },
    "id": "593VI_OVKCEZ",
    "outputId": "e80c1e21-1388-43ba-fdd8-c7a74e590288"
   },
   "outputs": [],
   "source": [
    "# Plotting a simple choropleth map with geopandas\n",
    "choro = employment_province_mf.plot(column = 'Proportion of the population with underemployment (All country) - percent', # Data column to visualize\n",
    "                            legend = True, # It's good practice to show a legend\n",
    "                            figsize = [10,5], # Set chart dimensions\n",
    "                            legend_kwds = {'label': \"Percentage of population underemployed by province\"}) # Adding a label title to describe what data you're visualizing\n",
    "\n",
    "# The axes in this case represent latitude and longitude"
   ]
  },
  {
   "cell_type": "markdown",
   "metadata": {
    "id": "IHpDir7JolHo"
   },
   "source": [
    "<div dir=\"rtl\">\n",
    "حالا هم نقشه کروپلت (که با سایه نمایش می‌دهد که چه درصدی از جمعیت بیکار استخدام زیرشغلی دارند، براساس هر استان) را برسیم و <strong>همچنین</strong> نقاطی که مکان دانشگاه‌ها و مؤسسات آموزش عالی در سراسر ایران است را نمایش دهیم.\n",
    "</div>"
   ]
  },
  {
   "cell_type": "code",
   "execution_count": null,
   "metadata": {
    "colab": {
     "base_uri": "https://localhost:8080/",
     "height": 594
    },
    "id": "uark32vXXvHw",
    "outputId": "c100d3e5-b028-4e7d-b551-afceee9977be"
   },
   "outputs": [],
   "source": [
    "fig, ax = plt.subplots(figsize=(7,7)) # Since we're visualizing more than one type of data\n",
    "\n",
    "# First, we plot the choropleth map showing the underemployment percentages by province\n",
    "# The lighter the shade of purple, the lower the underemployment percentage\n",
    "employment_province_mf.plot(ax=ax,\n",
    "                      column='Proportion of the population with underemployment (All country) - percent', # Data column to visualize\n",
    "                      legend=True,\n",
    "                      edgecolor='black',\n",
    "                      linewidth=0.5,\n",
    "                      cmap=\"Reds\",\n",
    "                      legend_kwds = {'label': \"Percentage of population underemployed by province\"})\n",
    "\n",
    "# Then, on top of the choropleth map we just made, we plot the points showing where colleges and universities are\n",
    "# Each black point represents one college or university\n",
    "universities.plot(ax=ax,\n",
    "                  color='Blue',\n",
    "                  markersize=5)\n",
    "\n",
    "ax.set_title('College locations and underemployment rates by province', fontsize=10)\n",
    "ax.set_xlabel('Longitude', fontsize=8)\n",
    "ax.set_ylabel('Latitude', fontsize=8)"
   ]
  },
  {
   "cell_type": "markdown",
   "metadata": {
    "id": "liHgXkuMo2pL"
   },
   "source": [
    "<div dir=\"rtl\">\n",
    "ما تازه نقشه‌های استاتیک را ایجاد کردیم - اما می‌توانیم با استفاده از <strong style=\"color: orange\" dir=\"ltr\">geopandas.explore()</strong> برخی از تعاملیت را اضافه کنیم. این عمل بازگشت یک نقشه Folium را فراهم می‌کند که می‌توانید روی آن نمایش داده‌ها را ببینید و ببینید که در استانی قرار دارید و داده‌های مربوط به آن استان چیست.\n",
    "</div>\n",
    "<br />\n",
    "<div dir=\"rtl\">\n",
    "مجموعه داده‌ی اشتغال دارای بسیاری از متغیرها/ستون‌ها است، بنابراین اضافه کردن پارامتر 'tooltip' در داخل <strong style=\"color: orange\" dir=\"ltr\">explore()</strong> به شما امکان می‌دهد تا به متغیرها/ستون‌های خاصی که می‌خواهید به آن تمرکز کنید، محدود شوید.\n",
    "</div>"
   ]
  },
  {
   "cell_type": "code",
   "execution_count": null,
   "metadata": {
    "id": "7M4F406OcUKL"
   },
   "outputs": [],
   "source": [
    "import mapclassify as mp\n",
    "employment_province_mf.explore(\n",
    "    column='Proportion of the population with underemployment (All country) - percent',\n",
    "    cmap='Purples',\n",
    "    tooltip=['province', 'Proportion of the population with underemployment (All country) - percent'] # the specific columns to highlight in the tooltip\n",
    ")"
   ]
  },
  {
   "cell_type": "code",
   "execution_count": null,
   "metadata": {
    "colab": {
     "base_uri": "https://localhost:8080/"
    },
    "id": "tCiKFTyqOvQH",
    "outputId": "e8edb2e3-a1ac-4443-b2b0-b0143a12954a"
   },
   "outputs": [],
   "source": [
    "from folium import Choropleth, Circle, Marker\n",
    "from folium.plugins import HeatMap, MarkerCluster\n",
    "\n",
    "# Now we can create a choropleth map with these two datasets\n",
    "\n",
    "folium.Choropleth(geo_data = provinces, # geo_data refers to your geojson file (with data used to draw geographic boundaries)\n",
    "    name = \"choropleth\",\n",
    "    data = employment_mf, # data refers to the non-geographic data you're trying to tie to geographic data\n",
    "    columns = [\"province\", \"Employment rate (All country) - percent\"], # what data are you wanting to visualize?\n",
    "    key_on = \"feature.properties.province\", # what column ties both datasets? in this case, it's the name of the province, or the \"Province\" column (this is why it's important that both columns have the same name)\n",
    "    fill_color = 'YlOrRd',\n",
    "    fill_opacity = 0.3,\n",
    "    line_opacity = 0.9,\n",
    "    legend_name = 'Employment rate (percent)').add_to(m)\n",
    "\n",
    "folium.LayerControl().add_to(m)\n",
    "m # call the the map again after adding this data!"
   ]
  },
  {
   "cell_type": "markdown",
   "metadata": {
    "id": "YwSgRyfHZlBU"
   },
   "source": [
    "<div dir=\"rtl\">\n",
    "این بهترین نقشه‌ی کروپلت نیست - همانطور که می‌بینید، بیشتر استان‌ها با رنگ قرمز مشابه رنگ شده‌اند، زیرا نرخ اشتغال در اکثر استان‌ها در محدودهٔ ۸۰ درصد است که در محدودهٔ بالای نموداری که در بالای نقشه نشان داده شده است قرار می‌گیرد. این ستون خاص که ما نمایش می‌دهیم، \"نرخ اشتغال (کل کشور) - درصد\"، شاید بهترین متغیر برای تصویرسازی با استفاده از نقشهٔ کروپلت نباشد. ممکن است ما یک متغیر دیگر با داده‌های پراکنده در یک محدوده انتخاب کنیم، مانند نقشه‌ای که با استفاده از <strong style=\"color: orange\" dir=\"ltr\">explore()</strong> ایجاد کرده بودیم برای تصویرسازی نسبت جمعیت هر استان که تحت بیکاری قرار می‌گیرد.\n",
    "</div>"
   ]
  },
  {
   "cell_type": "markdown",
   "metadata": {
    "id": "xu0Vx1n4Zaa0"
   },
   "source": [
    "<h2 dir=\"rtl\">\n",
    "منابع برای نقشه نگاری با پایتون\n",
    "</h2>\n",
    "<br />\n",
    "<div dir=\"rtl\">\n",
    "ما مطالب زیادی را در این درس یاد گرفتیم! شما می‌توانید با نقشه‌های کلانشهری و نقشه‌های نقطه‌ای تنوع زیادی از آنچه که در اینجا انجام دادیم، انجام دهید. در ادامه، منابع بیشتری برای کاوش عمیق‌تر در این حوزه برای شما قرار داده شده است.\n",
    "</div>\n",
    "\n",
    "<ol dir=\"rtl\">\n",
    "<li>\n",
    "<a href=\"https://medium.com/geekculture/three-ways-to-plot-choropleth-map-using-python-f53799a3e623\">سه راه برای ساختن نقشه در پایتون</a>\n",
    "</li>\n",
    "<li>\n",
    "<a href=\"https://matplotlib.org/stable/tutorials/colors/colormaps.html\">انتخاب پالت رنگ </a> برای نقشه های کروپلت\n",
    "</li>\n",
    "<li>\n",
    "<a href=\"https://geopandas.org/en/stable/gallery/create_geopandas_from_pandas.html\">ایجاد geopandas از pandas</a>\n",
    "</li>\n",
    "<li>\n",
    "<a href=\"https://towardsdatascience.com/plotting-maps-with-geopandas-428c97295a73\">رسم نقشه‌ها با استفاده از geopandas</a>\n",
    "</li>\n",
    "</ol>"
   ]
  }
 ],
 "metadata": {
  "colab": {
   "provenance": []
  },
  "kernelspec": {
   "display_name": "Python 3 (ipykernel)",
   "language": "python",
   "name": "python3"
  },
  "language_info": {
   "codemirror_mode": {
    "name": "ipython",
    "version": 3
   },
   "file_extension": ".py",
   "mimetype": "text/x-python",
   "name": "python",
   "nbconvert_exporter": "python",
   "pygments_lexer": "ipython3",
   "version": "3.10.11"
  }
 },
 "nbformat": 4,
 "nbformat_minor": 1
}
