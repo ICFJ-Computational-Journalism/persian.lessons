{
 "cells": [
  {
   "cell_type": "markdown",
   "metadata": {
    "id": "utNZOT1ywkLG"
   },
   "source": [
    "<h1 style=\"direction: rtl\"> مقدمه ای بر پایه های چارت </h1>"
   ]
  },
  {
   "cell_type": "markdown",
   "metadata": {},
   "source": [
    "<br />\n",
    "\n",
    "<a href=\"https://www.youtube.com/watch?v=YYYoefNGQjw&list=PLY_JJbHwd6kftjlcbtChIKZfEPEfFRGcY&index=18&ab_channel=TheInternationalJournalists%27Network\">\n",
    "<img src=\"https://dotnet-talk.com/images/icfj/2_1.jpg\" width=\"50%\" alt=\"مقدمه ای بر پایه های چارت - ویدیو\" />\n",
    "</a>\n",
    "\n",
    "<br />"
   ]
  },
  {
   "cell_type": "markdown",
   "metadata": {
    "id": "2ugkDcTuzGtx"
   },
   "source": [
    "<p style=\"direction: rtl\">در این درس به اصول اولیه ساخت نمودار می پردازیم. ما در درجه اول از کتابخانه <a href=\"https://matplotlib.org/\">matplotlib</a> استفاده خواهیم کرد، که به طور خاص برای تجسم داده ها استفاده می شود. در اینجا، به طور خاص به چگونگی ساخت نمودارهای میله ای و نمودارهای پراکنده می پردازیم.</p>"
   ]
  },
  {
   "cell_type": "code",
   "execution_count": null,
   "metadata": {},
   "outputs": [],
   "source": [
    "!pip3 install numpy==1.25.0\n",
    "!pip3 install matplotlib==3.7.1"
   ]
  },
  {
   "cell_type": "code",
   "execution_count": null,
   "metadata": {
    "id": "2G-ZKl81wYq2"
   },
   "outputs": [],
   "source": [
    "from matplotlib import pyplot as plt"
   ]
  },
  {
   "cell_type": "code",
   "execution_count": null,
   "metadata": {
    "id": "q4LdSU1Swez7"
   },
   "outputs": [],
   "source": [
    "# importing any other necessary libraries below\n",
    "\n",
    "import numpy as np\n",
    "import pandas as pd"
   ]
  },
  {
   "cell_type": "markdown",
   "metadata": {
    "id": "F9-_MGX-zJX3"
   },
   "source": [
    "<h3 style=\"direction: rtl\"> شروع به کار و ساخت نمودارهای اولیه با matplotlib </h3>"
   ]
  },
  {
   "cell_type": "markdown",
   "metadata": {
    "id": "4hrZwE9gzL00"
   },
   "source": [
    "<h4 style=\"direction: rtl\"> مرحله 1: وارد کردن مجموعه داده برای داشتن تصویر از آنها </h4>"
   ]
  },
  {
   "cell_type": "markdown",
   "metadata": {
    "id": "wBfzwphvzN5a"
   },
   "source": [
    "<div dir=\"rtl\">\n",
    "در این مرحله <a href=\"https://iranopendata.org/en/dataset/iod-03222-crude-birth-rate-death-rate-child-mortality-rate-in-selected-countries-world-202\">نرخ خام زاد و ولد، مرگ و میر و نرخ مرگ و میر کودکان در کشورهای منتخب جهان </a>را از ایران اوپن دیتا، پورتال داده باز ایران وارد کنیم. این مجموعه داده خاص دارای نرخ خام تولد، مرگ و میر و مرگ و میر کودکان از کشورهای مختلف در سال 2020 است.\n",
    "</div>\n",
    "<div dir=\"rtl\">\n",
    "اگر می خواهید مجموعه داده را مستقیماً دانلود کنید، می توانید <a href=\"https://raw.githubusercontent.com/ICFJ-Computational-Journaism/datasets/main/csv/iod-03222-crude-birth-rate-death-rate-child-mortality-rate-in-selected-countries-world-202-en.csv\">از این لینک</a> github نیز به مجموعه داده دسترسی داشته باشید.\n",
    "</a>\n",
    "</p>"
   ]
  },
  {
   "cell_type": "code",
   "execution_count": null,
   "metadata": {
    "id": "WpdPUv2NwhSA"
   },
   "outputs": [],
   "source": [
    "# import the dataset below - make sure that if you're not importing from a URL that you first \n",
    "# upload the raw dataset to jupyter notebook\n",
    "\n",
    "# import dataset as a 'dataframe' (df) to analyze in python\n",
    "file_path = \"../datasets/csv/iod-03222-crude-birth-rate-death-rate-child-mortality-rate-in-selected-countries-world-202-en.csv\" \n",
    "df = pd.read_csv(file_path)"
   ]
  },
  {
   "cell_type": "markdown",
   "metadata": {
    "id": "EVlwyxpW5Npi"
   },
   "source": [
    "<div dir=\"rtl\">\n",
    "بیایید نگاهی به این مجموعه داده بیاندازیم. با چه <strong>متغیرها/ستون</strong> هایی کار می کنیم؟\n",
    "</div>"
   ]
  },
  {
   "cell_type": "markdown",
   "metadata": {
    "id": "88pLVqTC5R90"
   },
   "source": [
    "<h4 style=\"direction: rtl\">مرحله 2: پاک کردن مجموعه داده های خود</h4>"
   ]
  },
  {
   "cell_type": "markdown",
   "metadata": {
    "id": "At2NuUk45ac1"
   },
   "source": [
    "<div dir=\"rtl\">\n",
    "گاهی اوقات شما خوش شانس هستید و مجموعه داده تمیزی دارید که می توانید بلافاصله شروع به تصویر / وِیژوال کنید. اما اغلب اوقات، شما مجبورید مجموعه داده خود را تمیز کنید. تمیز کردن شامل «تصحیح یا حذف داده‌های نادرست، خراب، فرم‌بندی نادرست، تکراری یا ناقص در یک مجموعه داده است» <br /> \n",
    "    (<a href=\"https://www.tableau.com/learn/articles/what-is-data-cleaning\">Tableau</a>)\n",
    "</div>"
   ]
  },
  {
   "cell_type": "code",
   "execution_count": null,
   "metadata": {
    "colab": {
     "base_uri": "https://localhost:8080/",
     "height": 477
    },
    "id": "J5CVw4zs5N8V",
    "outputId": "86630ac3-5435-4f77-ec72-fd2c5a9d1b55"
   },
   "outputs": [],
   "source": [
    "# let's look at the first 10 rows of this dataset\n",
    "\n",
    "df.head(10)"
   ]
  },
  {
   "cell_type": "code",
   "execution_count": null,
   "metadata": {
    "colab": {
     "base_uri": "https://localhost:8080/",
     "height": 442
    },
    "id": "xO7VmZyi5dzx",
    "outputId": "e779c401-4d2c-44af-99a1-1642d3eb392f"
   },
   "outputs": [],
   "source": [
    "# let's also look at the last 10 rows of this dataset\n",
    "\n",
    "df.tail(10)"
   ]
  },
  {
   "cell_type": "markdown",
   "metadata": {
    "id": "iXhIzNsALdAc"
   },
   "source": [
    "<p style=\"direction: rtl\">متوجه می‌شویم که در ستون اول «منطقه و کشور - آسیا» اکثر ردیف‌ها دارای کشور (به عنوان مثال اندونزی، جمهوری اسلامی ایران) یا منطقه (به عنوان مثال اروپا، آسیا) و یک خط تیره‌ که این دو را از هم جدا می‌کند.</p>\n",
    "<p style=\"direction: rtl\">با این حال، مشکلاتی وجود دارد. در برخی ردیف ها ابتدا کشور، سپس منطقه آمده ا ست. در ردیف ها دیگر ابتدا منطقه و سپس کشور آمده اند. علاوه بر این، برخی از ردیف‌ها میانگین نرخ‌های کل یک منطقه هستند (یه عنوان مثال اقیانوسیه در ردیف 84).</p>\n",
    "<p style=\"direction: rtl\">بیایید سه ستون جدید به دیتافریم اضافه کنیم (ما اساسا دو ستون جدید نیاز داریم، اما برخی از ردیف ها به دلیل خطا دارای خط تیره های متعدد هستند). ما ستون ها را بر اساس خط تیره '-' تقسیم می کنیم.</p>"
   ]
  },
  {
   "cell_type": "code",
   "execution_count": null,
   "metadata": {
    "id": "FqV6DSzN7F7W"
   },
   "outputs": [],
   "source": [
    "df[['Region','Country', 'Misc']] = df['Region and country - Asia'].str.split(\" - \",expand=True)"
   ]
  },
  {
   "cell_type": "code",
   "execution_count": null,
   "metadata": {
    "colab": {
     "base_uri": "https://localhost:8080/",
     "height": 1000
    },
    "id": "2TGCVXyS91tW",
    "outputId": "397d17dc-cdb5-45fc-84a6-80df8911417c"
   },
   "outputs": [],
   "source": [
    "# Now let's take a look at the first 40 rows of the dataset with the three new columns \n",
    "# which was created from splitting the original 'Region and country - Asia' column\n",
    "\n",
    "df.head(40)"
   ]
  },
  {
   "cell_type": "markdown",
   "metadata": {
    "id": "FGh6rLJbL5-W"
   },
   "source": [
    "<div dir=\"rtl\" style=\"font-family: tahoma\">حال مقادیر ستون ها را به رشته های متنی تبدیل می کنیم: منطقه، کشور، نامشخص. تابع `astype()` نوع یا قالب بندی دیتا را عوض می کند</div>"
   ]
  },
  {
   "cell_type": "code",
   "execution_count": null,
   "metadata": {
    "id": "EV5wRB0gfat9"
   },
   "outputs": [],
   "source": [
    "df['Region'] = df['Region'].astype(str) \n",
    "df['Country'] = df['Country'].astype(str) \n",
    "df['Misc'] = df['Misc'].astype(str) "
   ]
  },
  {
   "cell_type": "markdown",
   "metadata": {
    "id": "MEHcGrOIL9F5"
   },
   "source": [
    "<div dir=\"rtl\">اکنون، بیایید دیتافریم اصلی را فیلتر کنیم تا دیتافریم‌های جداگانه‌ای ایجاد کنیم که بر اساس «Region» جدا شده‌اند.</div>"
   ]
  },
  {
   "cell_type": "code",
   "execution_count": null,
   "metadata": {
    "id": "9uGgEe-32IYE"
   },
   "outputs": [],
   "source": [
    "asia_df = df.loc[df['Country'] == 'Asia']\n",
    "# to check #asia_df\n",
    "\n",
    "# for asia_df, we will need to switch the 'Region' and 'Country' columns\n",
    "asia_df = asia_df.rename(columns={'Region': 'Country', 'Country': 'Region'})\n",
    "\n",
    "# asia_df.head(3) # to check the first three rows of our newly created asia_df"
   ]
  },
  {
   "cell_type": "code",
   "execution_count": null,
   "metadata": {},
   "outputs": [],
   "source": [
    "asia_df.head()"
   ]
  },
  {
   "cell_type": "code",
   "execution_count": null,
   "metadata": {
    "id": "jCpwXpq32wCq"
   },
   "outputs": [],
   "source": [
    "africa_df = df.loc[df['Region'] == 'Africa']\n",
    "# africa_df.head(3) # to check the first three rows of our newly created africa_df"
   ]
  },
  {
   "cell_type": "code",
   "execution_count": null,
   "metadata": {
    "id": "WEryuPNJ6rL2"
   },
   "outputs": [],
   "source": [
    "europe_df = df.loc[df['Region'] == 'Europe']\n",
    "# europe_df.head(3) # to check the first three rows of our newly created europe_df"
   ]
  },
  {
   "cell_type": "code",
   "execution_count": null,
   "metadata": {
    "id": "QAytloUOz7-A"
   },
   "outputs": [],
   "source": [
    "oceania_df = df.loc[df['Region'] == 'Oceania']\n",
    "# oceania_df.head(3) # to check the first three rows of our newly created oceania_df"
   ]
  },
  {
   "cell_type": "code",
   "execution_count": null,
   "metadata": {
    "id": "dCn_xbXO2hq9"
   },
   "outputs": [],
   "source": [
    "latinamerica_df = df.loc[df['Region'] == 'Latin America and the Caribbean']\n",
    "# latinamerica_df.head(3) # to check the first three rows of our newly created latinamerica_df"
   ]
  },
  {
   "cell_type": "code",
   "execution_count": null,
   "metadata": {
    "id": "j4pdGiMo0VWU"
   },
   "outputs": [],
   "source": [
    "northamerica_df = df.loc[df['Region'] == 'North America']\n",
    "# northamerica_df.head(3) # to check the first three rows of our newly created northamerica_df"
   ]
  },
  {
   "cell_type": "code",
   "execution_count": null,
   "metadata": {
    "id": "DC7kUyhT0XpF"
   },
   "outputs": [],
   "source": [
    "southamerica_df = df.loc[df['Region'] == 'South America']\n",
    "# southamerica_df.head(3) # to check the first three rows of our newly created southamerica_df"
   ]
  },
  {
   "cell_type": "markdown",
   "metadata": {
    "id": "xxVniaS-WlBL"
   },
   "source": [
    "<p style=\"direction: rtl\">\n",
    "حالا بیایید بررسی کنیم که طول دیتافریم اصلی، 87 ردیف، با طول فریم های داده (فیلتر شده بر اساس منطقه) ترکیب شده مطابقت داشته باشد.\n",
    "</p>"
   ]
  },
  {
   "cell_type": "code",
   "execution_count": null,
   "metadata": {
    "colab": {
     "base_uri": "https://localhost:8080/"
    },
    "id": "JAAdbdne0cpD",
    "outputId": "0de0d9d6-7b35-4db1-bdff-07e51761e148"
   },
   "outputs": [],
   "source": [
    "len(asia_df)+len(africa_df)+len(europe_df)+len(oceania_df)+len(northamerica_df)+len(southamerica_df)+len(latinamerica_df)"
   ]
  },
  {
   "cell_type": "markdown",
   "metadata": {
    "id": "WIA-0JL8MFFV"
   },
   "source": [
    "<p style=\"direction: rtl\">\n",
    "از آنجایی که اکنون ستون‌های «کشور» و «منطقه» به درستی اختصاص داده شده‌اند، می‌توانیم می توانیم دیتافریم های منطقه ای را به یکدیگر متصل کنیم.\n",
    "</p>"
   ]
  },
  {
   "cell_type": "code",
   "execution_count": null,
   "metadata": {
    "id": "vjFwTJGd2ZnU"
   },
   "outputs": [],
   "source": [
    "world_df = pd.concat([asia_df, africa_df, europe_df, oceania_df, latinamerica_df, northamerica_df, southamerica_df], axis=0)\n",
    "# make sure to check what it looks like! "
   ]
  },
  {
   "cell_type": "markdown",
   "metadata": {
    "id": "5GIZyOzWaedh"
   },
   "source": [
    "<p style=\"direction: rtl\">حال ستون اصلی را که دارای هر دو منطقه و کشور بود، و همچنین ستون \"متفرقه\" را که ایجاد کردیم برای جمع‌آوری داده‌های غیرضروری اضافی از تقسیم ستون اصلی به ستون‌های جداگانه منطقه و کشور، رها می‌کنیم. پس از این، ما یک مجموعه داده تمیز خواهیم داشت که آماده تصویرگرایی / ویژوال شدن است!</p>"
   ]
  },
  {
   "cell_type": "code",
   "execution_count": null,
   "metadata": {
    "colab": {
     "base_uri": "https://localhost:8080/",
     "height": 285
    },
    "id": "cAz7KboXIZkh",
    "outputId": "5ce9ce61-a87f-4df0-bfd9-0dc4a6628deb"
   },
   "outputs": [],
   "source": [
    "# drop first column that has both Region and Country and the 'Misc' column\n",
    "\n",
    "world_df_edited = world_df.drop(['Region and country - Asia', 'Misc'], axis=1)\n",
    "world_df_edited.head(5)"
   ]
  },
  {
   "cell_type": "markdown",
   "metadata": {
    "id": "2wBh5QMxJf4Q"
   },
   "source": [
    "\n",
    "<h4 style=\"direction: rtl\">\n",
    "مرحله 3: تجسم داده ها\n",
    "</h4>\n",
    "\n",
    "<p style=\"direction: rtl\">اکنون می‌توانیم از کتابخانه matplotlib که در همان ابتدا وارد کرده بودیم برای به تصویر کشیدن داده های دیتافریم تمیز شده خود (world_df_edited) استفاده کنیم. ما قصد داریم <strong>نمودارهای میله ای</strong> و <strong>نمودارهای پراکنده</strong> بسازیم\n",
    "</p>\n",
    "<p style=\"direction: rtl\">نمودارهای میله ای به طور کلی برای مقایسه داده ها در یک دسته بندی خوب هستند (نمودارهای میله ای <strong>گروه بندی شده</strong> برای مقایسه داده های بیش از یک دسته بندی خوب هستند).</p>\n",
    "<p style=\"direction: rtl\">ما یک نمودار میله ای ایجاد می کنیم تا تنها نرخ زاد و ولد خام را در بین کشورهای مختلف آسیا مقایسه کنیم</p>"
   ]
  },
  {
   "cell_type": "markdown",
   "metadata": {
    "id": "UMJqcvvaZcDx"
   },
   "source": [
    "<h5 style=\"direction: rtl\">ساخت نمودار میله ای با matplotlib</h5>"
   ]
  },
  {
   "cell_type": "markdown",
   "metadata": {
    "id": "_JHyvGTpQsOh"
   },
   "source": [
    "<p style=\"direction: rtl\">دقت کنید: شما کتابخانه <span style=\"color: orange\">matplotlip.pyplot</span> را تحت عنوان <span style=\"color: orange\">plt</span> وارد کردید: <span style=\"color: orange\">from matplotlib import pyplot as plt<span></p>\n",
    "<p style=\"direction: rtl\">\n",
    "ابتدایی ترین فرمان برای ساختن یک نمودار میله ای به وسیله matplotlib به شکل زیر است\n",
    "</p>\n",
    "<p style=\"color: orange\">plt.bar(x, height, width, bottom, align)</p>"
   ]
  },
  {
   "cell_type": "code",
   "execution_count": null,
   "metadata": {
    "colab": {
     "base_uri": "https://localhost:8080/",
     "height": 487
    },
    "id": "oT7YFGfBJEZQ",
    "outputId": "10cf0f8c-d259-43c9-a3ff-514089e2692b"
   },
   "outputs": [],
   "source": [
    "## bar charts are one type of basic visualization you can create using matplotlib\n",
    "\n",
    "# we created a separate dataframe for data from countries in Asia, so we will use this\n",
    "\n",
    "# the 'x' value in this case would be what is on the x-axis: names of the different countries\n",
    "bar_x_asia = asia_df['Country']\n",
    "\n",
    "# the 'height' value in this case would be what influences the height of the bars: the crude birth rates of these countries\n",
    "bar_y_asia = asia_df['Crude birth rate - per thousand population']\n",
    "  \n",
    "# now set the size you want your bar chart to be in inches\n",
    "# in this case, we have the bar chart set to 10 by 5 inches\n",
    "fig = plt.figure(figsize = (10, 5))\n",
    " \n",
    "# this will actually create the bar chart itself with the data we want\n",
    "# set this bar chart to what color you want the bar to be\n",
    "# and the bar's width\n",
    "plt.bar(bar_x_asia, bar_y_asia, color ='skyblue', width = 0.4)\n",
    " \n",
    "# you can also set the chart title, along with the x and y-axis labels - this is generally good practice to describe what your chart is showing\n",
    "plt.xlabel(\"Countries in Asia\")\n",
    "plt.ylabel(\"Crude birth rate (per thousand population)\")\n",
    "plt.title(\"Crude birth rates in Asia\")\n",
    "plt.show()"
   ]
  },
  {
   "cell_type": "markdown",
   "metadata": {
    "id": "LqQHM6MPSXy2"
   },
   "source": [
    "<p style=\"direction: rtl\">شما ممکن است متوجه شده باشید که محور x کامل ناخوانا است. این به این دلیل است که تعداد زیادی کشور برای نمایش وجود دارد.</p>"
   ]
  },
  {
   "cell_type": "markdown",
   "metadata": {
    "id": "WRbaDYMjZXAP"
   },
   "source": [
    "<p style=\"direction: rtl\">\n",
    "راه حلی که می توانیم اینجا آزمایش کنیم این است که این نمودار میله ای را از حالت عمودی به حالت افقی تبدیل کنیم. اینکار می تواند توسط فرمان \n",
    "<a dir=\"ltr\" href=\"https://matplotlib.org/stable/api/_as_gen/matplotlib.pyplot.barh.html#matplotlib.pyplot.barh\">plt.barh()</a>\n",
    "انجام شود. یعنی به جای فرمان \n",
    "<span dir=\"ltr\" style=\"color: orange\">plt.bar()</span>\n",
    "از فرمان \n",
    "<span dir=\"ltr\" style=\"color: orange\">plt.barh()</span>\n",
    "استفاده می کنیم.\n",
    "</p>"
   ]
  },
  {
   "cell_type": "code",
   "execution_count": null,
   "metadata": {
    "colab": {
     "base_uri": "https://localhost:8080/",
     "height": 718
    },
    "id": "riRA6r4KZWXm",
    "outputId": "5753e7b6-9e05-40f8-f965-301483af18b6"
   },
   "outputs": [],
   "source": [
    "# setting the dimensions\n",
    "fig = plt.figure(figsize = (10, 8))\n",
    "\n",
    "# plotting the actual horizontal bar chart\n",
    "plt.barh(bar_x_asia, bar_y_asia, color ='skyblue')\n",
    "\n",
    "# putting axes labels and a title\n",
    "plt.xlabel(\"Crude birth rate (per thousand population)\")\n",
    "plt.title(\"Crude birth rates in Asia\")\n",
    "plt.show()"
   ]
  },
  {
   "cell_type": "markdown",
   "metadata": {
    "id": "hm3kZm-e9wkI"
   },
   "source": [
    "<p style=\"direction: rtl\">اکنون فضای بسیار بیشتری برای تشخیص اینکه کدام ستون (نماینده نرخ خام تولد) با کدام کشور مطابقت دارد، وجود دارد.</p>"
   ]
  },
  {
   "cell_type": "markdown",
   "metadata": {
    "id": "BUcnxwiNZ65O"
   },
   "source": [
    "<p style=\"direction: rtl\">نمودارهای میله ای مانند این به ویژه برای نتیجه گیری کلی از مجموعه داده ها مفید هستند. از این نمودار میله‌ای می‌توان دریافت که ایران در مقایسه با همسایگان جغرافیایی خود یکی از <strong>کم‌ترین</strong> نرخ‌های تولد خام در سال ۲۰۲۰ را داشته است.</p>"
   ]
  },
  {
   "cell_type": "markdown",
   "metadata": {
    "id": "byoS9DJ5ZoJO"
   },
   "source": [
    "<h5 dir=\"rtl\">ساخت نمودارهای پراکنده بوسیله matplotlib</h5>"
   ]
  },
  {
   "cell_type": "markdown",
   "metadata": {
    "id": "qgz8zqq5a1Fx"
   },
   "source": [
    "<p style=\"direction: rtl\"> \n",
    "کتابخانه\n",
    "<span style=\"color: orange\">matplotlib</span>\n",
    "می تواند برای ساختن نمودارهای پراکنده نیز مورد استفاده قرار گیرد. نموادهای پراکنده معمولا برای مقایسه دو متغیر عددی مختلف مورد استفاده قرار می گیرند\n",
    "</p>\n",
    "<p style=\"direction: rtl\">فرمان زیر به طور معمول برای ساختن نمودارهای پراکند توسط \n",
    "<span dir=\"ltr\">matplotlib</span>\n",
    "مورد استفاده قرار می گیرد.\n",
    "</p>\n",
    "<p>plt.scatter(x, y)</p>\n",
    "<p style=\"direction: rtl\">همانطور که می بینید این فرمان x و y را می گیرد.</p>\n",
    "\n",
    "<p style=\"direction: rtl\">ما می توانیم یک نمودار پراکنده برای مقایسه نرخ خام زاد و ولد و نرخ مرگ و میر در میان کشورهای آسیایی ایجاد کنیم.</p>\n"
   ]
  },
  {
   "cell_type": "code",
   "execution_count": null,
   "metadata": {
    "id": "0jrjvGPh_wkK"
   },
   "outputs": [],
   "source": [
    "# the x-values will be scatter_x_asia, the variable we are creating for our scatter plot\n",
    "# that represents the crude birth rates from these same countries\n",
    "scatter_x_asia = asia_df['Crude birth rate - per thousand population']"
   ]
  },
  {
   "cell_type": "code",
   "execution_count": null,
   "metadata": {
    "id": "MfDCPRh___oR"
   },
   "outputs": [],
   "source": [
    "# the y-values in this case would be scatter_y_asia\n",
    "# the crude death rates of these countries\n",
    "scatter_y_asia = asia_df['Crude death rate - per thousand population']"
   ]
  },
  {
   "cell_type": "code",
   "execution_count": null,
   "metadata": {
    "colab": {
     "base_uri": "https://localhost:8080/",
     "height": 472
    },
    "id": "9h76gAaccNIN",
    "outputId": "0ed38816-1bd3-47bb-8fb5-9f56f02c1239"
   },
   "outputs": [],
   "source": [
    "# now that we have the specific data, let's plot these data points\n",
    "\n",
    "# passing this data to the scatter plot\n",
    "plt.scatter(scatter_x_asia, scatter_y_asia, color='red')\n",
    " \n",
    "# setting the chart title, along with the x and y-axis labels\n",
    "plt.xlabel(\"Crude birth rate (per thousand population)\")\n",
    "plt.ylabel(\"Crude death rate (per thousand population)\")\n",
    "plt.title(\"Crude birth vs. death rates in Asia\")\n",
    "plt.show()"
   ]
  },
  {
   "cell_type": "markdown",
   "metadata": {
    "id": "Kfb880bPnEoE"
   },
   "source": [
    "\n",
    "<p style=\"direction: rtl\">\n",
    "در هنگام نتیجه گیری از نمودارهای پراکنده توجه به مقیاس های بین محورها مهم است.در این نمودار پراکندگی، مقیاس‌ها در محور x و y متفاوت است - دامنه نرخ تولد خام از 30 گذشته است در حالی که محدوده نرخ مرگ و میر خام فقط تا 9 می‌رود.\n",
    "</p>\n",
    "\n",
    "<p style=\"direction: rtl\">\n",
    "در صورت عدم توجه به موضوع مقیاس، ممکن است که نتیجه گیری کاملا اشتباهی از یک نمودار پراکنده صورت بگیرد.\n",
    "</p>\n",
    "<p style=\"direction: rtl\">حال سعی می کنیم این نمودار پراکندگی را با هر دو محور x و y که\n",
    "<strong>مقیاس یکسانی</strong>\n",
    " دارند، دوباره ایجاد کنیم.</p>"
   ]
  },
  {
   "cell_type": "code",
   "execution_count": null,
   "metadata": {
    "colab": {
     "base_uri": "https://localhost:8080/",
     "height": 472
    },
    "id": "JiUqWspY_cUT",
    "outputId": "d5289a5d-20c6-40cd-93bd-3c1e6b945bf1"
   },
   "outputs": [],
   "source": [
    "plt.scatter(scatter_x_asia, scatter_y_asia, color='skyblue')\n",
    "\n",
    "# setting the x and y axes to be the same scale\n",
    "plt.xlim(0, 35)\n",
    "plt.ylim(0, 35)\n",
    " \n",
    "plt.xlabel(\"Crude birth rate (per thousand population)\")\n",
    "plt.ylabel(\"Crude death rate (per thousand population)\")\n",
    "plt.title(\"Crude birth vs. death rates in Asia\")\n",
    "plt.show()"
   ]
  },
  {
   "cell_type": "markdown",
   "metadata": {
    "id": "8kOoLeszAoCN"
   },
   "source": [
    "<p style=\"direction: rtl\">وقتی نرخ تولد و مرگ را به این شکل ترسیم می کنیم، بهتر می توانیم مشاهده کنیم که چگونه نرخ خام زاد و ولد در اکثر کشورهای آسیایی بسیار بالاتر از نرخ خام مرگ و میر آنها است.</p>"
   ]
  },
  {
   "cell_type": "markdown",
   "metadata": {
    "id": "YO5uYvFYliYD"
   },
   "source": [
    "<h3 dir=\"rtl\">تمرینات اضافی</h3>\n",
    "<p dir=\"rtl\">\n",
    "سعی کنید که نمودارهای میله ای و پراکنده \n",
    "<strong>خودتان</strong>\n",
    "را با استفاده از دیتافریم های دیگری که در این درس ساختید، درست کنید. به عنوان مثال \n",
    "<span style=\"color: orange\">africa_df</span> یا\n",
    "<span style=\"color: orange\">oceania_df</span>.\n",
    "</p><p dir=\"rtl\">\n",
    "وقتی نمودار میله ای خود را ساختید می توانید آنرا بر اساس منطقه رنگ بندی کنید یا اینکه می توانید نمودارهای میله ای گروه بندی شده درست کنید. برای اطلاعات بیشتر \n",
    "<a href=\"https://matplotlib.org/stable/gallery/lines_bars_and_markers/barchart.html#sphx-glr-gallery-lines-bars-and-markers-barchart-py\">این لینک</a> به شما کمک می کند.\n",
    "</p>"
   ]
  },
  {
   "cell_type": "markdown",
   "metadata": {
    "id": "tJOae6oiZkY0"
   },
   "source": [
    "<h3 dir=\"rtl\">\n",
    "منابع بیشتر\n",
    "</h3>\n",
    "<ul dir=\"rtl\">\n",
    "<li>اگر می خواهید بیشتر در مورد کتابخانه \n",
    "<a href=\"https://matplotlib.org/\">matplotlib</a>\n",
    " در پایتون بدانید.</li>\n",
    "<li>\n",
    "استفاده از تابع \n",
    "<a href=\"http://pandas.pydata.org/pandas-docs/stable/reference/api/pandas.DataFrame.rename.html\" dir=\"ltr\">rename()</a>\n",
    " در کتابخانه pnadas\n",
    "</li>\n",
    "</ul>\n",
    "\n"
   ]
  },
  {
   "cell_type": "markdown",
   "metadata": {
    "id": "Bv9g56Y8Nb5l"
   },
   "source": [
    "<h3 dir=\"rtl\">\n",
    "اکنون شما اولین درس را در مورد اصول ساختن نمودار به پایان رساندید</h3>\n",
    "<p style=\"direction: rtl\">در درس بعدی، سعی می کنیم حاشیه نویسی متنی را به نمودارهای پراکنده که در این درس ساخته ایم اضافه کنیم.</p>"
   ]
  },
  {
   "cell_type": "code",
   "execution_count": null,
   "metadata": {
    "id": "lRcKKINUg0jL"
   },
   "outputs": [],
   "source": [
    " "
   ]
  }
 ],
 "metadata": {
  "colab": {
   "provenance": []
  },
  "kernelspec": {
   "display_name": "Python 3 (ipykernel)",
   "language": "python",
   "name": "python3"
  },
  "language_info": {
   "codemirror_mode": {
    "name": "ipython",
    "version": 3
   },
   "file_extension": ".py",
   "mimetype": "text/x-python",
   "name": "python",
   "nbconvert_exporter": "python",
   "pygments_lexer": "ipython3",
   "version": "3.10.11"
  }
 },
 "nbformat": 4,
 "nbformat_minor": 1
}
