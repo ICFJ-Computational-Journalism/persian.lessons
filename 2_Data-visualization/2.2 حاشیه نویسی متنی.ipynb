{
 "cells": [
  {
   "cell_type": "markdown",
   "metadata": {
    "id": "h0xvGvHRQPJd"
   },
   "source": [
    "<h1 dir=\"rtl\">افزودن متن و توضیحات به نمودارها</h1>\n",
    "<br />\n",
    "\n",
    "<a href=\"https://www.youtube.com/watch?v=uCoa95bzcvo&list=PLY_JJbHwd6kftjlcbtChIKZfEPEfFRGcY&index=19&ab_channel=TheInternationalJournalists%27Network\">\n",
    "<img src=\"https://dotnet-talk.com/images/icfj/2_2.jpg\" width=\"50%\" alt=\"افزودن متن و توضیحات به نمودار ها - ویدیو\" />\n",
    "</a>\n",
    "\n",
    "<br />\n",
    "\n",
    "<div dir=\"rtl\">حتماً ابتدا درس اصول نمودارها را قبل از تکمیل این نوت‌بوک انجام دهید. این درس نیاز به حداقل یکی از نمودارهایی که در درس قبل ایجاد کرده‌اید، دارد!</div>\n",
    "<div dir=\"rtl\">در این درس، نحوه افزودن حاشیه‌نویسی‌های اولیه به نمودارهای خود را مرور می‌کنیم. حاشیه‌نویسی‌ها می‌توانند برای بهبود خوانایی نمودارهای شما، افزودن زمینه‌ای اضافی به داده‌ها و یا کمک به هدایت خوانندگان به آنچه باید توجه کنند، مفید باشند. در این مورد خاص، به نحوه افزودن حاشیه‌نویسی به یک نمودار پراکندگی خواهیم پرداخت.</div>"
   ]
  },
  {
   "cell_type": "code",
   "execution_count": null,
   "metadata": {
    "id": "qTg62rqPAYDd"
   },
   "outputs": [],
   "source": [
    "# وارد کردن کتابخانه‌های لازم\n",
    "\n",
    "import pandas as pd\n",
    "import numpy as np\n",
    "import matplotlib.pyplot as plt"
   ]
  },
  {
   "cell_type": "markdown",
   "metadata": {
    "id": "8pltX8tIuAj9"
   },
   "source": [
    "<h3 dir=\"rtl\">تنظیم داده‌های ما</h3>\n",
    "\n",
    "<div dir=\"rtl\">حال داده‌هایی را که در درس اول (نمودارهای پایه با matplotlib) استفاده ‌کردیم، و شامل نرخ تولد خام، مرگ و نرخ مرگ و میر کودکان در کشورهای سراسر جهان بود، را وارد کنیم.</div>\n"
   ]
  },
  {
   "cell_type": "code",
   "execution_count": null,
   "metadata": {
    "id": "wUuBRdbAuLkv"
   },
   "outputs": [],
   "source": [
    "# importing dataset as a 'dataframe' (df) to analyze in python\n",
    "filename = \"../datasets/csv/iod-03222-crude-birth-rate-death-rate-child-mortality-rate-in-selected-countries-world-202-en.csv\"\n",
    "df = pd.read_csv(filename)"
   ]
  },
  {
   "cell_type": "markdown",
   "metadata": {
    "id": "NM_OAgz0yHSK"
   },
   "source": [
    "<div dir=\"rtl\">حالا بیایید به همان روشی که در درس اول انجام دادیم، این مجموعه داده را پاکسازی کنیم.</div>"
   ]
  },
  {
   "cell_type": "code",
   "execution_count": null,
   "metadata": {
    "id": "9rCyyTI6yRPo"
   },
   "outputs": [],
   "source": [
    "# تقسیم ستون‌ها بر اساس خط تیره (-)\n",
    "df[['Region','Country', 'Misc']] = df['Region and country - Asia'].str.split(\" - \",expand=True)\n",
    "\n",
    "# تبدیل ستون‌ها به رشته های متنی: 'Region'، 'Country'، 'Misc'\n",
    "df[\"Region\"] = df[\"Region\"].astype(str)\n",
    "df[\"Country\"] = df[\"Country\"].astype(str)\n",
    "df[\"Misc\"] = df[\"Misc\"].astype(str)\n",
    "\n",
    "# فیلتر کردن دیتافریم اصلی برای ایجاد دیتافریم‌های جداگانه جداشده با توجه به 'Region'\n",
    "# برای این درس، ما فقط بر روی قاره آسیا تمرکز خواهیم کرد.\n",
    "asia_df = df.loc[df['Country'] == 'Asia']\n",
    "\n",
    "# تعویض ستون‌های 'Region' و 'Country'\n",
    "asia_df = asia_df.rename(columns={'Region': 'Country', 'Country': 'Region'})\n",
    "\n",
    "# می‌توانیم کشورهایی که نام آن‌ها بیشتر از یک کلمه است را به یک کلمه تغییر نام دهیم تا تجزیه و تحلیل داده‌ها و تجسم آن‌ها راحت‌تر باشد.\n",
    "asia_df = asia_df.replace({'Country':{\"Iran, Islamic Republic\":\"Iran\", \"Azerbaijan, Republic of\": \"Azerbaijan\"}})"
   ]
  },
  {
   "cell_type": "markdown",
   "metadata": {
    "id": "QxU_iKSEzEmS"
   },
   "source": [
    "<h3 dir=\"rtl\">ساخت نمودار اولیه ما</h3>\n",
    "<div dir=\"rtl\">حالا قصد داریم نمودار پراکنش نرخ تولد و مرگ و میر خام کشورهای خاصی در آسیا (به عنوان مثال ایران و همسایگانش) را بازسازی کنیم.</div>\n"
   ]
  },
  {
   "cell_type": "code",
   "execution_count": null,
   "metadata": {
    "colab": {
     "base_uri": "https://localhost:8080/",
     "height": 428
    },
    "id": "SgY5tWG78lPI",
    "outputId": "89c0c542-fdf1-487a-828c-7c0f26073d4a"
   },
   "outputs": [],
   "source": [
    "# حالا بیایید فقط داده‌های همسایگان ایران را از asia_df استخراج کنیم.\n",
    "iran_neighbors = asia_df[asia_df['Country'].isin([\"Iran\", \"Azerbaijan\", \"Armenia\", \"Turkmenistan\", \"Pakistan\", \"Afghanistan\", \"Oman\", \"Turkey\", \"Iraq\"])]\n",
    "iran_neighbors # this should return a dataframe but with data on birth and death rates and child mortality rates from the countries above"
   ]
  },
  {
   "cell_type": "code",
   "execution_count": null,
   "metadata": {
    "colab": {
     "base_uri": "https://localhost:8080/"
    },
    "id": "UzrKXYmtQb9N",
    "outputId": "5736862d-70bc-4653-ed6d-f045da05b8af"
   },
   "outputs": [],
   "source": [
    "# let's get the x values for our scatter plot (birth rates)\n",
    "iran_neighbors_birth = iran_neighbors['Crude birth rate - per thousand population']\n",
    "iran_neighbors_birth"
   ]
  },
  {
   "cell_type": "code",
   "execution_count": null,
   "metadata": {
    "colab": {
     "base_uri": "https://localhost:8080/"
    },
    "id": "B6rDTRAt99PH",
    "outputId": "b5c26ec6-3b5f-43ef-fa6c-eb94c7d25c08"
   },
   "outputs": [],
   "source": [
    "# and then let's get the y values for our scatter plots (death rates)\n",
    "iran_neighbors_death = iran_neighbors['Crude death rate - per thousand population']\n",
    "iran_neighbors_death"
   ]
  },
  {
   "cell_type": "code",
   "execution_count": null,
   "metadata": {
    "colab": {
     "base_uri": "https://localhost:8080/",
     "height": 428
    },
    "id": "uOh9x1Rg825l",
    "outputId": "7d636f08-e48f-413e-9c1f-249982b017ae"
   },
   "outputs": [],
   "source": [
    "iran_neighbors"
   ]
  },
  {
   "cell_type": "code",
   "execution_count": null,
   "metadata": {
    "colab": {
     "base_uri": "https://localhost:8080/",
     "height": 487
    },
    "id": "t8GSUimv91h5",
    "outputId": "c35700c9-8d37-4117-8418-2a0e0dd174d2"
   },
   "outputs": [],
   "source": [
    "# we need to make a 'subplot,' the 'ax' variable, in order to add data point labels\n",
    "fig, ax = plt.subplots(figsize=(10,5))\n",
    "\n",
    "# passing this data to the scatter plot\n",
    "plt.scatter(iran_neighbors_birth, iran_neighbors_death, color='skyblue')\n",
    "\n",
    "# setting the chart title, along with the x and y-axis labels\n",
    "plt.xlabel(\"Crude birth rate (per thousand population)\")\n",
    "plt.ylabel(\"Crude death rate (per thousand population)\")\n",
    "plt.title(\"Crude birth vs. death rates in Asia\")\n",
    "\n",
    "plt.show()"
   ]
  },
  {
   "cell_type": "markdown",
   "metadata": {
    "id": "NhEMoEI5yi7e"
   },
   "source": [
    "<div dir=\"rtl\">بالا به طور اساسی نموداری است که در درس قبلی ایجاد کرده‌ایم. حالا بیایید سعی کنیم حاشیه‌نویسی‌ها را انجام دهیم.</div>"
   ]
  },
  {
   "cell_type": "markdown",
   "metadata": {
    "id": "gTesFl0yyi7e"
   },
   "source": [
    "<h2 dir=\"rtl\">افزودن حاشیه‌نویسی‌ها</h2>\n",
    "\n",
    "<h3 dir=\"rtl\">حاشیه‌نویسی هر نقطه</h3>\n",
    "\n",
    "<div dir=\"rtl\">برای افزودن حاشیه‌نویسی‌ها، در واقع یک حلقه for ایجاد می‌کنیم که از طریق هر ردیف از داده‌هایمان حرکت می‌کند و تابع <span  dir=\"ltr\" style=\"color: orange\">plt.text()</span> را فراخوانی می‌کند. برای هر <span dir=\"ltr\" style=\"color: orange\">plt.text()</span>، مقادیر زیر را ارائه می‌دهیم:</div>\n",
    "<ul dir=\"rtl\">\n",
    "  <li>مقدار x</li>\n",
    "  <li>مقدار y</li>\n",
    "  <li>متنی که می‌خواهیم در برچسب قرار دهیم (در این حالت نام کشور)</li>\n",
    "  <li>و اندازه فونت برچسب</li>\n",
    "</ul>"
   ]
  },
  {
   "cell_type": "code",
   "execution_count": null,
   "metadata": {
    "colab": {
     "base_uri": "https://localhost:8080/",
     "height": 487
    },
    "id": "FMPaoui1yi7e",
    "outputId": "95556803-ec41-41fe-c7c1-cf540338bb36"
   },
   "outputs": [],
   "source": [
    "# we need to make a 'subplot,' the 'ax' variable, in order to add data point labels\n",
    "fig, ax = plt.subplots(figsize=(10,5))\n",
    "\n",
    "# passing this data to the scatter plot\n",
    "plt.scatter(iran_neighbors_birth, iran_neighbors_death, color='skyblue')\n",
    "\n",
    "# setting the chart title, along with the x and y-axis labels\n",
    "plt.xlabel(\"Crude birth rate (per thousand population)\")\n",
    "plt.ylabel(\"Crude death rate (per thousand population)\")\n",
    "plt.title(\"Crude birth vs. death rates in Asia\")\n",
    "\n",
    "# now it's time to add labels to the points\n",
    "\n",
    "# then what the label should contain (in this case, 'Country')\n",
    "# and lastly the font size\n",
    "for i in range(len(iran_neighbors_birth)): # we're looping through EACH country in our dataset we're visualizing - in this case, JUST data from Iran and its neighbors\n",
    "  plt.text(\n",
    "    iran_neighbors_birth.reset_index(drop=True)[i] + 0.15, # and for each country, we're plotting its datapoint so we need the 'x' value (country birth rate)\n",
    "    iran_neighbors_death.reset_index(drop=True)[i] + 0.1, # and the country's 'y' value (country death rate)\n",
    "    iran_neighbors[\"Country\"].reset_index(drop=True)[i], # and then the label corresponding to that country (the country name - contained in \"Country\")\n",
    "    size=10 # and lastly the font size of the label\n",
    "  )\n",
    "\n",
    "plt.show()"
   ]
  },
  {
   "cell_type": "markdown",
   "metadata": {
    "id": "diJw-SP99IO9"
   },
   "source": [
    "<div dir=\"rtl\">حالا ما برچسب‌های کشورها را متناظر با نقطه‌هایشان در نمودار پراکنش نرخ تولد و مرگ و میر خام داریم و می‌توانیم به صورت بصری مشاهده کنیم که ایران نسبت به همسایگان خود چگونه است.</div>"
   ]
  },
  {
   "cell_type": "markdown",
   "metadata": {
    "id": "9NzmlfAV-upA"
   },
   "source": [
    "<h3 dir=\"rtl\">افزودن حاشیه‌نویسی‌های تکی</h3>\n",
    "\n",
    "<div dir=\"rtl\">ممکن است به حاشیه‌نویسی‌ها نیاز داشته باشیم تا نقاط داده‌های خاصی را در داخل مجموعه داده بزرگ اشاره کنیم. بیایید فرض کنیم که می‌خواهیم به خصوص نقطه داده ایران را با یک <strong>پیکان</strong> نشان دهیم. پس از بازسازی نمودار پراکنش همانند قبل، می‌توانیم با استفاده از <span dir=\"ltr\" style=\"color: orange\">ax.annotate()</span> حاشیه‌نویسی با استفاده از پیکان را اضافه کنیم.</div>"
   ]
  },
  {
   "cell_type": "code",
   "execution_count": null,
   "metadata": {
    "colab": {
     "base_uri": "https://localhost:8080/",
     "height": 542
    },
    "id": "XhtWT1O4_UtL",
    "outputId": "c790f16c-baf0-475e-99d3-3ec4508da8f3"
   },
   "outputs": [],
   "source": [
    "# we need to make a 'subplot,' the 'ax' variable, in order to add data point labels\n",
    "fig, ax = plt.subplots(figsize=(10,5))\n",
    "\n",
    "# passing this data to the scatter plot\n",
    "plt.scatter(iran_neighbors_birth, iran_neighbors_death, color='skyblue')\n",
    "\n",
    "# setting the chart title, along with the x and y-axis labels\n",
    "plt.xlabel(\"Crude birth rate (per thousand population)\")\n",
    "plt.ylabel(\"Crude death rate (per thousand population)\")\n",
    "plt.title(\"Crude birth vs. death rates in Asia\")\n",
    "\n",
    "# making the axes the same scale (from 0 to 35)\n",
    "plt.xlim(0, 35)\n",
    "plt.ylim(0, 35)\n",
    "\n",
    "# now it's time to add the arrow pointing out \"Iran\"\n",
    "\n",
    "# Iran's data point x-coordinate\n",
    "arrow_x = iran_neighbors[iran_neighbors[\"Country\"]==\"Iran\"][\"Crude birth rate - per thousand population\"]\n",
    "\n",
    "# Iran's data point y-coordinate\n",
    "arrow_y = iran_neighbors[iran_neighbors[\"Country\"]==\"Iran\"][\"Crude death rate - per thousand population\"]\n",
    "\n",
    "ax.annotate(\"Iran\", # the text accompanying the arrow annotation\n",
    "            xy=(arrow_x + 0.05, arrow_y + 0.05), # the position of the arrow head - we can offset the arrow slightly away from the point to make it look better\n",
    "            xytext=(arrow_x + 1, arrow_y + 1), # the position of the text accompanying the arrow\n",
    "            arrowprops=dict(arrowstyle=\"-\")) # the style of the arrow"
   ]
  },
  {
   "cell_type": "markdown",
   "metadata": {
    "id": "i2dAGJzoEY0T"
   },
   "source": [
    "<div dir=\"rtl\">کار خوبی در تکمیل درس دوم درباره حاشیه‌نویسی متن داشته‌اید! در زیر، منابع اضافی برای افزودن حاشیه‌نویسی‌های عمومی یا حاشیه‌نویسی‌های مرتبط با متن با استفاده از matplotlib آمده است.</div>"
   ]
  },
  {
   "cell_type": "markdown",
   "metadata": {
    "id": "TqqQ4ekj9cxS"
   },
   "source": [
    "<h3 dir=\"rtl\">منابع اضافی</h3>\n",
    "\n",
    "<ul dir=\"rtl\">\n",
    "  <li>حاشیه‌نویسی روی <a href=\"https://www.python-graph-gallery.com/193-annotate-matplotlib-chart\">نمودارهای matplotlib</a> - افزودن شکل‌ها و پیکان‌ها</li>\n",
    "  <li>کار با حاشیه‌نویسی با استفاده از <a href=\"https://matplotlib.org/stable/api/_as_gen/matplotlib.pyplot.arrow.html\">فلش های توضیحی</a> در matplotlib</li>\n",
    "  <li>حاشیه‌نویسی نمودارها <a href=\"https://python-charts.com/matplotlib/texts/\">با استفاده از متن</a></li>\n",
    "</ul>"
   ]
  },
  {
   "cell_type": "code",
   "execution_count": null,
   "metadata": {},
   "outputs": [],
   "source": []
  }
 ],
 "metadata": {
  "colab": {
   "provenance": []
  },
  "kernelspec": {
   "display_name": "Python 3 (ipykernel)",
   "language": "python",
   "name": "python3"
  },
  "language_info": {
   "codemirror_mode": {
    "name": "ipython",
    "version": 3
   },
   "file_extension": ".py",
   "mimetype": "text/x-python",
   "name": "python",
   "nbconvert_exporter": "python",
   "pygments_lexer": "ipython3",
   "version": "3.10.11"
  }
 },
 "nbformat": 4,
 "nbformat_minor": 1
}
