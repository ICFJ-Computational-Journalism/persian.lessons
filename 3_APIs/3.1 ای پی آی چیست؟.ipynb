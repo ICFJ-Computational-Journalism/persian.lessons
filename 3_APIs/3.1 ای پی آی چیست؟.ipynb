{
 "cells": [
  {
   "cell_type": "markdown",
   "metadata": {
    "id": "0DRx1I5h95iV"
   },
   "source": [
    "<h3 dir=\"rtl\">\n",
    "اِی‌پی‌آی چیست و به چه دردی می‌خورد؟\n",
    "</h3>"
   ]
  },
  {
   "cell_type": "markdown",
   "metadata": {},
   "source": [
    "\n",
    "\n",
    "<a href=\"https://www.youtube.com/watch?v=Kg-ow1xHsIQ&list=PLY_JJbHwd6kftjlcbtChIKZfEPEfFRGcY&index=3&ab_channel=TheInternationalJournalists%27Network\">\n",
    "<img src=\"https://dotnet-talk.com/images/icfj/3_1.jpg\" width=\"50%\" alt=\"ای پی آی چیست و به چه درد می خورد؟ - ویدیو\" />\n",
    "</a>\n",
    "<br />"
   ]
  },
  {
   "cell_type": "markdown",
   "metadata": {
    "id": "7wl9IMbV99nR"
   },
   "source": [
    "\n",
    "<div dir=\"rtl\">\n",
    "رابط‌های برنامه‌نویسی کاربردی (API) به یک بخش اساسی از منظومه دیجیتال تبدیل شده‌اند که نرم‌افزارها، سرویس‌ها و پایگاه‌های داده مختلف را به هم متصل می‌کنند. APIها به عنوان یک پل ارتباطی بین نرم‌افزارهای مختلف عمل کرده و امکان تبادل داده‌ها را به طور کارآمد فراهم می‌سازند.\n",
    "</div><br />\n",
    "<div dir=\"rtl\">\n",
    "بهره‌برداری از APIها برای خبرنگاران به این معناست که آن‌ها می‌توانند به منابع گسترده‌ای از داده و سرویس‌ها دسترسی داشته باشند که برای غنی‌سازی گزارش‌ها و روایت داستان استفاده می‌شوند. با بهره‌گیری از پلتفرم‌های رسانه‌های اجتماعی، پایگاه‌های داده دولتی و سایر منابع داده‌ای غنی، خبرنگاران می‌توانند برآورد‌ها در زمان واقعی را جمع‌آوری کنند، روند‌ها را پیگیری کنند و داستان‌های پنهان را کشف کنند که در غیر این صورت ممکن است نادیده گرفته شوند.\n",
    "</div>"
   ]
  },
  {
   "cell_type": "markdown",
   "metadata": {
    "id": "FNZ5_r9v98Hr"
   },
   "source": [
    "<h4 dir=\"rtl\">\n",
    "تعریف\n",
    "</h4>\n",
    "\n"
   ]
  },
  {
   "cell_type": "markdown",
   "metadata": {
    "id": "GEjElNFf-Bm_"
   },
   "source": [
    "\n",
    "<div dir=\"rtl\">\n",
    "در ادامه، چند مثال سریع از API ها آورده شده است. همه این API ها در یک بررسی روزنامه نگاری مفید نخواهند بود. در ادامه به مثال ها به طور دقیق تر می پردازیم.\n",
    "</div>\n",
    "</br >\n",
    "\n",
    "<ul dir=\"rtl\">\n",
    "<li>Twitter API - امکان دسترسی به داده های توییتر، شامل توییت ها، پروفایل کاربران و روند های ترند را فراهم می کند. خبرنگاران می توانند از این داده ها برای پیگیری فعالیت های رسانه های اجتماعی مربوط به یک خبر یا موضوع خاص استفاده کنند.</li>\n",
    "<li>Kavenegar SMS API - یک سرویس پیام رسانی است که به توسعه دهندگان امکان ارسال و دریافت پیام های SMS در ایران را می دهد.</li>\n",
    "<li>Google Maps API - امکان دسترسی به نقشه ها، مسیریابی و اطلاعات مبتنی بر مکان را فراهم می کند. خبرنگاران می توانند از این داده ها برای پیگیری حرکات افراد یا گروه ها استفاده کنند، یا جغرافیای یک خبر را تصویرسازی کنند.</li>\n",
    "<li>Soroush Messenger API - ارائه دهنده یک API برای توسعه دهندگان جهت یکپارچه سازی ویژگی های پیام رسانی در برنامه هایشان است.</li>\n",
    "<li>Digikala API - یک API برای دسترسی به داده های محصول و سفارشات ارائه می دهد.</li>\n",
    "<li>Shaparak API - شبکه پرداخت، API هایی برای پرداخت های آنلاین و پردازش تراکنش ها فراهم می کند.</li>\n",
    "</ul>\n",
    "\n",
    "\n",
    "\n",
    "\n",
    "\n",
    "\n",
    "\n",
    "\n",
    "\n",
    "\n"
   ]
  },
  {
   "cell_type": "markdown",
   "metadata": {
    "id": "70byLle_AW0k"
   },
   "source": [
    "<div dir=\"rtl\">\n",
    "به عنوان یک مثال از اینکه یک توسعه دهنده چگونه می تواند از یکی از این API ها استفاده کند، فرض کنید که یک توسعه دهنده می خواهد یک پلتفرم پرداخت با طرح زیبا ایجاد کند. به جای توسعه یک سیستم خود برای پردازش پرداخت ها، توسعه دهنده می تواند به سادگی پلتفرم خود را بر روی API شاپرک ایجاد کند.\n",
    "</div>"
   ]
  },
  {
   "cell_type": "markdown",
   "metadata": {
    "id": "tgmxcDW5-fML"
   },
   "source": [
    "<h4 dir=\"rtl\">دسترسی به API ها</h4>"
   ]
  },
  {
   "cell_type": "markdown",
   "metadata": {
    "id": "YSu5MuERCMpk"
   },
   "source": [
    "<div dir=\"rtl\">\n",
    "<h4>چگونه از یک API استفاده کنیم؟</h4>\n",
    "</div>\n",
    "<br />\n",
    "<div dir=\"rtl\">\n",
    "بطور معمول، اولین قدم برای استفاده از یک API، به دست آوردن دسترسی است. از آنجا که API ها برای بسیاری از شرکت ها یک بخش قابل توجه از تجارت هستند، آنها محدودیت ها را بر روی دسترسی به آنها اعمال می کنند. با این حال، اغلب شرکت ها نسخه های رایگان API خود را ارائه می دهند.\n",
    "</div>\n",
    "<br />\n",
    "\n",
    "<div dir=\"rtl\">\n",
    "API ها به طور معمول محدودیت هایی را برای حفاظت از داده هایی که ارائه می دهند و اطمینان از اینکه سرویس برای تمام کاربران قابل دسترسی و قابل اجرا است، اعمال می کنند. محدودیت های معمول شامل نیاز به کلید API و محدودیت های تماس API هستند.\n",
    "</div>\n",
    "<br />\n",
    "\n",
    "<div dir=\"rtl\">\n",
    "کلیدهای API شناسه های منحصر به فرد هستند که برای احراز هویت و پیگیری استفاده از API توسط کاربران یا برنامه های کاربردی استفاده می شود. API ها اغلب نیازمند بدست آوردن یک کلید API برای دسترسی به سرویس هستند. این به ارائه دهنده API امکان می دهد استفاده را نظارت کند و محدودیت های استفاده را اعمال کند، و همچنین برای شناسایی و محدود کردن دسترسی کاربران غیرمجاز استفاده می شود.\n",
    "</div>\n",
    "<br />\n",
    "\n",
    "<div dir=\"rtl\">\n",
    "محدودیت های تماس API تعداد درخواست های API را که توسط یک کاربر یا برنامه کاربردی در یک دوره زمانی خاص انجام می شود، محدود می کند. این محدودیت ها معمولاً برای جلوگیری از استفاده بیش از حد که می تواند موجب اختلال در سرویس یا مشکلات عملکردی شود، قرار می گیرند. محدودیت های تماس می تواند بسته به ارائه دهنده API و API خاصی که استفاده می شود، متفاوت باشد.\n",
    "</div>\n",
    "<br />\n",
    "\n",
    "<div dir=\"rtl\">\n",
    "برای دسترسی به یک API، به طور معمول باید چند مرحله را طی کنید:\n",
    "</div>\n",
    "<br />\n",
    "\n",
    "<div dir=\"rtl\">\n",
    "\n",
    "<ol dir=\"rtl\">\n",
    "  <li>برای حساب کاربری در ارائه دهنده API ثبت نام کنید.</li>\n",
    "  <li>در صورت لزوم، کلید API یا رمز احراز هویت دیگر را بدست آورید.</li>\n",
    "</ol>\n",
    "</div>"
   ]
  },
  {
   "cell_type": "markdown",
   "metadata": {
    "id": "oMMqvYQPCVF5"
   },
   "source": [
    "<div dir=\"rtl\">\n",
    "به عنوان مثال، برای دریافت یک کلید API برای API AccuWeather، مراحل زیر را دنبال کنید:\n",
    "</div>\n",
    "<div dir=\"rtl\">\n",
    "<ol>\n",
    "  <li>به وب سایت AccuWeather (https://developer.accuweather.com/) بروید و روی دکمه \"شروع کنید به صورت رایگان\" کلیک کنید.</li>\n",
    "  <li>فرم ثبت نام را با جزئیات شخصی و حساب خود پر کنید. پس از ثبت نام، به داشبورد توسعه دهنده AccuWeather هدایت خواهید شد.</li>\n",
    "  <li>در داشبورد خود، بر روی \"ایجاد برنامه جدید\" کلیک کنید تا برنامه جدیدی ایجاد کنید. فرم را با اطلاعات لازم درباره برنامه خود مانند نام، توضیح و پلتفرم پر کنید.</li>\n",
    "  <li>بعد از ایجاد برنامه، بر روی آن کلیک کنید تا جزئیات آن را مشاهده کنید.</li>\n",
    "  <li>در صفحه برنامه، کلید API خود را در بخش \"کلیدهای API\" پیدا خواهید کرد. بر روی \"نمایش\" کلیک کنید تا کلید نمایش داده شود.</li>\n",
    "  <li>کلید API را کپی کنید و در تماس های API خود با API AccuWeather استفاده کنید.</li>\n",
    "</ol>\n",
    "</div>"
   ]
  },
  {
   "cell_type": "markdown",
   "metadata": {
    "id": "sZwaDOIBvFeF"
   },
   "source": [
    "<h4 dir=\"rtl\">مخفی کردن کلید API در یک ریپوزیتوری: چرا و چگونه ریپوزیتوری را برای مخفی کردن کلید API تنظیم کنیم</h4>"
   ]
  },
  {
   "cell_type": "markdown",
   "metadata": {
    "id": "gZFGIbBZul9e"
   },
   "source": [
    "\n",
    "<div dir=\"rtl\">\n",
    "مهم است که کلید API خود را به صورت امن نگه دارید زیرا می تواند برای دسترسی به حساب شما و انجام عملیات به نمایندگی شما استفاده شود. یک راه برای مخفی کردن کلید API شما، ذخیره آن در یک فایل جداگانه است که در ریپوزیتوری کد شما درج نشده است.\n",
    "</div>\n",
    "<br />\n",
    "<div dir=\"rtl\">\n",
    "اینجا یک نمونه از راه اندازی ریپوزیتوری شما برای مخفی کردن کلید API خود است:\n",
    "<ol dir=\"rtl\">\n",
    "<li>یک فایل جدید با نام config.py در دایرکتوری اصلی ریپوزیتوری خود ایجاد کنید.</li>\n",
    "<li>خط زیر را به فایل config.py اضافه کنید و کلمه your_api_key_here را با کلید API واقعی خود جایگزین کنید:\n",
    "</li>\n",
    "</ol>\n",
    "</div>\n",
    "<div dir=\"ltr\"><pre dir=\"ltr\"><code>api_key = 'your_api_key_here'</code></pre></div>\n",
    "\n",
    "\n",
    "<div dir=\"rtl\">\n",
    "مطمئن شوید که فایل config.py را به محتوای فایل .gitignore اضافه کنید تا در ریپوزیتوری شما اپلود نشود. پس از افزودن config.py به .gitignore ، فایل .gitignore ممکن است به این شکل باشد:\n",
    "</div>\n",
    "<br />\n",
    "<div dir=\"ltr\">\n",
    "<pre><code>config.py\n",
    ".DS_Store</code></pre>\n",
    "</div>\n",
    "<br />\n",
    "<div dir=\"rtl\">\n",
    "در این فایل هر خط نشان دهنده یک فایلی است که باید توسط git نادیده گرفته شود.\n",
    "\n",
    "</div>\n"
   ]
  },
  {
   "cell_type": "markdown",
   "metadata": {
    "id": "oR605EoY-Mus"
   },
   "source": [
    "<h4 dir=\"rtl\">\n",
    "استفاده از رابط برنامه‌نویسی (API) در پایتون\n",
    "</h4>\n",
    "<br />\n",
    "<div dir=\"rtl\">\n",
    "حالا از رابط برنامه‌نویسی AccuWeather استفاده می‌کنیم تا برخی از داده‌های هواشناسی را دریافت کنیم.\n",
    "</div>"
   ]
  },
  {
   "cell_type": "code",
   "execution_count": null,
   "metadata": {
    "colab": {
     "base_uri": "https://localhost:8080/"
    },
    "id": "-SE-pbj2-vm0",
    "outputId": "cdea4e94-9446-42d2-af76-aad179d9b8b4"
   },
   "outputs": [],
   "source": [
    "import requests\n",
    "\n",
    "# Set the API endpoint URL with required query parameters and API key\n",
    "url = \"http://dataservice.accuweather.com/currentconditions/v1/353412?apikey=YOUR_API_KEY&details=true\"\n",
    "\n",
    "# Send a GET request to the API endpoint URL\n",
    "response = requests.get(url)\n",
    "\n",
    "# Check the status code to ensure that the request was successful\n",
    "if response.status_code == 200:\n",
    "    # If the request was successful, retrieve the data from the response\n",
    "    data = response.json()[0]\n",
    "    # Process the data as needed (e.g. print the current temperature)\n",
    "    temp = data['Temperature']['Metric']['Value']\n",
    "    print(f\"The current temperature in Paris is {temp} degrees Celsius.\")\n",
    "else:\n",
    "    # If the request was not successful, print an error message\n",
    "    print(f\"Error: {response.status_code}\")"
   ]
  },
  {
   "cell_type": "markdown",
   "metadata": {
    "id": "Czv5Aplv_zzp"
   },
   "source": [
    "\n",
    "<div dir=\"rtl\">\n",
    "در کد بالا، ما مراحل زیر را انجام دادیم:\n",
    "</div>\n",
    "<br />\n",
    "<ol dir=\"rtl\">\n",
    "<li>وارد کردن کتابخانه requests</li>\n",
    "<li>تنظیم آدرس URL مورد نیاز برای دسترسی به رابط برنامه‌نویسی API. شما می‌توانید این URL را در وب‌سایت مربوط به API که با آن کار می‌کنید، پیدا کنید. باید یک کلید API را در داخل URL قرار دهید.</li>\n",
    "<li>ارسال یک درخواست با استفاده از requests.get و ذخیره آن.</li>\n",
    "<li>بررسی اینکه آیا درخواست با موفقیت ارسال شده است و در صورت بله، استخراج داده مورد نظر از آن؛ در این مثال، دمای پاریس.</li>\n",
    "</ol>"
   ]
  },
  {
   "cell_type": "markdown",
   "metadata": {
    "id": "ANsYgo_vBXvK"
   },
   "source": [
    "<div dir=\"rtl\">\n",
    "در مثال بالا، API استفاده شده از کتابخانه‌ای برخوردار نیست. یک API بدون کتابخانه در Python به معنی عدم وجود کتابخانه پیش‌ساخته‌ای برای API است و برنامه‌نویسان باید از کتابخانه‌های داخلی یا کتابخانه‌های شخص ثالث Python استفاده کنند تا با API تعامل کنند. این نیازمند نوشتن کد برای مدیریت جزئیاتی مانند ارسال درخواست‌های HTTP و تجزیه پاسخ‌ها است. برای دسترسی به API‌هایی مانند این، از کتابخانه requests استفاده می‌کنیم، همانطور که در مثال بالا انجام دادیم.\n",
    "\n",
    "</div>\n",
    "<br />\n",
    "\n",
    "<div dir=\"rtl\">\n",
    "در Python، یک API با کتابخانه به معنای وجود یک کتابخانه Python است که توابع و کلاس‌های پیش‌ساخته‌ای را برای تعامل با API ارائه می‌دهد. این کتابخانه ممکن است جزئیاتی مانند ارسال درخواست‌های HTTP، مدیریت احراز هویت و تجزیه پاسخ‌ها را برعهده داشته باشد که برنامه‌نویسان را قادر می‌سازد تا از API استفاده کنند بدون اینکه خودشان کدهای سطح پایین را بنویسند.\n",
    "</div>"
   ]
  },
  {
   "cell_type": "markdown",
   "metadata": {
    "id": "N91Mk1ixBn3D"
   },
   "source": [
    "\n",
    "<div dir=\"rtl\">\n",
    "در مثال زیر، ما یک نمونه از API که دارای یک کتابخانه به نام OpenWeatherMap است، مشاهده می‌کنیم. توجه کنید که به جای نیاز به ارائه URL به کتابخانه requests، می‌توانیم به جای آن از توابع درون کتابخانه برای دریافت اطلاعات مورد نیاز استفاده کنیم.\n",
    "</div>"
   ]
  },
  {
   "cell_type": "code",
   "execution_count": null,
   "metadata": {
    "id": "0Cy_FDb2_zBq"
   },
   "outputs": [],
   "source": [
    "# Install the pyowm library using pip\n",
    "!pip install pyowm\n",
    "\n",
    "# Import the pyowm library\n",
    "import pyowm\n",
    "\n",
    "# Set the configuration parameters (API key and city name)\n",
    "api_key = 'YOUR_API_KEY'\n",
    "city_name = 'Paris'\n",
    "\n",
    "# Initialize the OpenWeatherMap client with the API key\n",
    "owm = pyowm.OWM(api_key)\n",
    "\n",
    "# Use the client to get the weather data for the specified city\n",
    "observation = owm.weather_at_place(city_name)\n",
    "weather = observation.get_weather()\n",
    "\n",
    "# Print the current temperature for the city\n",
    "temp = weather.get_temperature(unit='celsius')['temp']\n",
    "print(f\"The current temperature in {city_name} is {temp} degrees Celsius.\")\n"
   ]
  },
  {
   "cell_type": "markdown",
   "metadata": {
    "id": "4zlucquk-rpP"
   },
   "source": [
    "\n",
    "<div dir=\"rtl\">\n",
    "در پایتون، وجود یک API با یک کتابخانه به این معنا است که یک کتابخانه پایتونی موجود است که توابع و کلاس‌های آماده‌ای را برای تعامل با API فراهم می‌کند. این کتابخانه ممکن است جزئیاتی مانند انجام درخواست‌های HTTP، مدیریت احراز هویت و تجزیه پاسخ‌ها را برعهده بگیرد، که باعث آسان‌تر شدن استفاده از API برای توسعه‌دهندگان می‌شود بدون اینکه آنها نیاز داشته باشند کدهای سطح پایین را خودشان بنویسند.\n",
    "</div>\n",
    "<br />\n",
    "<div dir=\"rtl\">\n",
    "مثال‌هایی از API‌هایی با کتابخانه‌های پایتون عبارتند از Google Maps API که کتابخانه googlemaps را فراهم می‌کند و Twitter API که کتابخانه tweepy را فراهم می‌کند.\n",
    "</div>\n",
    "<br />\n",
    "<div dir=\"rtl\">\n",
    "API بدون یک کتابخانه در پایتون به این معنا است که برای آن API هیچ کتابخانه پایتونی آماده‌ای وجود ندارد و توسعه‌دهندگان نیاز به استفاده از کتابخانه‌های داخلی پایتون یا کتابخانه‌های شخص ثالث برای تعامل با API دارند. این نیاز به نوشتن کدها برای مدیریت جزئیاتی مانند ارسال درخواست‌های HTTP و تجزیه پاسخ‌ها باعث می‌شود که زمان‌برتر و امکان خطا وجود داشته باشد.\n",
    "</div>\n",
    "<br />\n",
    "<div dir=\"rtl\">\n",
    "مثال‌هایی از API‌هایی بدون کتابخانه رسمی پایتون عبارتند از GitHub API. توسعه‌دهندگان باید از کتابخانه requests داخلی پایتون یا کتابخانه شخص ثالث مانند httplib2 برای تعامل با این API‌ها استفاده کنند.\n",
    "</div>"
   ]
  },
  {
   "cell_type": "markdown",
   "metadata": {
    "id": "MtMhKqMK2mLE"
   },
   "source": [
    "<h4 dir=\"rtl\">مثال‌های API</h4>\n",
    "\n",
    "<div dir=\"rtl\">\n",
    "در زیر، چند نمونه از API ها را به همراه مستندات آن‌ها ارائه می‌دهیم. این به شما کمک خواهد کرد تا با امکاناتی که با استفاده از API ها ممکن است، آشنا شوید.\n",
    "</div>\n",
    "<br />\n",
    "<div dir=\"rtl\">\n",
    "توجه کنید که در برخی موارد، از کتابخانه requests برای مدیریت درخواست‌ها استفاده می‌کنیم، در حالی که در موارد دیگر، API همراه با یک کتابخانه خاص برای زبان پایتون ارائه شده است.\n",
    "</div>"
   ]
  },
  {
   "cell_type": "markdown",
   "metadata": {
    "id": "xD0WUmnt1443"
   },
   "source": [
    "<div dir=\"rtl\">\n",
    "NewsAPI یک API خبری است که امکان دسترسی به مقالات و متادیتا از منابع خبری مختلف را فراهم می‌کند. این API دارای کتابخانه‌ی خود به نام newsapi-python است که فرآیند دسترسی به داده‌های API را ساده‌تر می‌کند. مستندات: <a href=\"https://newsapi.org/docs/client-libraries/python\">https://newsapi.org/docs/client-libraries/python</a>\n",
    "</div>"
   ]
  },
  {
   "cell_type": "code",
   "execution_count": null,
   "metadata": {
    "id": "pwVWCQNH16TR"
   },
   "outputs": [],
   "source": [
    "from newsapi import NewsApiClient\n",
    "\n",
    "api_key = \"YOUR_API_KEY\"\n",
    "\n",
    "# Initialize NewsApiClient\n",
    "newsapi = NewsApiClient(api_key=api_key)\n",
    "\n",
    "# Get top headlines from US sources\n",
    "top_headlines = newsapi.get_top_headlines(country='us')\n",
    "\n",
    "# Print the titles of the articles\n",
    "for article in top_headlines['articles']:\n",
    "    print(article['title'])\n"
   ]
  },
  {
   "cell_type": "markdown",
   "metadata": {
    "id": "YYv_lfiF0Cwg"
   },
   "source": [
    "\n",
    "<div dir=\"rtl\">\n",
    "Borna News API - یک API خبری به زبان فارسی است که امکان دسترسی به مقالات و متادیتا اخبار ایران را فراهم می‌کند.\n",
    "</div>\n",
    "\n",
    "<br />\n",
    "\n",
    "<div dir=\"rtl\">\n",
    "دلایل استفاده: ایجاد برنامه‌های خبری به زبان فارسی، تحلیل و پژوهش محتوا، نظارت بر موضوعات مورد علاقه در خبرهای ایران.\n",
    "مستندات: <a dir=\"ltr\" href=\"https://bornanews.ir/api/\">https://bornanews.ir/api/</a>.\n",
    "</div>"
   ]
  },
  {
   "cell_type": "code",
   "execution_count": null,
   "metadata": {
    "id": "e2Aqc1Cv0D2-"
   },
   "outputs": [],
   "source": [
    "import requests\n",
    "\n",
    "api_key = \"YOUR_API_KEY\"\n",
    "\n",
    "url = f'http://bornanews.ir/api/posts.php?key={api_key}&page=1'\n",
    "\n",
    "response = requests.get(url)\n",
    "\n",
    "data = response.json()\n",
    "\n",
    "# Print the title and summary of each article\n",
    "for article in data['items']:\n",
    "    print(f\"{article['title']} - {article['summary']}\")"
   ]
  },
  {
   "cell_type": "markdown",
   "metadata": {
    "id": "iqyJ-Gpdz06g"
   },
   "source": [
    "\n",
    "<div dir=\"rtl\">\n",
    "New York Times API - یک API خبری است که امکان دسترسی به مقالات و متادیتای روزنامه New York Times را فراهم می‌کند.\n",
    "</div>\n",
    "<br />\n",
    "<div dir=\"rtl\">\n",
    "دلایل استفاده: ایجاد برنامه‌های خبری، تحلیل و پژوهش محتوا، نظارت بر موضوعات مورد علاقه در خبرها.\n",
    "</div>\n",
    "<br />\n",
    "<div dir=\"rtl\">\n",
    "مستندات: <a href=\"https://developer.nytimes.com/docs/articlesearch-product/1/overview\" dir=\"ltr\">https://developer.nytimes.com/docs/articlesearch-product/1/overview</a>.\n",
    "</div>"
   ]
  },
  {
   "cell_type": "code",
   "execution_count": null,
   "metadata": {
    "id": "GizeNkLNz0u4"
   },
   "outputs": [],
   "source": [
    "import requests\n",
    "\n",
    "api_key = \"YOUR_API_KEY\"\n",
    "\n",
    "url = f'https://api.nytimes.com/svc/archive/v1/2021/1.json?api-key={api_key}'\n",
    "\n",
    "response = requests.get(url)\n",
    "\n",
    "data = response.json()\n",
    "\n",
    "print(data)"
   ]
  },
  {
   "cell_type": "markdown",
   "metadata": {
    "id": "Z0hssPJ6zxZk"
   },
   "source": [
    "<div dir=\"rtl\">\n",
    "YouTube API - یک API به اشتراک‌گذاری ویدیو است که به کاربران امکان آپلود، به اشتراک گذاری و مشاهده ویدیوها را می‌دهد.\n",
    "</div>\n",
    "<br />\n",
    "<div dir=\"rtl\">\n",
    "دلایل استفاده: ایجاد یک مشتری YouTube، آنالیز ویدیوها، مدیریت ویدیوها و کانال‌ها.\n",
    "</div>\n",
    "<br />\n",
    "<div dir=\"rtl\">\n",
    "مستندات: <a href=\"https://developers.google.com/youtube/v3/docs\" dir=\"ltr\">https://developers.google.com/youtube/v3/docs</a>.\n",
    "</div>"
   ]
  },
  {
   "cell_type": "code",
   "execution_count": null,
   "metadata": {
    "id": "hTADUpd-z0EJ"
   },
   "outputs": [],
   "source": [
    "from googleapiclient.discovery import build\n",
    "\n",
    "api_key = \"YOUR_API_KEY\"\n",
    "\n",
    "youtube = build('youtube', 'v3', developerKey=api_key)\n",
    "\n",
    "request = youtube.search().list(\n",
    "    part='snippet',\n",
    "    q='Python Programming'\n",
    ")\n",
    "\n",
    "response = request.execute()\n",
    "\n",
    "# Print the titles of the videos\n",
    "for item in response['items']:\n",
    "    print(item['snippet']['title'])"
   ]
  },
  {
   "cell_type": "markdown",
   "metadata": {
    "id": "ly0Cjuqu2C-Q"
   },
   "source": [
    "<div dir=\"rtl\">\n",
    "The Guardian API - یک API خبری است که به کاربران امکان دسترسی به مقالات و متادیتایتل‌های The Guardian را می‌دهد.\n",
    "</div>\n",
    "<br />\n",
    "<div dir=\"rtl\">\n",
    "دلایل استفاده: ایجاد برنامه‌های خبری، آنالیز محتوا و تحقیق، نظارت بر موضوعات خبری.\n",
    "مستندات: <a href=\"https://open-platform.theguardian.com/documentation/\" dir=\"ltr\">https://open-platform.theguardian.com/documentation/</a>.\n",
    "</div>"
   ]
  },
  {
   "cell_type": "code",
   "execution_count": null,
   "metadata": {
    "id": "kreLfiMQ2E3z"
   },
   "outputs": [],
   "source": [
    "import requests\n",
    "\n",
    "api_key = \"YOUR_API_KEY\"\n",
    "\n",
    "url = f'https://content.guardianapis.com/search?q=iran&api-key={api_key}'\n",
    "\n",
    "response = requests.get(url)\n",
    "\n",
    "data = response.json()\n",
    "\n",
    "# Print the headline and section of each article\n",
    "for article in data['response']['results']:\n",
    "    print(f\"{article['webTitle']} ({article['sectionName']})\")\n"
   ]
  },
  {
   "cell_type": "markdown",
   "metadata": {
    "id": "2IKS2TDh1es4"
   },
   "source": [
    "<div dir=\"rtl\">\n",
    "Telegram API - یک API پیام‌رسان است که به کاربران امکان ارسال و دریافت پیام، ایجاد گروه‌ها و کانال‌ها، و مدیریت داده‌های کاربر را می‌دهد.\n",
    "</div>\n",
    "<br />\n",
    "<div dir=\"rtl\">\n",
    "دلایل استفاده: ایجاد نسخه سفارشی از Telegram، مدیریت داده‌ها و پیام‌های کاربران، اتوماسیون وظایف پیام‌رسانی.\n",
    "</div>\n",
    "<br />\n",
    "<div dir=\"rtl\">\n",
    "مستندات: <a href=\"https://core.telegram.org/api/\" dir=\"ltr\">https://core.telegram.org/api/</a>.\n",
    "</div>"
   ]
  },
  {
   "cell_type": "code",
   "execution_count": null,
   "metadata": {
    "id": "rYyMk7eH1gwo"
   },
   "outputs": [],
   "source": [
    "import telegram\n",
    "\n",
    "api_key = \"YOUR_API_KEY\"\n",
    "chat_id = \"YOUR_CHAT_ID\"\n",
    "\n",
    "bot = telegram.Bot(token=api_key)\n",
    "\n",
    "# Send a message to a specific chat\n",
    "bot.send_message(chat_id=chat_id, text=\"Hello, World!\")\n"
   ]
  }
 ],
 "metadata": {
  "colab": {
   "provenance": []
  },
  "kernelspec": {
   "display_name": "Python 3 (ipykernel)",
   "language": "python",
   "name": "python3"
  },
  "language_info": {
   "codemirror_mode": {
    "name": "ipython",
    "version": 3
   },
   "file_extension": ".py",
   "mimetype": "text/x-python",
   "name": "python",
   "nbconvert_exporter": "python",
   "pygments_lexer": "ipython3",
   "version": "3.10.11"
  }
 },
 "nbformat": 4,
 "nbformat_minor": 1
}
