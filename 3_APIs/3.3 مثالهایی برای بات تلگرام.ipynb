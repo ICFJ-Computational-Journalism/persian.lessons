{
 "cells": [
  {
   "cell_type": "markdown",
   "metadata": {
    "id": "xan7txWXfp7j"
   },
   "source": [
    "\n",
    "<div dir=\"rtl\">\n",
    "<h3>نمونه‌های ربات تلگرام</h3>\n",
    "</div>"
   ]
  },
  {
   "cell_type": "markdown",
   "metadata": {},
   "source": [
    "<br />\n",
    "\n",
    "<a href=\"https://www.youtube.com/watch?v=30c1pkpkeSU&list=PLY_JJbHwd6kftjlcbtChIKZfEPEfFRGcY&index=5&ab_channel=TheInternationalJournalists%27Network\">\n",
    "<img src=\"https://dotnet-talk.com/images/icfj/3_3.jpg\" width=\"50%\" alt=\"نمونه ربات های تلگرم - ویدیو\" />\n",
    "</a>\n",
    "\n",
    "<br />"
   ]
  },
  {
   "cell_type": "markdown",
   "metadata": {
    "id": "8pwpEhhZzB0i"
   },
   "source": [
    "<div dir=\"rtl\">\n",
    "این درس، بر اساس درس قبلی بنا شده است و به شما کمک می‌کند تا احساس کنید که چه کارکردهای مفیدی با یک ربات ممکن است انجام شود و کد کلیدی مورد نیاز برای تولید آن کارکرد را فراهم می‌کند. ربات‌های تلگرام می‌توانند ابزارهای بسیار ارزشمندی برای خبرنگاران باشند. در اینجا، چند نمونه ارائه می‌دهیم. برای برخی از این نمونه‌ها، کد کلیدی مورد نیاز برای راه‌اندازی ربات را ارائه می‌دهیم - دستوراتی که کاربر می‌تواند برای تعامل با ربات استفاده کند.\n",
    "</div>"
   ]
  },
  {
   "cell_type": "markdown",
   "metadata": {
    "id": "bYdpeEPz1wei"
   },
   "source": [
    "<div dir=\"rtl\">\n",
    "۱. جمع‌آوری داده: ربات‌ها می‌توانند برای جمع‌آوری داده‌ها از کاربران، مانند پاسخ‌های نظرسنجی یا گزارشات شاهدان مورد استفاده قرار گیرند.\n",
    "</div>"
   ]
  },
  {
   "cell_type": "code",
   "execution_count": null,
   "metadata": {
    "id": "jvOF2IOg1s3U"
   },
   "outputs": [],
   "source": [
    "def message(update: Update, context: CallbackContext) -> None:\n",
    "    # 'context.args' is a list of arguments passed after the command.\n",
    "    # We join them into a string 'user_said'.\n",
    "    user_said = ' '.join(context.args)\n",
    "\n",
    "    # The bot sends a message back to the user saying what the user said.\n",
    "    update.message.reply_text(f\"You said: {user_said}\")\n",
    "    \n",
    "    # Open the file 'user_messages.txt' in append mode ('a'). If the file does not exist, it gets created.\n",
    "    # 'with' keyword is used for context management. It automatically closes the file after we're done.\n",
    "    with open('user_messages.txt', 'a') as f:\n",
    "        # Write the user's message at the end of the file. '\\n' is a newline character that separates messages.\n",
    "        f.write(f\"\\n{user_said}\")\n"
   ]
  },
  {
   "cell_type": "markdown",
   "metadata": {
    "id": "gH1QQ3Il4PEx"
   },
   "source": [
    "<div dir=\"rtl\">\n",
    "۲. ترویج محتوا: اگر یک خبرنگار یک مقاله یا پست وب جدید دارد، یک ربات می‌تواند به‌طور خودکار آن را با دنبال‌کنندگان خود به اشتراک بگذارد.\n",
    "</div>"
   ]
  },
  {
   "cell_type": "code",
   "execution_count": null,
   "metadata": {
    "id": "qmIT7diP3_Sz"
   },
   "outputs": [],
   "source": [
    "def latest(update: Update, context: CallbackContext) -> None:\n",
    "    # Open the file 'latest_info.txt' in read mode ('r').\n",
    "    # If the file does not exist, Python will throw an error.\n",
    "    with open('latest_info.txt', 'r') as f:\n",
    "        # Read the entire content of the file into the string 'latest_info'.\n",
    "        latest_info = f.read()\n",
    "\n",
    "    # The bot sends the content of 'latest_info' as a message to the user.\n",
    "    update.message.reply_text(latest_info)"
   ]
  },
  {
   "cell_type": "markdown",
   "metadata": {
    "id": "p8NP5__E4rXs"
   },
   "source": [
    "<div dir=\"rtl\">\n",
    "۳. ربات‌های پرسش و پاسخ: این ربات‌ها می‌توانند برنامه‌ریزی شوند تا به سؤالات متداول درباره یک خبر یا یک موضوع پاسخ دهند و خبرنگار را از نیاز به پاسخ به هر سؤال به‌طور جداگانه رها کنند.\n",
    "    <br />\n",
    "۴. ساخت جامعه: ربات می‌تواند برای کمک به تشکیل و مدیریت یک جامعه دیجیتال از شهروندان علاقه‌مند استفاده شود، اطلاعاتی درباره رویدادهای محلی، هماهنگی در تظاهرات صلح‌آمیز و یا سازماندهی کمک به نیازمندان به اشتراک بگذارد.\n",
    "    <br />\n",
    "۵. نظرسنجی و بررسی‌ها: ربات می‌تواند نظرسنجی‌ها و بررسی‌ها را اجرا کند و به جمع‌آوری نظرات عمومی درباره مسائل مهم محلی یا ملی کمک کند.\n",
    "</div>"
   ]
  },
  {
   "cell_type": "code",
   "execution_count": null,
   "metadata": {},
   "outputs": [],
   "source": []
  },
  {
   "cell_type": "code",
   "execution_count": null,
   "metadata": {
    "id": "LAGMcJT84rwa"
   },
   "outputs": [
    {
     "name": "stdout",
     "output_type": "stream",
     "text": [
      "Message(channel_chat_created=False, chat=Chat(first_name='Mat', id=5161600953, type=<ChatType.PRIVATE>), date=datetime.datetime(2023, 7, 10, 22, 26, 4, tzinfo=<UTC>), delete_chat_photo=False, entities=(MessageEntity(length=8, offset=0, type=<MessageEntityType.BOT_COMMAND>),), from_user=User(first_name='Mat', id=5161600953, is_bot=False, language_code='en'), group_chat_created=False, message_id=533, supergroup_chat_created=False, text='/weather')\n",
      "Message(channel_chat_created=False, chat=Chat(first_name='Mat', id=5161600953, type=<ChatType.PRIVATE>), date=datetime.datetime(2023, 7, 10, 22, 26, 38, tzinfo=<UTC>), delete_chat_photo=False, entities=(MessageEntity(length=8, offset=0, type=<MessageEntityType.BOT_COMMAND>),), from_user=User(first_name='Mat', id=5161600953, is_bot=False, language_code='en'), group_chat_created=False, message_id=544, supergroup_chat_created=False, text='/weather')\n",
      "Message(channel_chat_created=False, chat=Chat(first_name='Mat', id=5161600953, type=<ChatType.PRIVATE>), date=datetime.datetime(2023, 7, 10, 22, 27, 4, tzinfo=<UTC>), delete_chat_photo=False, entities=(MessageEntity(length=8, offset=0, type=<MessageEntityType.BOT_COMMAND>),), from_user=User(first_name='Mat', id=5161600953, is_bot=False, language_code='en'), group_chat_created=False, message_id=555, supergroup_chat_created=False, text='/weather')\n"
     ]
    }
   ],
   "source": [
    "import telegram\n",
    "from telegram.ext import CommandHandler, MessageHandler, Updater, Application, filters\n",
    "import asyncio\n",
    "import nest_asyncio\n",
    "import requests\n",
    "import logging\n",
    "\n",
    "nest_asyncio.apply()\n",
    "\n",
    "# General constants\n",
    "TELEGRAM_TOKEN = \"TELEGRAM_TOKEN\"\n",
    "ACU_APIKEY = \"ACU_APIKEY\"\n",
    "Language = \"fa-IR\"\n",
    "WAITING = 0\n",
    "\n",
    "logging.basicConfig(filename='c:\\\\logs\\\\bot.log', encoding='utf-8', level=logging.INFO)\n",
    "\n",
    "async def start(update, context):\n",
    "    message = \"به ربات هواشناسی خوش آمدید \\r\\n\"\n",
    "    message += \"برای دریافت وضعیت هوای شهر مورد نظر /weather را بنویسید\"\n",
    "    await context.bot.send_message(chat_id=update.effective_chat.id, text=message)\n",
    "\n",
    "async def weather(update, context):\n",
    "    global WAITING\n",
    "    WAITING = 1\n",
    "    message = \"نام شهر را وارد کنید:\\r\\n\"\n",
    "    print(update.message)\n",
    "    await context.bot.send_message(chat_id=update.effective_chat.id, text=message)\n",
    "\n",
    "async def handle_message(update, context):\n",
    "    global WAITING\n",
    "    message = update.message\n",
    "\n",
    "    if WAITING != True:\n",
    "        await context.bot.send_message(chat_id=message.chat_id, text=\"ورودی خطا! دوباره تلاش کنید.\")\n",
    "        await start(update, context)\n",
    "        return\n",
    "\n",
    "    await context.bot.send_message(chat_id=message.chat_id, text=\"شما %s را وارد کرده اید\" % (message.text))\n",
    "\n",
    "    try:\n",
    "        get_location_url = \"http://dataservice.accuweather.com/locations/v1/search?apikey=%s&q=%s&language=%s\" % (ACU_APIKEY, message.text, Language)\n",
    "        logging.info(get_location_url)\n",
    "\n",
    "        location_response = requests.get(get_location_url)\n",
    "        \n",
    "        logging.info(location_response.json()[0])\n",
    "        type = location_response.json()[0][\"Type\"]\n",
    "        region = location_response.json()[0][\"Region\"][\"LocalizedName\"]\n",
    "        country = location_response.json()[0][\"Country\"][\"LocalizedName\"]\n",
    "        timezone = location_response.json()[0][\"TimeZone\"][\"Code\"]\n",
    "        key = location_response.json()[0][\"Key\"]\n",
    "        \n",
    "        get_weather_url = \"http://dataservice.accuweather.com/forecasts/v1/daily/1day/%s?apikey=%s&language=%s&details=true&metric=true\" % (key, ACU_APIKEY, Language)\n",
    "        logging.info(get_weather_url)\n",
    "\n",
    "        weather_response = requests.get(get_weather_url)\n",
    "        logging.info(weather_response.json())\n",
    "\n",
    "        await context.bot.send_message(chat_id=message.chat_id, text=\"منطقه وارد شده یک %s می باشد.\" % (type))\n",
    "        await context.bot.send_message(chat_id=message.chat_id, text=\"این شهر در کشور %s قرار دارد.\" % (region))\n",
    "        await context.bot.send_message(chat_id=message.chat_id, text=\"این شهر در منطقه %s قرار دارد.\" % (country))\n",
    "        await context.bot.send_message(chat_id=message.chat_id, text=\"این شهر در منطقه زمانی %s قرار دارد.\" % (timezone))\n",
    "\n",
    "        effective_date = weather_response.json()[\"Headline\"][\"EffectiveDate\"]\n",
    "        text = weather_response.json()[\"Headline\"][\"Text\"]\n",
    "        min_temperatur = weather_response.json()[\"DailyForecasts\"][0][\"Temperature\"][\"Minimum\"][\"Value\"]\n",
    "        max_temperatur = weather_response.json()[\"DailyForecasts\"][0][\"Temperature\"][\"Maximum\"][\"Value\"]\n",
    "\n",
    "        await context.bot.send_message(chat_id=message.chat_id, text=\"تاریخ امروز %s\" % (effective_date))\n",
    "        await context.bot.send_message(chat_id=message.chat_id, text=\"وضعیت هوا %s\" % (text))\n",
    "        await context.bot.send_message(chat_id=message.chat_id, text=\"کمینه دما %s و بیشینه دما %s می باشد.\" % (min_temperatur, max_temperatur))\n",
    "\n",
    "    except Exception as e:\n",
    "        logging.error(str(e))\n",
    "        await context.bot.send_message(chat_id=message.chat_id, text=\"شهر وارد شده در دیتابیس AcuWeather وجود ندارد.\")\n",
    "        await start(update, context)\n",
    "\n",
    "    WAITING = False\n",
    "\n",
    "async def bot_start():\n",
    "    application = Application.builder().token(TELEGRAM_TOKEN).build()\n",
    "\n",
    "    application.add_handler(CommandHandler(\"start\", start))\n",
    "    application.add_handler(CommandHandler(\"weather\", weather))\n",
    "    application.add_handler(MessageHandler(filters.ALL, handle_message))\n",
    "    application.run_polling()\n",
    "\n",
    "await bot_start()"
   ]
  },
  {
   "cell_type": "markdown",
   "metadata": {
    "id": "CiBrvOhC1yGo"
   },
   "source": [
    "<div dir=\"rtl\">\n",
    "<p>همین است! توجه کنید که همه این ایده‌ها می‌توانند با رباتی که در دفترچه یادداشت قبلی ساختیم، یکپارچه شوند.</p>\n",
    "</div>"
   ]
  }
 ],
 "metadata": {
  "colab": {
   "provenance": []
  },
  "kernelspec": {
   "display_name": "Python 3 (ipykernel)",
   "language": "python",
   "name": "python3"
  },
  "language_info": {
   "codemirror_mode": {
    "name": "ipython",
    "version": 3
   },
   "file_extension": ".py",
   "mimetype": "text/x-python",
   "name": "python",
   "nbconvert_exporter": "python",
   "pygments_lexer": "ipython3",
   "version": "3.10.11"
  }
 },
 "nbformat": 4,
 "nbformat_minor": 1
}
