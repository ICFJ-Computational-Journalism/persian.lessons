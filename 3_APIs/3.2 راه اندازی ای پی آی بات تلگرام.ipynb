{
 "cells": [
  {
   "cell_type": "markdown",
   "metadata": {
    "id": "NFGOz_4wAycw"
   },
   "source": [
    "<h2 dir=\"rtl\">ساخت یک ربات تلگرام</h2>"
   ]
  },
  {
   "cell_type": "markdown",
   "metadata": {},
   "source": [
    "<br />\n",
    "\n",
    "<a href=\"https://www.youtube.com/watch?v=VBEASbBovNY&list=PLY_JJbHwd6kftjlcbtChIKZfEPEfFRGcY&index=4&ab_channel=TheInternationalJournalists%27Network\">\n",
    "<img src=\"https://dotnet-talk.com/images/icfj/3_2.jpg\" width=\"50%\" alt=\"ساخت یک ربات تلگرام - ویدیو\" />\n",
    "</a>\n",
    "\n",
    "<br />"
   ]
  },
  {
   "cell_type": "markdown",
   "metadata": {
    "id": "g1nNJOI8AtUY"
   },
   "source": [
    "<div dir=\"rtl\">\n",
    "در اینجا، من یک مثال از یک ربات تلگرام را برای شما ارائه می‌دهم که نشان می‌دهد چگونه ربات‌ها می‌توانند به خبرنگاران کمک کنند. من معتقدم که این نمونه به شما نمایی از امکانات و مزایایی که ربات‌ها برای تقویت نقش خبرنگاران و بهبود فرآیند انتشار خبرها می‌توانند داشته باشند، می‌دهد.\n",
    "</div>\n",
    "<br />\n",
    "<div dir=\"rtl\">\n",
    "ما یک ربات تلگرام را ایجاد خواهیم کرد که به خبرنگاران و علاقمندان به خبرها کمک می‌کند تا با خبرهای ایرانی به‌روز بمانند. ربات به کاربران امکان برقراری تعامل با ارسال دستورات را می‌دهد. هنگامی که کاربران با ربات گفتگو را شروع می‌کنند، یک پیام خوشامد به آنها ارسال می‌شود که ویژگی‌های ربات را معرفی می‌کند. با استفاده از دستور /خبر، کاربران قادر خواهند بود آخرین مقالات خبری از منابع خوراک خبری (RSS) مختلف ایرانی را درخواست کنند. ربات خبرها را، شامل عناوین، توضیحات و لینک‌ها، دریافت کرده و آنها را به کاربر در قالبی منظم و قابل خواندن برمی‌گرداند. اینطوری، کاربران به راحتی می‌توانند به خبرهای ایرانی مستقیماً درون پلتفرم پیام‌رسان تلگرام دسترسی داشته باشند. ربات ما فرآیند انتشار خبرها را ساده می‌کند و تجربه‌ای بی‌دردسر و کاربرپسند برای دسترسی به خبرهای ایرانی فعلی فراهم می‌کند.\n",
    "</div>"
   ]
  },
  {
   "cell_type": "markdown",
   "metadata": {
    "id": "iqyyCZbcBkWs"
   },
   "source": [
    "\n",
    "<div dir=\"rtl\">\n",
    "ساخت ربات ما شامل پنج مؤلفه کلیدی است:\n",
    "</div>\n",
    "<br />\n",
    "\n",
    "<ol dir=\"rtl\">\n",
    "<li>راه‌اندازی ربات تلگرام با استفاده از BotFather</li>\n",
    "<li>انجام تنظیمات اولیه در پایتون: نصب و وارد کردن کتابخانه‌ها و مقداردهی اولیه به ربات</li>\n",
    "<li>تعریف دستوراتی که به کاربر امکان تعامل با ربات و دریافت اطلاعات مورد نیاز را می‌دهند</li>\n",
    "<li>دریافت و پردازش اطلاعات (اخبار) که ربات به کاربران ارائه می‌دهد</li>\n",
    "<li>نوشتن کدی که ربات را راه‌اندازی کند و دستورات تعریف شده در مرحله 2 را در خود جای دهد</li>\n",
    "</ol>"
   ]
  },
  {
   "cell_type": "markdown",
   "metadata": {
    "id": "lCbipwYGyV68"
   },
   "source": [
    "<div dir=\"rtl\">\n",
    "در ادامه، یک راهنمایی برای راه‌اندازی ربات در تلگرام را برای شما تهیه کرده‌ام. این راهنما همچنین ایده‌ها و کدهای ابتدایی برای برخی از امکانات را ارائه می‌دهد. در این راهنما، مثالی خاص را بررسی خواهیم کرد که در آن یک ربات ساده در تلگرام را ایجاد می‌کنیم.\n",
    "</div>"
   ]
  },
  {
   "cell_type": "markdown",
   "metadata": {
    "id": "odsKh2c7ya57"
   },
   "source": [
    "<div dir=\"rtl\">\n",
    "شما می‌توانید با دنبال کردن این مراحل، یک ربات با استفاده از BotFather راه‌اندازی کنید:\n",
    "</div>\n",
    "<br />\n",
    "<ol dir=\"rtl\">\n",
    "<li>روی دستگاه خود، اپلیکیشن تلگرام را باز کنید.</li>\n",
    "<li>در نوار جستجو، \"BotFather\" را تایپ کنید. این ربات تلگرام است که به شما امکان ایجاد و مدیریت ربات‌های دیگر را می‌دهد.</li>\n",
    "<li>با BotFather گفتگویی را آغاز کنید. دستور <span dir=\"ltr\">\"/start\"</span> را ارسال کنید تا گفتگو شروع شود.</li>\n",
    "<li>حالا برای ایجاد یک ربات جدید، دستور <span dir=\"ltr\">\"/newbot\"</span> را تایپ و ارسال کنید. BotFather سپس شما را دعوت می‌کند تا یک نام برای ربات خود انتخاب کنید.</li>\n",
    "<li>بعد از انتخاب نام، نیاز دارید تا یک نام کاربری برای ربات خود انتخاب کنید. نام کاربری باید با \"bot\" ختم شود و باید منحصر به فرد باشد.</li>\n",
    "<li>اگر ربات با موفقیت ایجاد شود، BotFather یک توکن به شما می‌دهد. این توکن یک رشته است که برای احراز هویت ربات و ارسال درخواست‌ها به رابط برنامه‌نویسی ربات استفاده می‌شود. آن را به دقت ذخیره کنید.</li>\n",
    "</ol>\n",
    "<br />\n",
    "<div dir=\"rtl\">\n",
    "برای مشاهده اطلاعات به‌روز در مورد BotFather، به <a href=\"https://core.telegram.org/bots/features#botfather\">Telegram Bot Features</a> مراجعه کنید.\n",
    "</div>\n",
    "\n"
   ]
  },
  {
   "cell_type": "markdown",
   "metadata": {
    "id": "c1IE3OXCy4Bd"
   },
   "source": [
    "<div dir=\"rtl\">\n",
    "توکن ربات شما در واقع یک رمز عبور محرمانه است. اگر کسی دیگر به آن دسترسی پیدا کند، می‌تواند ربات شما را کنترل کرده و برای اهداف خود استفاده کند. به همین دلیل، حفظ این توکن به شدت ضروری است. در درس قبلی \"API چیست؟\"، ما نکاتی برای حفظ امنیت اطلاعات این چنینی ارائه داده‌ایم.\n",
    "</div>\n",
    "<br />\n",
    "<div dir=\"rtl\">\n",
    "حالا با استفاده از توکنی که دریافت کردید، ربات خود را مقدماتی ایجاد می‌کنیم.\n",
    "</div>"
   ]
  },
  {
   "cell_type": "code",
   "execution_count": null,
   "metadata": {},
   "outputs": [],
   "source": [
    "!pip3 install telegram==0.0.1\n",
    "!pip3 install feedparser==6.0.10\n",
    "!pip3 install telegram.ext==1.0.0\n",
    "!pip3 install asyncio==3.4.3\n",
    "!pip3 install nest-asyncio==1.5.6"
   ]
  },
  {
   "cell_type": "code",
   "execution_count": null,
   "metadata": {
    "id": "H8ao_TZ1CyqY"
   },
   "outputs": [],
   "source": [
    "import telegram\n",
    "import feedparser #We will use this for pulling from RSS feeds to get the news content that we will serve to users\n",
    "from telegram.ext import CommandHandler, MessageHandler, Updater, Application\n",
    "import asyncio\n",
    "\n",
    "\n",
    "# Telegram Bot API Token\n",
    "TOKEN = \"TOKEN\"\n",
    "\n",
    "# Initialize the Telegram bot\n",
    "bot = telegram.Bot(token=TOKEN)\n"
   ]
  },
  {
   "cell_type": "markdown",
   "metadata": {
    "id": "1LFklaQTDf66"
   },
   "source": [
    "Now we move on to defining the key commands."
   ]
  },
  {
   "cell_type": "code",
   "execution_count": null,
   "metadata": {
    "id": "cHjDvDhFDh-s"
   },
   "outputs": [],
   "source": [
    "async def start(update, context):\n",
    "    \"\"\"Handler for the /start command.\"\"\"\n",
    "    message = \"Welcome to Khabar Khanbot!\\n\"\n",
    "    message += \"Send /news to get the latest news updates.\"\n",
    "    await context.bot.send_message(chat_id=update.effective_chat.id, text=message)\n",
    "\n",
    "async def news(update, context):\n",
    "    \"\"\"Handler for the /news command.\"\"\"\n",
    "    # Fetch news items\n",
    "    news_items = fetch_news()\n",
    "\n",
    "    # Send news to the user\n",
    "    for news_item in news_items:\n",
    "        # Construct the message\n",
    "        message = f\"{news_item['title']}\\n\\n\"\n",
    "        message += f\"{news_item['description']}\\n\\n\"\n",
    "        message += f\"Read more: {news_item['link']}\"\n",
    "\n",
    "        await context.bot.send_message(chat_id=update.effective_chat.id, text=message)"
   ]
  },
  {
   "cell_type": "markdown",
   "metadata": {
    "id": "t5KwfdmcDmke"
   },
   "source": [
    "<div dir=\"rtl\">\n",
    "<span style=\"color: orange\" dir=\"ltr\">start(update, context)</span>: این تابع به عنوان دستگیره (handler) برای دستور <span style=\"color: orange\" dir=\"ltr\">/start</span> عمل می‌کند. وقتی کاربر دستور <span style=\"color: orange\" dir=\"ltr\">/start</span> را به ربات ارسال می‌کند، این تابع فعال می‌شود. این تابع یک پیام خوشامد را به کاربر ارسال می‌کند و اطلاعاتی درباره قابلیت‌ها و نحوه تعامل با ربات را به او ارائه می‌دهد. پارامتر <span style=\"color: orange\" dir=\"ltr\">update</span> شامل اطلاعات دریافتی پیام است، در حالی که پارامتر <span style=\"color: orange\" dir=\"ltr\">context</span> قابلیت‌ها و متغیرهای مربوط به پردازش دستور را فراهم می‌کند.</span>\n",
    "</div>\n",
    "\n",
    "<br />\n",
    "\n",
    "<div dir=\"rtl\">\n",
    "<span style=\"color: orange\" dir=\"ltr\">news(update, context)</span>: این تابع به عنوان دستگیره (handler) برای دستور <span style=\"color: orange\" dir=\"ltr\">/news</span> عمل می‌کند. وقتی کاربر دستور `/news` را به ربات ارسال می‌کند، این تابع اجرا می‌شود. این تابع تابع <span style=\"color: orange\" dir=\"ltr\">fetch_news()</span> را فراخوانی می‌کند تا آخرین موارد خبری را از فیدهای RSS دریافت کند. سپس بر روی موارد خبری حلقه زده و یک پیام برای هر مورد ساخته می‌شود که شامل عنوان، توضیحات و لینک است. پیام‌ها سپس به کاربر ارسال می‌شوند.\n",
    "</div>"
   ]
  },
  {
   "cell_type": "markdown",
   "metadata": {
    "id": "KltTdTsZARN7"
   },
   "source": [
    "<div dir=\"rtl\">\n",
    "توجه کنید که تابع خبرها که در بالا توضیح داده شده، به تابع fetch_news وابستگی دارد که تاکنون تعریف نکرده‌ایم. حالا آن را تعریف می‌کنیم:\n",
    "</div>"
   ]
  },
  {
   "cell_type": "code",
   "execution_count": null,
   "metadata": {
    "id": "eTCA1B0nAL15"
   },
   "outputs": [],
   "source": [
    "# Iranian RSS feed URLs\n",
    "rss_feeds = [\n",
    "    'https://www.isna.ir/rss',\n",
    "    'https://en.mehrnews.com/rss'\n",
    "]\n",
    "\n",
    "def fetch_news():\n",
    "    news_items = []\n",
    "\n",
    "    # Fetch news from RSS feeds\n",
    "    for feed_url in rss_feeds:\n",
    "        feed = feedparser.parse(feed_url)\n",
    "\n",
    "        # Extract news items from the feed\n",
    "        for entry in feed.entries[:3]:\n",
    "            title = entry.title\n",
    "            link = entry.link\n",
    "            description = entry.description\n",
    "\n",
    "            # Create a dictionary with news item details\n",
    "            news_item = {\n",
    "                'title': title,\n",
    "                'link': link,\n",
    "                'description': description\n",
    "            }\n",
    "\n",
    "            news_items.append(news_item)\n",
    "\n",
    "    return news_items"
   ]
  },
  {
   "cell_type": "markdown",
   "metadata": {
    "id": "4E24Mn8RAIyJ"
   },
   "source": [
    "\n",
    "<div dir=\"rtl\">\n",
    "Feedparser یک کتابخانه مناسب برای دریافت اطلاعات از فیدهای RSS است. تابع fetch_news از کتابخانه feedparser استفاده می‌کند تا فیدهای RSS را تجزیه کرده و اطلاعات مربوطه مانند عنوان، توضیحات و لینک خبر را استخراج کند. این تابع یک لیست از دیکشنری‌ها برمی‌گرداند، که هر دیکشنری نماینده یک مورد خبری است و شامل عنوان، لینک و توضیحات است.\n",
    "</div>"
   ]
  },
  {
   "cell_type": "markdown",
   "metadata": {
    "id": "7ExOJLtIEq2c"
   },
   "source": [
    "<div dir=\"rtl\">\n",
    "حالا که دستوراتمان را تعریف کردیم، آماده‌ایم آن‌ها را به بات خود متصل کنیم.\n",
    "</div>"
   ]
  },
  {
   "cell_type": "code",
   "execution_count": null,
   "metadata": {
    "id": "qxJo8G1u_Ncu"
   },
   "outputs": [],
   "source": [
    "async def bot_start():\n",
    "    application = Application.builder().token(TOKEN).build()\n",
    "\n",
    "    # on different commands - answer in Telegram\n",
    "    application.add_handler(CommandHandler(\"start\", start))\n",
    "    application.add_handler(CommandHandler(\"news\", news))\n",
    "\n",
    "    # on non command i.e message - echo the message on Telegram\n",
    "\n",
    "    # Run the bot until the user presses Ctrl-C\n",
    "    application.run_polling()"
   ]
  },
  {
   "cell_type": "code",
   "execution_count": null,
   "metadata": {},
   "outputs": [],
   "source": [
    "import nest_asyncio\n",
    "nest_asyncio.apply()\n",
    "\n",
    "await bot_start()"
   ]
  },
  {
   "cell_type": "markdown",
   "metadata": {
    "id": "5xIb2E47FZtH"
   },
   "source": [
    "<div dir=\"rtl\">\n",
    "اگرچه تمامی کد در بالا برای راه‌اندازی بات ضروری است، اما ضروری نیست که شما درک کاملی از نحوه کار آن داشته باشید. مهم در مورد کد بالا درک CommandHandlers است. در این قسمت، دستورات خود را به بات متصل می‌کنیم. در هنگام ایجاد یک نمونه از CommandHandler، رشته دستور (مانند <span style=\"color: orange\" dir=\"ltr\">/start</span>، <span style=\"color: orange\" dir=\"ltr\">/news</span>) را به عنوان آرگومان اول مشخص می‌کنید. این نشان می‌دهد که دستوری که موجب فعال شدن این قسمت می‌شود چیست. علاوه بر این، نام تابعی که باید هنگام دریافت دستور اجرا شود را مشخص می‌کنید، در این مورد تابع start و تابع news به ترتیب.\n",
    "</div>\n",
    "<br />\n",
    "<div dir=\"rtl\">\n",
    "اگر می‌خواهید یک دستور دیگر را به ربات خود اضافه کنید، باید یک CommandHandler دیگر ایجاد کرده و آن را به dispatcher متصل کنید. فرض کنید یک دستور دیگر به نام `/week` دارید که خلاصه‌ای از اخبار هفته گذشته را ارائه می‌دهد و می‌خواهید آن را به تابعی به نام 'week' مرتبط کنید. در این صورت، کد زیر را اضافه می‌کنید.\n",
    "</div>\n",
    "<br />\n",
    "\n",
    "```\n",
    "week_handler = CommandHandler('week', week)\n",
    "\n",
    "dispatcher.add_handler(week_handler)\n",
    "```"
   ]
  },
  {
   "cell_type": "markdown",
   "metadata": {
    "id": "WCoQneiQjsCs"
   },
   "source": [
    "<div dir=\"rtl\">\n",
    "در نهایت، توجه کنید که برای عملکرد ربات، کد پایتون باید روی کامپیوتر شما اجرا شده باقی بماند و کامپیوتر شما باید به اینترنت متصل باشد. به عنوان جایگزین، برای داشتن یک برنامه پایدارتر، می‌توانید یک محیط ابری راه‌اندازی کنید تا کد پایتون را در آن اجرا کنید.\n",
    "</div>"
   ]
  },
  {
   "cell_type": "markdown",
   "metadata": {
    "id": "2iB2KfvZIKXh"
   },
   "source": [
    "<h4 dir=\"rtl\">\n",
    "توضیحات پایانی:\n",
    "</h4>"
   ]
  },
  {
   "cell_type": "markdown",
   "metadata": {
    "id": "YXrTj2PjHHRF"
   },
   "source": [
    "<div dir=\"rtl\">\n",
    "در اینجا بطور کلی با استفاده های قدرتمند ربات های تلگرام را آشنا شدید. امیدوارم که این مطلب بر شما کمک کننده بود و برخی ایده های جدید را به ذهن شما آورده باشد. در ادامه، چند ایده دیگر برای توسعه ربات ها را بررسی می کنیم:\n",
    "</div>\n",
    "\n",
    "<br />\n",
    "<ol dir=\"rtl\">\n",
    "<li>اضافه کردن تحلیل و توضیحات: به علاوه مقالات خبری از فید های RSS، خبرنگاران می توانند تحلیل و توضیحات خود را اضافه کنند تا زمینه و منظری را برای خبر ایجاد کنند. آنها می توانند در مورد اهمیت خبر، پیامدهای آن یا هر گونه اطلاعات اضافی که از طریق گزارشگری خود جمع آوری کرده اند، نظرات خود را به اشتراک بگذارند.</li>\n",
    "<li>ارائه محتوای تولید شده توسط کاربران: شما می توانید مخاطبان خود را تشویق کنید تا محتوای تولید شده توسط کاربران را مانند گزارشات شاهد، عکس ها یا ویدیوهای مربوط به رویدادهای خبری پذیرا باشید. این رویکرد همکاری می تواند پوشش را بهبود بخشد و منظری گسترده تر را درباره خبرها ارائه دهد.</li>\n",
    "<li>گزارشگری تحقیقاتی: فید های RSS می توانند به عنوان نقطه شروعی برای خبرنگاران برای شناسایی نشانه ها یا داستان های مرتبط با عموم مفید باشند. آنها می توانند با انجام تحقیقات عمیق، مصاحبه ها یا تجزیه و تحلیل داده ها، داستان های مهمی که ممکن است چشم پوشی شده اند را کشف کنند.</li>\n",
    "</ol>\n",
    "</div>\n",
    "\n",
    "\n",
    "<div dir=\"rtl\">\n",
    "در درس بعدی، کد شروعی برای چند ایده دیگر برای ربات ها را ارائه خواهیم داد.\n",
    "</div>\n",
    "\n",
    "\n"
   ]
  }
 ],
 "metadata": {
  "colab": {
   "provenance": []
  },
  "kernelspec": {
   "display_name": "Python 3 (ipykernel)",
   "language": "python",
   "name": "python3"
  },
  "language_info": {
   "codemirror_mode": {
    "name": "ipython",
    "version": 3
   },
   "file_extension": ".py",
   "mimetype": "text/x-python",
   "name": "python",
   "nbconvert_exporter": "python",
   "pygments_lexer": "ipython3",
   "version": "3.10.11"
  }
 },
 "nbformat": 4,
 "nbformat_minor": 1
}
